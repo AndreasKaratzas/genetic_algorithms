{
 "cells": [
  {
   "cell_type": "code",
   "execution_count": 1,
   "metadata": {},
   "outputs": [],
   "source": [
    "import numpy\n",
    "import pandas"
   ]
  },
  {
   "cell_type": "code",
   "execution_count": 2,
   "metadata": {},
   "outputs": [],
   "source": [
    "# import initial dataset\n",
    "input_df = pandas.read_csv('u.data', encoding='utf-8', delimiter='\\t', engine='python')\n",
    "input_df.columns = ['userid', 'movieid', 'ratings', 'timestamp']\n",
    "input_df = input_df.drop(columns='timestamp')\n",
    "tabular_df_raw = input_df.pivot(index='userid', columns='movieid', values='ratings')\n",
    "tabular_df = tabular_df_raw.fillna(0)\n",
    "tabular_np = tabular_df.to_numpy()"
   ]
  },
  {
   "cell_type": "code",
   "execution_count": 3,
   "metadata": {},
   "outputs": [],
   "source": [
    "# import GA results\n",
    "data = pandas.read_csv('universe.txt',  delimiter=',', engine='python', header=None)"
   ]
  },
  {
   "cell_type": "code",
   "execution_count": 4,
   "metadata": {},
   "outputs": [
    {
     "name": "stdout",
     "output_type": "stream",
     "text": [
      "User:  0 \tNumber of non-zero elements:  272\n",
      "User:  1 \tNumber of non-zero elements:  62\n",
      "User:  2 \tNumber of non-zero elements:  54\n",
      "User:  3 \tNumber of non-zero elements:  24\n",
      "User:  4 \tNumber of non-zero elements:  175\n"
     ]
    }
   ],
   "source": [
    "# print number of non zero elements before GA runs\n",
    "for i in range(5):\n",
    "    print('User: ', i, '\\tNumber of non-zero elements: ', numpy.where(tabular_np[i] != 0)[0].shape[0])"
   ]
  },
  {
   "cell_type": "code",
   "execution_count": 6,
   "metadata": {},
   "outputs": [
    {
     "name": "stdout",
     "output_type": "stream",
     "text": [
      "User:  0 \tNumber of non-zero elements:  1044\n",
      "User:  1 \tNumber of non-zero elements:  1000\n",
      "User:  2 \tNumber of non-zero elements:  1085\n",
      "User:  3 \tNumber of non-zero elements:  915\n",
      "User:  4 \tNumber of non-zero elements:  1128\n"
     ]
    }
   ],
   "source": [
    "# print number of non zero elements after GA runs\n",
    "for c, i in enumerate(data.head(5).iterrows()):\n",
    "    print('User: ', c, '\\tNumber of non-zero elements: ', numpy.where((i[1] != 0).to_numpy())[0].shape[0])"
   ]
  },
  {
   "cell_type": "code",
   "execution_count": null,
   "metadata": {},
   "outputs": [],
   "source": []
  }
 ],
 "metadata": {
  "kernelspec": {
   "display_name": "Python 3",
   "language": "python",
   "name": "python3"
  },
  "language_info": {
   "codemirror_mode": {
    "name": "ipython",
    "version": 3
   },
   "file_extension": ".py",
   "mimetype": "text/x-python",
   "name": "python",
   "nbconvert_exporter": "python",
   "pygments_lexer": "ipython3",
   "version": "3.7.6"
  }
 },
 "nbformat": 4,
 "nbformat_minor": 4
}
