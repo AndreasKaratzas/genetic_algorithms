{
 "cells": [
  {
   "cell_type": "code",
   "execution_count": 1,
   "metadata": {},
   "outputs": [],
   "source": [
    "import tqdm\n",
    "import numpy\n",
    "import pandas\n",
    "import scipy.spatial\n",
    "import matplotlib.pyplot"
   ]
  },
  {
   "cell_type": "code",
   "execution_count": 2,
   "metadata": {},
   "outputs": [],
   "source": [
    "# hyperparameters used only when convergence method is 'best_chr'\n",
    "BEST_CHROMOSOME_CONVERGENCE_LIMIT = 10\n",
    "BEST_CHROMOSOME_CONVERGENCE_COUNTER = 0"
   ]
  },
  {
   "cell_type": "code",
   "execution_count": 3,
   "metadata": {},
   "outputs": [],
   "source": [
    "# hyperparameters used only when convergence method is 'percentage'\n",
    "PERCENTAGE_CHROMOSOME_CONVERGENCE_LIMIT = 1e-2"
   ]
  },
  {
   "cell_type": "code",
   "execution_count": 4,
   "metadata": {},
   "outputs": [],
   "source": [
    "def initialize_hyperparameters():\n",
    "    MUTATION_PROBABILITY = 0.2\n",
    "    CROSSOVER_PROBABILITY = 0.9\n",
    "    POPULATION_SIZE = 20\n",
    "    # if K_NEIGHBORS is an odd number, then the algorithm might not work\n",
    "    K_NEIGHBORS = 10\n",
    "    GENERATIONS = 10000\n",
    "    # options are: 'roulette wheel', 'rank', 'tournament'\n",
    "    SELECTION_METHOD = 'tournament'\n",
    "    # options are: 'single point', 'multiple point', 'uniform point', 'OX', 'PMX'\n",
    "    CROSSOVER_METHOD = 'multiple point'\n",
    "    # options are: 'random', 'elitism' for the first value, and 'gauss', 'reset' for the second \n",
    "    MUTATION_METHOD = ['elitism', 'gauss']\n",
    "    # options are: 'binary', 'decimal', 'bucket'\n",
    "    # TODO: Code 'binary' and 'bucket' encoding\n",
    "    ENCODING_METHOD = 'decimal'\n",
    "    # options are: 'best_chr', 'percentage', 'generation'\n",
    "    CONVERGENCE_METHOD = 'generation'\n",
    "    return MUTATION_PROBABILITY, CROSSOVER_PROBABILITY, POPULATION_SIZE, GENERATIONS, SELECTION_METHOD, CROSSOVER_METHOD, MUTATION_METHOD, K_NEIGHBORS, ENCODING_METHOD, CONVERGENCE_METHOD"
   ]
  },
  {
   "cell_type": "code",
   "execution_count": 5,
   "metadata": {},
   "outputs": [],
   "source": [
    "def import_data():\n",
    "    input_df = pandas.read_csv('u.data', encoding='utf-8', delimiter='\\t', engine='python')\n",
    "    input_df.columns = ['userid', 'movieid', 'ratings', 'timestamp']\n",
    "    input_df = input_df.drop(columns='timestamp')\n",
    "    tabular_df_raw = input_df.pivot(index='userid', columns='movieid', values='ratings')\n",
    "    tabular_df = tabular_df_raw.fillna(0)\n",
    "    tabular_np = tabular_df.to_numpy()\n",
    "    return tabular_df, tabular_np"
   ]
  },
  {
   "cell_type": "code",
   "execution_count": 6,
   "metadata": {},
   "outputs": [],
   "source": [
    "def fetch_user_vector(user, tabular_np):\n",
    "    user_vector = tabular_np[user][tabular_np[user] != 0]\n",
    "    user_indeces = numpy.where(tabular_np[user] > 0)\n",
    "    return user_vector.astype(int), user_indeces"
   ]
  },
  {
   "cell_type": "code",
   "execution_count": 7,
   "metadata": {},
   "outputs": [],
   "source": [
    "def evaluate_chromosome(chromosome, optim):\n",
    "    # pearson's correlation metric\n",
    "#     return numpy.corrcoef(chromosome, optim)[0, 1]\n",
    "    # cosine similarity metric\n",
    "#     return 1 - scipy.spatial.distance.cosine(optim, chromosome)\n",
    "    # mse metric\n",
    "#     return 10 - (numpy.square(optim - chromosome)).mean(axis=None)\n",
    "    # number of common elements between chromosomes\n",
    "    return len(numpy.where(chromosome == optim)[0])"
   ]
  },
  {
   "cell_type": "code",
   "execution_count": 8,
   "metadata": {},
   "outputs": [],
   "source": [
    "def fetch_neighborhood(user, tabular_np, k):\n",
    "    user_vector, user_indeces = fetch_user_vector(user, tabular_np)\n",
    "    data_vector = numpy.take(tabular_np, user_indeces, axis=1).astype(numpy.int64)\n",
    "    neighbors_data = numpy.zeros(k, dtype=numpy.float64)\n",
    "    neighbors_indeces = numpy.zeros(k, dtype=int)\n",
    "    for i in range(data_vector.shape[0]):\n",
    "        if i != user:\n",
    "            pearson = evaluate_chromosome(data_vector[i][0], user_vector)\n",
    "            # check if the given vectors have the same non-zero indeces\n",
    "            if numpy.where(user_vector > 0)[0].shape[0] == numpy.where(data_vector[i][0] > 0)[0].shape[0]:\n",
    "                if numpy.where(user_vector > 0)[0] == numpy.where(data_vector[i][0] > 0)[0]:\n",
    "                    # adjust pearson coefficient to minimum for we do not want that vector to be chosen\n",
    "                    pearson = -2\n",
    "                    print('Warning [2]: Same indeces are evaluated [at fetch neighborhood]')\n",
    "            # sort pearson correlation coefficients\n",
    "            for a in range(k):\n",
    "                for b in range(k):\n",
    "                    if neighbors_data[a] < neighbors_data[b]:\n",
    "                        tmp = neighbors_data[b]\n",
    "                        neighbors_data[b] = neighbors_data[a]\n",
    "                        neighbors_data[a] = tmp\n",
    "                        tmp = neighbors_indeces[b]\n",
    "                        neighbors_indeces[b] = neighbors_indeces[a]\n",
    "                        neighbors_indeces[a] = tmp\n",
    "            # check if greater pearson coefficient was found\n",
    "            for j in range(k):\n",
    "                if neighbors_data[j] < pearson:\n",
    "                    neighbors_data[j] = pearson\n",
    "                    neighbors_indeces[j] = i\n",
    "                    break\n",
    "    return neighbors_data, neighbors_indeces"
   ]
  },
  {
   "cell_type": "code",
   "execution_count": 9,
   "metadata": {},
   "outputs": [],
   "source": [
    "def fetch_optim(user, tabular_np, neighbors_indeces):\n",
    "    optim_indeces = numpy.where(tabular_np[user] == 0)[0]\n",
    "    for i in neighbors_indeces:\n",
    "        optim_indeces = numpy.unique(numpy.concatenate((optim_indeces, numpy.where(tabular_np[i] > 0)[0]), 0))\n",
    "    optim_values = numpy.take(tabular_np, optim_indeces, axis=1)\n",
    "    return optim_values, optim_indeces"
   ]
  },
  {
   "cell_type": "code",
   "execution_count": 10,
   "metadata": {},
   "outputs": [],
   "source": [
    "# function that converts parent indeces to the actual population: returns parent pairs [for 10 neighbors: outputs matrix(2x5)]\n",
    "def index_to_chromosome_decode(idx, population):\n",
    "    # reshape indeces to handle them easier [with population size = 10, idx is reshaped to: matrix(5,2)]\n",
    "    idx = idx.reshape(int(population.shape[0]/2), 2)\n",
    "    # define the generation population\n",
    "    generation = None\n",
    "    # convert given indeces to chromosomes \n",
    "    for i in range(int(population.shape[0]/2)):\n",
    "        # extract 2 indeces\n",
    "        X, Y = population[idx[i]]\n",
    "        # stack the chromosomes\n",
    "        if i == 0:\n",
    "            # if loop run for first time, then initialize the generation population\n",
    "            generation = numpy.stack((X, Y))\n",
    "        else:\n",
    "            # after first time, stack chromosomes to the generation population\n",
    "            generation = numpy.vstack((generation, numpy.stack((X, Y))))\n",
    "    # reshape matrix\n",
    "    population = numpy.zeros((int(generation.shape[0]/2), 2, generation[0].shape[0]), dtype=numpy.int64)\n",
    "    for i in range(population.shape[0]):\n",
    "        for j in range(population.shape[1]):\n",
    "            population[i][j] = generation[i * 2 + j]\n",
    "    return population"
   ]
  },
  {
   "cell_type": "code",
   "execution_count": 11,
   "metadata": {},
   "outputs": [],
   "source": [
    "def roulette_wheel_selection(population, optim):\n",
    "    # initialize random sequence\n",
    "    SEQUENCE = numpy.random.uniform(0, 1, population.shape[0])\n",
    "    # get pearsons\n",
    "    pearsons = numpy.zeros((population.shape[0]), dtype=numpy.float64)\n",
    "    # we will add 1 to each value to get positive values and then sum them up to form the roulette\n",
    "    pearsons = numpy.fromiter((evaluate_chromosome(population[i], optim) for i in range(population.shape[0])), pearsons.dtype) + 1\n",
    "    roulette = pearsons / pearsons.sum()\n",
    "    # get parents\n",
    "    parents = numpy.zeros(population.shape[0], dtype=numpy.int64)\n",
    "    for i in range(population.shape[0]):\n",
    "        for c, j in enumerate(roulette):\n",
    "            if roulette[ : c + 1].sum() >= SEQUENCE[i]:\n",
    "                parents[i] = c\n",
    "                break\n",
    "    return index_to_chromosome_decode(parents, population)"
   ]
  },
  {
   "cell_type": "code",
   "execution_count": 12,
   "metadata": {},
   "outputs": [],
   "source": [
    "def rank_selection(population, optim):\n",
    "    # define evaluation vector\n",
    "    pearsons = numpy.zeros((population.shape[0]), dtype=numpy.float64)\n",
    "    # get all chromosome evaluations\n",
    "    pearsons = numpy.fromiter((evaluate_chromosome(population[i], optim) for i in range(population.shape[0])), pearsons.dtype)\n",
    "    # define ranks values vector\n",
    "    rank_vals = numpy.zeros(population.shape[0])\n",
    "    # define ranks indeces vector\n",
    "    rank_indx = numpy.zeros(population.shape[0], dtype=numpy.int64)\n",
    "    # define rank based probabilities vector\n",
    "    probabilities = numpy.zeros(population.shape[0], dtype=numpy.int64)\n",
    "    # deploy rank selection algorithm\n",
    "    for p_counter, j in enumerate(pearsons):\n",
    "        for r_counter, k in enumerate(rank_vals):\n",
    "            # check if rank is lower than evaluation\n",
    "            if j > k:\n",
    "                rank_vals[r_counter] = j\n",
    "                rank_indx[r_counter] = p_counter\n",
    "            # sort ranks values and indeces\n",
    "            for sort_i_indx, i_val in enumerate(rank_vals):\n",
    "                for sort_j_indx, j_val in enumerate(rank_vals):\n",
    "                    if i_val > j_val:\n",
    "                        tmp = j_val\n",
    "                        rank_vals[sort_j_indx] = i_val\n",
    "                        rank_vals[sort_i_indx] = tmp\n",
    "                        tmp = rank_indx[sort_j_indx]\n",
    "                        rank_indx[sort_j_indx] = rank_indx[sort_i_indx]\n",
    "                        rank_indx[sort_i_indx] = tmp\n",
    "    return index_to_chromosome_decode(rank_indx, population)"
   ]
  },
  {
   "cell_type": "code",
   "execution_count": 13,
   "metadata": {},
   "outputs": [],
   "source": [
    "def tournament_selection(population, optim):\n",
    "    # initialize random sequence\n",
    "    SEQUENCE = numpy.random.uniform(0, 1, population.shape[0])\n",
    "    # get pearsons\n",
    "    pearsons = numpy.zeros((population.shape[0]), dtype=numpy.int64)\n",
    "    pearsons = numpy.fromiter((evaluate_chromosome(population[i], optim) for i in range(population.shape[0])), pearsons.dtype)\n",
    "    # get parents\n",
    "    parents = numpy.zeros(population.shape[0], dtype=numpy.int64)\n",
    "    for i in range(population.shape[0]):\n",
    "        k = numpy.ceil(SEQUENCE[i] * 10).astype(numpy.int64)\n",
    "        chromosome_pointers = numpy.random.choice(numpy.arange(population.shape[0]), k)\n",
    "        evaluation = pearsons[chromosome_pointers].max()\n",
    "        if len(numpy.where(pearsons == evaluation)[0]) > 1:\n",
    "            parents[i] = numpy.where(pearsons == evaluation)[0][0]\n",
    "        else:\n",
    "            parents[i] = numpy.where(pearsons == evaluation)[0]\n",
    "    return index_to_chromosome_decode(parents, population)"
   ]
  },
  {
   "cell_type": "code",
   "execution_count": 14,
   "metadata": {},
   "outputs": [],
   "source": [
    "def select_chromosomes(selection_method, population, optim):\n",
    "    parent_pairs = None\n",
    "    if selection_method == 'roulette wheel':\n",
    "        parent_pairs = roulette_wheel_selection(population, optim)\n",
    "    elif selection_method == 'rank':\n",
    "        parent_pairs = rank_selection(population, optim)\n",
    "    elif selection_method == 'tournament':\n",
    "        parent_pairs = tournament_selection(population, optim)\n",
    "    else:\n",
    "        print('Error [1]: Invalid selection method\\nExiting...')\n",
    "        exit()\n",
    "    return parent_pairs"
   ]
  },
  {
   "cell_type": "code",
   "execution_count": 15,
   "metadata": {},
   "outputs": [],
   "source": [
    "def single_point_crossover(parent_pairs, x_probability):\n",
    "    # define random probability sequence\n",
    "    SEQUENCE = numpy.random.uniform(0, 1, parent_pairs.shape[0])\n",
    "    # define new generation population variable\n",
    "    population_hat = None\n",
    "    # perform single point crossover \n",
    "    for i in range(parent_pairs.shape[0]):\n",
    "        X, Y = parent_pairs[i]\n",
    "        # check chromosomes' compatibility in case there is an error\n",
    "        compatible_chromosomes = X.shape == Y.shape\n",
    "        # define max index boundary\n",
    "        chromosome_shape = X.shape[0]\n",
    "        # initialize new chromosome\n",
    "        a, b = numpy.zeros((2, chromosome_shape), dtype=numpy.int64)\n",
    "        if not compatible_chromosomes:\n",
    "            print(\"Error [2]: Incompatible chromosomes (at: single point selection\\nExiting...)\")\n",
    "            exit()\n",
    "        else:\n",
    "            # crossover random point\n",
    "            x_idx = numpy.random.randint(0, chromosome_shape, 1)[0]\n",
    "            # first child chromosome\n",
    "            a = numpy.append(X[:x_idx], Y[x_idx:])\n",
    "            # second child chromosome\n",
    "            b = numpy.append(Y[:x_idx], X[x_idx:])\n",
    "            # crossover with respect to the crossover probability\n",
    "            if SEQUENCE[i] < x_probability:\n",
    "                # append children to form the new population\n",
    "                if i == 0:\n",
    "                    # if loop run for first time, then initialize the generation population\n",
    "                    population_hat = numpy.stack((a, b))\n",
    "                else:\n",
    "                    # after first time, stack chromosomes to the generation population\n",
    "                    population_hat = numpy.vstack((population_hat, numpy.stack((a, b))))\n",
    "            else:\n",
    "                # append parents to the new population\n",
    "                if i == 0:\n",
    "                    # if loop run for first time, then initialize the generation population\n",
    "                    population_hat = numpy.stack((X, Y))\n",
    "                else:\n",
    "                    # after first time, stack chromosomes to the generation population\n",
    "                    population_hat = numpy.vstack((population_hat, numpy.stack((X, Y))))\n",
    "    return population_hat"
   ]
  },
  {
   "cell_type": "code",
   "execution_count": 16,
   "metadata": {},
   "outputs": [],
   "source": [
    "def multiple_point_crossover(parent_pairs, x_probability):\n",
    "    # define random probability sequence\n",
    "    SEQUENCE = numpy.random.uniform(0, 1, parent_pairs.shape[0])\n",
    "    # define new generation population variable\n",
    "    population_hat = None\n",
    "    # perform single point crossover \n",
    "    for i in range(parent_pairs.shape[0]):\n",
    "        X, Y = parent_pairs[i]\n",
    "        # check chromosomes' compatibility in case there is an error\n",
    "        compatible_chromosomes = X.shape == Y.shape\n",
    "        # define max index boundary\n",
    "        chromosome_shape = X.shape[0]\n",
    "        # initialize new chromosome\n",
    "        a, b = numpy.zeros((2, chromosome_shape), dtype=numpy.int64)\n",
    "        if not compatible_chromosomes:\n",
    "            print(\"Error [13]: Incompatible chromosomes (at: multiple point selection\\nExiting...)\")\n",
    "            exit()\n",
    "        else:\n",
    "            # crossover random point\n",
    "            x_idx, y_idx = numpy.sort(numpy.random.randint(0, chromosome_shape, 2))\n",
    "            # first child chromosome\n",
    "            a = numpy.concatenate((X[ :x_idx], Y[x_idx:y_idx], X[y_idx: ]))\n",
    "            # second child chromosome\n",
    "            b = numpy.concatenate((Y[ :x_idx], X[x_idx:y_idx], Y[y_idx: ]))\n",
    "            # crossover with respect to the crossover probability\n",
    "            if SEQUENCE[i] < x_probability:\n",
    "                # append children to form the new population\n",
    "                if i == 0:\n",
    "                    # if loop run for first time, then initialize the generation population\n",
    "                    population_hat = numpy.stack((a, b))\n",
    "                else:\n",
    "                    # after first time, stack chromosomes to the generation population\n",
    "                    population_hat = numpy.vstack((population_hat, numpy.stack((a, b))))\n",
    "            else:\n",
    "                # append parents to the new population\n",
    "                if i == 0:\n",
    "                    # if loop run for first time, then initialize the generation population\n",
    "                    population_hat = numpy.stack((X, Y))\n",
    "                else:\n",
    "                    # after first time, stack chromosomes to the generation population\n",
    "                    population_hat = numpy.vstack((population_hat, numpy.stack((X, Y))))\n",
    "    return population_hat"
   ]
  },
  {
   "cell_type": "code",
   "execution_count": 17,
   "metadata": {},
   "outputs": [],
   "source": [
    "def uniform_crossover(parent_pairs, x_probability):\n",
    "    # define random chromosome probability sequence (to decide randomly whether ot perform crossover or not)\n",
    "    X_SEQUENCE = numpy.random.uniform(0, 1, parent_pairs.shape[0])\n",
    "    # define random element probability sequence (for uniform crossover)\n",
    "    U_SEQUENCE = numpy.random.uniform(0, 1, parent_pairs.shape[0] * parent_pairs.shape[1]).reshape(parent_pairs.shape[0], parent_pairs.shape[1])\n",
    "    # define element probability crossover (for uniform crossover)\n",
    "    CONST_PROB = 0.5\n",
    "    # define new generation population variable\n",
    "    population_hat = None\n",
    "    # perform single point crossover \n",
    "    for i in range(parent_pairs.shape[0]):\n",
    "        X, Y = parent_pairs[i]\n",
    "        # check chromosomes' compatibility in case there is an error\n",
    "        compatible_chromosomes = X.shape == Y.shape\n",
    "        # define max index boundary\n",
    "        chromosome_shape = X.shape[0]\n",
    "        # initialize new chromosome\n",
    "        a, b = numpy.zeros((2, chromosome_shape), dtype=numpy.int64)\n",
    "        if not compatible_chromosomes:\n",
    "            print(\"Error [14]: Incompatible chromosomes (at: multiple point selection)\\nExiting...)\")\n",
    "            exit()\n",
    "        else:\n",
    "            # crossover with respect to the crosover probability\n",
    "            if X_SEQUENCE[i] < x_probability:\n",
    "                # create children\n",
    "                for c, (k, l) in enumerate(zip(X, Y)):\n",
    "                    # repeatedly toss a coin and check with respect to CONST_PROB\n",
    "                    if CONST_PROB > U_SEQUENCE[i][c]:\n",
    "                        # gene exchange\n",
    "                        a[c] = l\n",
    "                        b[c] = k\n",
    "                    else:\n",
    "                        # NO gene exchange\n",
    "                        a[c] = k\n",
    "                        b[c] = l\n",
    "                # append children to form the new population\n",
    "                if i == 0:\n",
    "                    # if loop run for first time, then initialize the generation population\n",
    "                    population_hat = numpy.stack((a, b))\n",
    "                else:\n",
    "                    # after first time, stack chromosomes to the generation population\n",
    "                    population_hat = numpy.vstack((population_hat, numpy.stack((a, b))))\n",
    "            else:\n",
    "                # append parents to the new population\n",
    "                if i == 0:\n",
    "                    # if loop run for first time, then initialize the generation population\n",
    "                    population_hat = numpy.stack((X, Y))\n",
    "                else:\n",
    "                    # after first time, stack chromosomes to the generation population\n",
    "                    population_hat = numpy.vstack((population_hat, numpy.stack((X, Y))))\n",
    "    return population_hat"
   ]
  },
  {
   "cell_type": "code",
   "execution_count": 18,
   "metadata": {},
   "outputs": [],
   "source": [
    "def order_crossover(parent_pairs, x_probability, encoding):\n",
    "    # check if OX can be applied\n",
    "    if encoding != 'bucket':\n",
    "        print(\"Error [5]: Order crossover cannot be applied - Incompatible encoding (at: order crossover\\nExiting...)\")\n",
    "        exit()\n",
    "    else:\n",
    "        # TODO\n",
    "        # build OX code\n",
    "        return"
   ]
  },
  {
   "cell_type": "code",
   "execution_count": 19,
   "metadata": {},
   "outputs": [],
   "source": [
    "def partially_mapped_crossover(parent_pairs, x_probability, encoding):\n",
    "    # check if PMX can be applied\n",
    "    if encoding != 'bucket':\n",
    "        print(\"Error [6]: Parially mapped crossover cannot be applied - Incompatible encoding (at: parially mapped crossover\\nExiting...)\")\n",
    "        exit()\n",
    "    else:\n",
    "        # TODO\n",
    "        # build PMX code\n",
    "        return"
   ]
  },
  {
   "cell_type": "code",
   "execution_count": 20,
   "metadata": {},
   "outputs": [],
   "source": [
    "def crossover_chromosomes(x_probability, x_method, selection_method, population, optim, encoding):\n",
    "    parent_pairs = select_chromosomes(selection_method, population, optim)\n",
    "    population_hat = None\n",
    "    if x_method == 'single point':\n",
    "        population_hat = single_point_crossover(parent_pairs, x_probability)\n",
    "    elif x_method == 'multiple point':\n",
    "        population_hat = multiple_point_crossover(parent_pairs, x_probability)\n",
    "    elif x_method == 'uniform point':\n",
    "        population_hat = uniform_crossover(parent_pairs, x_probability)\n",
    "    elif x_method == 'OX':\n",
    "        population_hat = order_crossover(parent_pairs, x_probability, encoding)\n",
    "    elif x_method == 'PMX':\n",
    "        population_hat = partially_mapped_crossover(parent_pairs, x_probability, encoding)\n",
    "    else:\n",
    "        print('Error [4]: Invalid crossover method [at crossover chromosomes]\\nExiting...')\n",
    "        exit()\n",
    "    # check crossover effect over current generation\n",
    "    if numpy.array_equal(population, population_hat):\n",
    "#         print('Warning [1]: No crossover change in population [at crossover chromosomes]')\n",
    "        return population\n",
    "    else:\n",
    "        return population_hat"
   ]
  },
  {
   "cell_type": "code",
   "execution_count": 21,
   "metadata": {},
   "outputs": [],
   "source": [
    "# returns index of elite chromosome\n",
    "def get_elite_chromosome(population, optim):\n",
    "    idx, val, max_eval = -1, None, 0\n",
    "    for i in range(population.shape[0]):\n",
    "        val = evaluate_chromosome(population[i], optim)\n",
    "        if max_eval < val:\n",
    "            idx = i\n",
    "            max_eval = val\n",
    "    if idx == -1:\n",
    "        print('Error [11]: Invalid elite chromosome index [at get elite chromosome]\\nExiting...')\n",
    "        exit()\n",
    "#     if max_eval < 0:\n",
    "#         print('Warning [5]: Low pearson maximum correlation coefficient\\n\\t\\t\\t[at get elite chromosome]')\n",
    "    return idx"
   ]
  },
  {
   "cell_type": "code",
   "execution_count": 22,
   "metadata": {},
   "outputs": [],
   "source": [
    "def gauss_replacement(chromosome):\n",
    "    # define number of genes\n",
    "    idx_interval = chromosome.shape[0]\n",
    "    # generate random gaussian distribution\n",
    "    GAUSSIAN = numpy.random.normal(loc=3, scale=2.0, size=chromosome.shape[0]).astype(numpy.int64)\n",
    "    # fix lower numbers\n",
    "    GAUSSIAN[GAUSSIAN < 1] = 1\n",
    "    # fix higher numbers\n",
    "    GAUSSIAN[GAUSSIAN > 5] = 5\n",
    "    # define mutated array\n",
    "    mutated_chromosome = numpy.zeros(idx_interval, dtype=numpy.int64)\n",
    "    # define random generator for gene mutation decision\n",
    "    SEQUENCE = numpy.random.uniform(0, 1, idx_interval)\n",
    "    for i in range(idx_interval):\n",
    "        # mutate gene with respect to current SEQUENCE probability\n",
    "        if SEQUENCE[i] > 0.5:\n",
    "            # probability valid, MUTATE\n",
    "            mutated_chromosome[i] = GAUSSIAN[i]\n",
    "        else:\n",
    "            # probability inadequate, NO MUTATION\n",
    "            mutated_chromosome[i] = chromosome[i]\n",
    "    return mutated_chromosome"
   ]
  },
  {
   "cell_type": "code",
   "execution_count": 23,
   "metadata": {},
   "outputs": [],
   "source": [
    "def reset_replacement(chromosome):\n",
    "    # define number of genes\n",
    "    idx_interval = chromosome.shape[0]\n",
    "    # define mutated array\n",
    "    mutated_chromosome = numpy.zeros(idx_interval, dtype=numpy.int64)\n",
    "    # define random generator\n",
    "    SEQUENCE = numpy.random.uniform(0, 1, idx_interval)\n",
    "    for i in range(idx_interval):\n",
    "        # mutate gene with respect to current SEQUENCE probability\n",
    "        if SEQUENCE[i] > 0.5:\n",
    "             # probability valid, MUTATE\n",
    "            mutated_chromosome[i] = numpy.random.randint(1, 6, 1)\n",
    "        else:\n",
    "             # probability inadequate, NO MUTATION\n",
    "            mutated_chromosome[i] = chromosome[i]\n",
    "    return mutated_chromosome"
   ]
  },
  {
   "cell_type": "code",
   "execution_count": 24,
   "metadata": {},
   "outputs": [],
   "source": [
    "def elitism(population, m_probability, m_method, optim):\n",
    "    SEQUENCE = numpy.random.uniform(0, 1, population.shape[0])\n",
    "    mutated_population, mutated_chromosome = None, None\n",
    "    elite_chromosome_idx = get_elite_chromosome(population, optim)\n",
    "    for i in range(population.shape[0]):\n",
    "        chromosome = population[i]\n",
    "        if SEQUENCE[i] < m_probability and i != elite_chromosome_idx:\n",
    "            # mutate chromosome\n",
    "            if m_method[1] == 'gauss':\n",
    "                mutated_chromosome = gauss_replacement(chromosome)\n",
    "            elif m_method[1] == 'reset':\n",
    "                mutated_chromosome = reset_replacement(chromosome)\n",
    "            else:\n",
    "                print('Error [7]: Invalid mutation method combination [at elitism]\\nExiting...')\n",
    "                exit()\n",
    "            # append chromosomes to the mutated population\n",
    "            if i == 0:\n",
    "                # if loop run for first time, then initialize the generation population\n",
    "                mutated_population = mutated_chromosome\n",
    "            else:\n",
    "                # after first time, stack chromosomes to the generation population\n",
    "                mutated_population = numpy.vstack((mutated_population, mutated_chromosome))\n",
    "        else:\n",
    "            # NO mutation\n",
    "            # append chromosomes to the mutated population\n",
    "            if i == 0:\n",
    "                # if loop run for first time, then initialize the generation population\n",
    "                mutated_population = chromosome\n",
    "            else:\n",
    "                # after first time, stack chromosomes to the generation population\n",
    "                mutated_population = numpy.vstack((mutated_population, chromosome))\n",
    "    return mutated_population"
   ]
  },
  {
   "cell_type": "code",
   "execution_count": 25,
   "metadata": {},
   "outputs": [],
   "source": [
    "def random_mutation(population, m_probability, m_method):\n",
    "    SEQUENCE = numpy.random.uniform(0, 1, population.shape[0])\n",
    "    mutated_population, mutated_chromosome = None, None\n",
    "    for i in range(population.shape[0]):\n",
    "        chromosome = population[i]\n",
    "        if SEQUENCE[i] < m_probability:\n",
    "            # mutate chromosome\n",
    "            if m_method[1] == 'gauss':\n",
    "                mutated_chromosome = gauss_replacement(chromosome)\n",
    "            elif m_method[1] == 'reset':\n",
    "                mutated_chromosome = reset_replacement(chromosome)\n",
    "            else:\n",
    "                print('Error [8]: Invalid mutation method combination [at random mutation]\\nExiting...')\n",
    "                exit()\n",
    "            # append chromosomes to the mutated population\n",
    "            if i == 0:\n",
    "                # if loop run for first time, then initialize the generation population\n",
    "                mutated_population = mutated_chromosome\n",
    "            else:\n",
    "                # after first time, stack chromosomes to the generation population\n",
    "                mutated_population = numpy.vstack((mutated_population, mutated_chromosome))\n",
    "        else:\n",
    "            # NO mutation\n",
    "            # append chromosomes to the mutated population\n",
    "            if i == 0:\n",
    "                # if loop run for first time, then initialize the generation population\n",
    "                mutated_population = chromosome\n",
    "            else:\n",
    "                # after first time, stack chromosomes to the generation population\n",
    "                mutated_population = numpy.vstack((mutated_population, chromosome))\n",
    "    return mutated_population"
   ]
  },
  {
   "cell_type": "code",
   "execution_count": 26,
   "metadata": {},
   "outputs": [],
   "source": [
    "def mutate_chromosomes(probability, m_method, population, optim):\n",
    "    population_hat = None\n",
    "    if m_method[0] == 'random':\n",
    "        population_hat = random_mutation(population, probability, m_method)\n",
    "    elif m_method[0] == 'elitism':\n",
    "        population_hat = elitism(population, probability, m_method, optim)\n",
    "    else:\n",
    "        print('Error [10]: Invalid mutation method [at mutate chromosomes]\\nExiting...')\n",
    "        exit()\n",
    "    # check mutation effect over current generation\n",
    "    if numpy.array_equal(population, population_hat):\n",
    "#         print('Warning [3]: No mutation change in population [at mutate chromosomes]')\n",
    "        return population\n",
    "    else:\n",
    "        return population_hat"
   ]
  },
  {
   "cell_type": "code",
   "execution_count": 27,
   "metadata": {},
   "outputs": [],
   "source": [
    "def evaluate_best_chromosome(population, optim):\n",
    "    idx_val = population.shape[0]\n",
    "    pearsons_vector = numpy.zeros(idx_val, dtype=numpy.float64)\n",
    "    for i in range(idx_val):\n",
    "        pearsons_vector[i] = evaluate_chromosome(population[i], optim)\n",
    "    evaluation = pearsons_vector.max()\n",
    "    # return best chromosome evaluation\n",
    "    return evaluation"
   ]
  },
  {
   "cell_type": "code",
   "execution_count": 28,
   "metadata": {},
   "outputs": [],
   "source": [
    "def evaluate_generation(population, optim):\n",
    "    idx_val = population.shape[0]\n",
    "    pearsons_vector = numpy.zeros(idx_val, dtype=numpy.float64)\n",
    "    for i in range(idx_val):\n",
    "        pearsons_vector[i] = evaluate_chromosome(population[i], optim)\n",
    "    evaluation = pearsons_vector.mean()\n",
    "    # return generation evaluation\n",
    "    return evaluation"
   ]
  },
  {
   "cell_type": "code",
   "execution_count": 29,
   "metadata": {},
   "outputs": [],
   "source": [
    "def genetic_algorithm_convergence(evaluation, gen, conv_method, population, optim):\n",
    "    stop = False\n",
    "    if conv_method == 'best_chr':\n",
    "        gen_eval = evaluate_best_chromosome(population, optim)\n",
    "        evaluation[gen] = gen_eval\n",
    "        if evaluation[gen] == evaluation[gen - 1]:\n",
    "            BEST_CHROMOSOME_CONVERGENCE_COUNTER += 1\n",
    "            if BEST_CHROMOSOME_CONVERGENCE_COUNTER > BEST_CHROMOSOME_CONVERGENCE_LIMIT:\n",
    "                stop = True\n",
    "    elif conv_method == 'percentage':\n",
    "        gen_eval = evaluate_generation(population, optim)\n",
    "        evaluation[gen] = gen_eval\n",
    "        if numpy.abs(evaluation[gen] - evaluation[gen - 1]) < PERCENTAGE_CHROMOSOME_CONVERGENCE_LIMIT:\n",
    "            stop = True\n",
    "    elif conv_method == 'generation':\n",
    "        if gen == 0:\n",
    "            print('Warning [4]: Algorithm does not perform early stopping [at genetic algorithm convergence]')\n",
    "    else:\n",
    "        print('Error [9]: Invalid mutation method [at mutate chromosomes]\\nExiting...')\n",
    "        exit()\n",
    "    return stop, evaluation"
   ]
  },
  {
   "cell_type": "code",
   "execution_count": 30,
   "metadata": {},
   "outputs": [],
   "source": [
    "def save_population(user, population, optim):\n",
    "    # save population and optim chromosome using as prefix the user id\n",
    "    numpy.savetxt(\"user_\" + str(user) + \"-optim.txt\", optim.astype(int), fmt='%i', delimiter=\"\\t\")\n",
    "    numpy.savetxt(\"user_\" + str(user) + \"-population.txt\", population.astype(int), fmt='%i', delimiter=\"\\t\")\n",
    "    return"
   ]
  },
  {
   "cell_type": "code",
   "execution_count": 38,
   "metadata": {},
   "outputs": [],
   "source": [
    "def save_evaluations(user, population, optim):\n",
    "    # define pearson correlation coefficient vector\n",
    "    pearsons = numpy.zeros(population.shape[0], dtype=numpy.float64)\n",
    "    # define mse vector\n",
    "    mse = numpy.zeros(population.shape[0], dtype=numpy.float64)\n",
    "    # define common gene counter vector\n",
    "    common_genes = numpy.zeros(population.shape[0], dtype=numpy.int64)\n",
    "    # define cosine similarity vector\n",
    "    cosines = numpy.zeros(population.shape[0], dtype=numpy.float64)\n",
    "    # compute vectors\n",
    "    for i in range(population.shape[0]):\n",
    "        pearsons[i] = numpy.corrcoef(population[i], optim)[0, 1]\n",
    "        mse[i] = (numpy.square(optim - population[i])).mean(axis=None)\n",
    "        common_genes[i] = evaluate_chromosome(population[i], optim)\n",
    "        cosines[i] = 1 - scipy.spatial.distance.cosine(optim, population[i])\n",
    "    # save vectors to txt files using as prefix the user id\n",
    "    numpy.savetxt(\"user_\" + str(user) + \"-pearsons.txt\", pearsons, delimiter=\"\\t\")\n",
    "    numpy.savetxt(\"user_\" + str(user) + \"-mse.txt\", mse, delimiter=\"\\t\")\n",
    "    numpy.savetxt(\"user_\" + str(user) + \"-common_genes.txt\", common_genes.astype(int), fmt='%i', delimiter=\"\\t\")\n",
    "    numpy.savetxt(\"user_\" + str(user) + \"-cosines.txt\", cosines, delimiter=\"\\t\")\n",
    "    return"
   ]
  },
  {
   "cell_type": "code",
   "execution_count": 39,
   "metadata": {},
   "outputs": [],
   "source": [
    "def fit_genetic_algorithm(M_PROBABILITY, X_PROBABILITY, P_SIZE, N_GEN, SEL_M, CROSS_M, MUT_METHOD, K, items, encoding, CONV_M):\n",
    "    for user in tqdm.tqdm_notebook(range(items.shape[0])):\n",
    "        # define evaluations list to plot afterwards\n",
    "        U_EVALS_LIST = list()\n",
    "        # fetch user's rating top - k neighbors (k=10)\n",
    "        neighbors_data, neighbors_indeces = fetch_neighborhood(user, items, K)\n",
    "        # fetch optimal solution vector\n",
    "        optim_values, optim_indeces = fetch_optim(user, items, neighbors_indeces)\n",
    "        # reformat optimal solution vector\n",
    "        # trim non neighbor users\n",
    "        optim_values = optim_values[neighbors_indeces]\n",
    "        # drop zero values\n",
    "        optim_mean = numpy.count_nonzero([optim_values], axis=1)\n",
    "        # find mean of all k vectors and flatten optimal solution to a single vector\n",
    "        optim_values = optim_values.sum(axis=0)\n",
    "        optim_indeces = optim_indeces[optim_values != 0]\n",
    "        optim_values = optim_values[optim_values != 0]\n",
    "        optim_mean = optim_mean[optim_mean != 0]\n",
    "        optim_values = optim_values / optim_mean\n",
    "        # round up mean\n",
    "        optim_values = numpy.ceil(optim_values).astype(numpy.int64)\n",
    "        # random initialize population (chromosomes)\n",
    "        chromosomes = numpy.random.choice(numpy.unique(optim_values), (P_SIZE, optim_values.shape[0]))\n",
    "        # initialize error (evaluation) array\n",
    "        evaluation = numpy.zeros(N_GEN)\n",
    "        # initialize early stopping conditional\n",
    "        stop = False\n",
    "        # fit GA\n",
    "        for gen in tqdm.tqdm_notebook(range(N_GEN)):\n",
    "            # select and crossover population\n",
    "            chromosomes = crossover_chromosomes(X_PROBABILITY, CROSS_M, SEL_M, chromosomes, optim_values, encoding)\n",
    "            # mutate chromosomes\n",
    "            chromosomes = mutate_chromosomes(M_PROBABILITY, MUT_METHOD, chromosomes, optim_values)\n",
    "            # check GA convergence\n",
    "            stop, evaluation = genetic_algorithm_convergence(evaluation, gen, CONV_M, chromosomes, optim_values)\n",
    "            # if GA converges\n",
    "            if stop is True:\n",
    "                # save population\n",
    "                save_population(user, chromosomes, optim_values)\n",
    "                # save different fitness metrics\n",
    "                save_evaluations(user, chromosomes, optim_values)\n",
    "                # stop fitting\n",
    "                break\n",
    "            # custom convergence conditional: evaluate by chromosome accuracy [90% accuracy convergence]\n",
    "            if numpy.mean(numpy.fromiter((evaluate_chromosome(chromosomes[i], optim_values) for i in range(chromosomes.shape[0])), numpy.int64)) / chromosomes[0].shape[0] > 0.9:\n",
    "                # print population accuracy\n",
    "                print(\"Mean accuracy: \", numpy.mean(numpy.fromiter((evaluate_chromosome(chromosomes[i], optim_values) for i in range(chromosomes.shape[0])), numpy.int64)), \"\\tTotal chromosomes: \", chromosomes[0].shape[0])\n",
    "                # save population\n",
    "                save_population(user, chromosomes, optim_values)\n",
    "                # save different fitness metrics\n",
    "                save_evaluations(user, chromosomes, optim_values)\n",
    "                # stop fitting\n",
    "                break\n",
    "            # append mean population fitness\n",
    "            U_EVALS_LIST.append(numpy.mean(numpy.fromiter((evaluate_chromosome(chromosomes[i], optim_values) for i in range(chromosomes.shape[0])), numpy.int64)))\n",
    "        # save population\n",
    "        save_population(user, chromosomes, optim_values)\n",
    "        # save different fitness metrics\n",
    "        save_evaluations(user, chromosomes, optim_values)\n",
    "        # convert mean population fitness list to numpy array\n",
    "        U_EVALS_ARRAY = numpy.asarray(U_EVALS_LIST)\n",
    "        # define x axis of plot\n",
    "        x_axis = numpy.arange(U_EVALS_ARRAY.shape[0])\n",
    "        # plot mean population fitness array\n",
    "        matplotlib.pyplot.plot(x_axis, U_EVALS_ARRAY, label=\"User \" + str(user) + \" - Evaluation\")\n",
    "        matplotlib.pyplot.legend()\n",
    "#         matplotlib.pyplot.show()\n",
    "        # save figure\n",
    "        matplotlib.pyplot.savefig(\"user_\" + str(user) + \"-evaluation.png\", bbox_inches='tight')"
   ]
  },
  {
   "cell_type": "code",
   "execution_count": 40,
   "metadata": {},
   "outputs": [],
   "source": [
    "def main():\n",
    "    # hyperparameter definition\n",
    "    M_PROBABILITY, X_PROBABILITY, P_SIZE, N_GEN, SEL_M, CROSS_M, MUT_METHOD, K, ENC, CONV = initialize_hyperparameters()\n",
    "    # GA fitting data\n",
    "    tabular_df, tabular_np = import_data()\n",
    "    # fit GA\n",
    "    fit_genetic_algorithm(M_PROBABILITY, X_PROBABILITY, P_SIZE, N_GEN, SEL_M, CROSS_M, MUT_METHOD, K, tabular_np, ENC, CONV)"
   ]
  },
  {
   "cell_type": "code",
   "execution_count": 41,
   "metadata": {},
   "outputs": [
    {
     "name": "stderr",
     "output_type": "stream",
     "text": [
      "/home/andreas/anaconda3/lib/python3.7/site-packages/ipykernel_launcher.py:2: TqdmDeprecationWarning: This function will be removed in tqdm==5.0.0\n",
      "Please use `tqdm.notebook.tqdm` instead of `tqdm.tqdm_notebook`\n",
      "  \n"
     ]
    },
    {
     "data": {
      "application/vnd.jupyter.widget-view+json": {
       "model_id": "00341906a64c4ffd943d16612144b24f",
       "version_major": 2,
       "version_minor": 0
      },
      "text/plain": [
       "HBox(children=(FloatProgress(value=0.0, max=943.0), HTML(value='')))"
      ]
     },
     "metadata": {},
     "output_type": "display_data"
    },
    {
     "name": "stderr",
     "output_type": "stream",
     "text": [
      "/home/andreas/anaconda3/lib/python3.7/site-packages/ipykernel_launcher.py:29: TqdmDeprecationWarning: This function will be removed in tqdm==5.0.0\n",
      "Please use `tqdm.notebook.tqdm` instead of `tqdm.tqdm_notebook`\n"
     ]
    },
    {
     "data": {
      "application/vnd.jupyter.widget-view+json": {
       "model_id": "3b9be55647c8483c8bb05e7f003b182e",
       "version_major": 2,
       "version_minor": 0
      },
      "text/plain": [
       "HBox(children=(FloatProgress(value=0.0, max=1000.0), HTML(value='')))"
      ]
     },
     "metadata": {},
     "output_type": "display_data"
    },
    {
     "name": "stdout",
     "output_type": "stream",
     "text": [
      "Warning [4]: Algorithm does not perform early stopping [at genetic algorithm convergence]\n",
      "\n"
     ]
    },
    {
     "name": "stderr",
     "output_type": "stream",
     "text": [
      "/home/andreas/anaconda3/lib/python3.7/site-packages/ipykernel_launcher.py:29: TqdmDeprecationWarning: This function will be removed in tqdm==5.0.0\n",
      "Please use `tqdm.notebook.tqdm` instead of `tqdm.tqdm_notebook`\n"
     ]
    },
    {
     "data": {
      "application/vnd.jupyter.widget-view+json": {
       "model_id": "076e3c40a75140219ad8d0985de589ce",
       "version_major": 2,
       "version_minor": 0
      },
      "text/plain": [
       "HBox(children=(FloatProgress(value=0.0, max=1000.0), HTML(value='')))"
      ]
     },
     "metadata": {},
     "output_type": "display_data"
    },
    {
     "name": "stdout",
     "output_type": "stream",
     "text": [
      "Warning [4]: Algorithm does not perform early stopping [at genetic algorithm convergence]\n",
      "\n"
     ]
    },
    {
     "name": "stderr",
     "output_type": "stream",
     "text": [
      "/home/andreas/anaconda3/lib/python3.7/site-packages/ipykernel_launcher.py:29: TqdmDeprecationWarning: This function will be removed in tqdm==5.0.0\n",
      "Please use `tqdm.notebook.tqdm` instead of `tqdm.tqdm_notebook`\n"
     ]
    },
    {
     "data": {
      "application/vnd.jupyter.widget-view+json": {
       "model_id": "edc72f774d5444c886e668f9a02ed1e7",
       "version_major": 2,
       "version_minor": 0
      },
      "text/plain": [
       "HBox(children=(FloatProgress(value=0.0, max=1000.0), HTML(value='')))"
      ]
     },
     "metadata": {},
     "output_type": "display_data"
    },
    {
     "name": "stdout",
     "output_type": "stream",
     "text": [
      "Warning [4]: Algorithm does not perform early stopping [at genetic algorithm convergence]\n",
      "\n"
     ]
    },
    {
     "name": "stderr",
     "output_type": "stream",
     "text": [
      "/home/andreas/anaconda3/lib/python3.7/site-packages/ipykernel_launcher.py:29: TqdmDeprecationWarning: This function will be removed in tqdm==5.0.0\n",
      "Please use `tqdm.notebook.tqdm` instead of `tqdm.tqdm_notebook`\n"
     ]
    },
    {
     "data": {
      "application/vnd.jupyter.widget-view+json": {
       "model_id": "26f50f5cb9ac41f5b7f66b77ad4f6916",
       "version_major": 2,
       "version_minor": 0
      },
      "text/plain": [
       "HBox(children=(FloatProgress(value=0.0, max=1000.0), HTML(value='')))"
      ]
     },
     "metadata": {},
     "output_type": "display_data"
    },
    {
     "name": "stdout",
     "output_type": "stream",
     "text": [
      "Warning [4]: Algorithm does not perform early stopping [at genetic algorithm convergence]\n",
      "\n"
     ]
    },
    {
     "ename": "KeyboardInterrupt",
     "evalue": "",
     "output_type": "error",
     "traceback": [
      "\u001b[0;31m---------------------------------------------------------------------------\u001b[0m",
      "\u001b[0;31mKeyboardInterrupt\u001b[0m                         Traceback (most recent call last)",
      "\u001b[0;32m<ipython-input-41-c7bc734e5e35>\u001b[0m in \u001b[0;36m<module>\u001b[0;34m\u001b[0m\n\u001b[1;32m      1\u001b[0m \u001b[0;32mif\u001b[0m \u001b[0m__name__\u001b[0m \u001b[0;34m==\u001b[0m \u001b[0;34m'__main__'\u001b[0m\u001b[0;34m:\u001b[0m\u001b[0;34m\u001b[0m\u001b[0;34m\u001b[0m\u001b[0m\n\u001b[0;32m----> 2\u001b[0;31m     \u001b[0mmain\u001b[0m\u001b[0;34m(\u001b[0m\u001b[0;34m)\u001b[0m\u001b[0;34m\u001b[0m\u001b[0;34m\u001b[0m\u001b[0m\n\u001b[0m",
      "\u001b[0;32m<ipython-input-40-c2f0ff7aa74c>\u001b[0m in \u001b[0;36mmain\u001b[0;34m()\u001b[0m\n\u001b[1;32m      5\u001b[0m     \u001b[0mtabular_df\u001b[0m\u001b[0;34m,\u001b[0m \u001b[0mtabular_np\u001b[0m \u001b[0;34m=\u001b[0m \u001b[0mimport_data\u001b[0m\u001b[0;34m(\u001b[0m\u001b[0;34m)\u001b[0m\u001b[0;34m\u001b[0m\u001b[0;34m\u001b[0m\u001b[0m\n\u001b[1;32m      6\u001b[0m     \u001b[0;31m# fit GA\u001b[0m\u001b[0;34m\u001b[0m\u001b[0;34m\u001b[0m\u001b[0;34m\u001b[0m\u001b[0m\n\u001b[0;32m----> 7\u001b[0;31m     \u001b[0mfit_genetic_algorithm\u001b[0m\u001b[0;34m(\u001b[0m\u001b[0mM_PROBABILITY\u001b[0m\u001b[0;34m,\u001b[0m \u001b[0mX_PROBABILITY\u001b[0m\u001b[0;34m,\u001b[0m \u001b[0mP_SIZE\u001b[0m\u001b[0;34m,\u001b[0m \u001b[0mN_GEN\u001b[0m\u001b[0;34m,\u001b[0m \u001b[0mSEL_M\u001b[0m\u001b[0;34m,\u001b[0m \u001b[0mCROSS_M\u001b[0m\u001b[0;34m,\u001b[0m \u001b[0mMUT_METHOD\u001b[0m\u001b[0;34m,\u001b[0m \u001b[0mK\u001b[0m\u001b[0;34m,\u001b[0m \u001b[0mtabular_np\u001b[0m\u001b[0;34m,\u001b[0m \u001b[0mENC\u001b[0m\u001b[0;34m,\u001b[0m \u001b[0mCONV\u001b[0m\u001b[0;34m)\u001b[0m\u001b[0;34m\u001b[0m\u001b[0;34m\u001b[0m\u001b[0m\n\u001b[0m",
      "\u001b[0;32m<ipython-input-39-a2f8677dde85>\u001b[0m in \u001b[0;36mfit_genetic_algorithm\u001b[0;34m(M_PROBABILITY, X_PROBABILITY, P_SIZE, N_GEN, SEL_M, CROSS_M, MUT_METHOD, K, items, encoding, CONV_M)\u001b[0m\n\u001b[1;32m     29\u001b[0m         \u001b[0;32mfor\u001b[0m \u001b[0mgen\u001b[0m \u001b[0;32min\u001b[0m \u001b[0mtqdm\u001b[0m\u001b[0;34m.\u001b[0m\u001b[0mtqdm_notebook\u001b[0m\u001b[0;34m(\u001b[0m\u001b[0mrange\u001b[0m\u001b[0;34m(\u001b[0m\u001b[0mN_GEN\u001b[0m\u001b[0;34m)\u001b[0m\u001b[0;34m)\u001b[0m\u001b[0;34m:\u001b[0m\u001b[0;34m\u001b[0m\u001b[0;34m\u001b[0m\u001b[0m\n\u001b[1;32m     30\u001b[0m             \u001b[0;31m# select and crossover population\u001b[0m\u001b[0;34m\u001b[0m\u001b[0;34m\u001b[0m\u001b[0;34m\u001b[0m\u001b[0m\n\u001b[0;32m---> 31\u001b[0;31m             \u001b[0mchromosomes\u001b[0m \u001b[0;34m=\u001b[0m \u001b[0mcrossover_chromosomes\u001b[0m\u001b[0;34m(\u001b[0m\u001b[0mX_PROBABILITY\u001b[0m\u001b[0;34m,\u001b[0m \u001b[0mCROSS_M\u001b[0m\u001b[0;34m,\u001b[0m \u001b[0mSEL_M\u001b[0m\u001b[0;34m,\u001b[0m \u001b[0mchromosomes\u001b[0m\u001b[0;34m,\u001b[0m \u001b[0moptim_values\u001b[0m\u001b[0;34m,\u001b[0m \u001b[0mencoding\u001b[0m\u001b[0;34m)\u001b[0m\u001b[0;34m\u001b[0m\u001b[0;34m\u001b[0m\u001b[0m\n\u001b[0m\u001b[1;32m     32\u001b[0m             \u001b[0;31m# mutate chromosomes\u001b[0m\u001b[0;34m\u001b[0m\u001b[0;34m\u001b[0m\u001b[0;34m\u001b[0m\u001b[0m\n\u001b[1;32m     33\u001b[0m             \u001b[0mchromosomes\u001b[0m \u001b[0;34m=\u001b[0m \u001b[0mmutate_chromosomes\u001b[0m\u001b[0;34m(\u001b[0m\u001b[0mM_PROBABILITY\u001b[0m\u001b[0;34m,\u001b[0m \u001b[0mMUT_METHOD\u001b[0m\u001b[0;34m,\u001b[0m \u001b[0mchromosomes\u001b[0m\u001b[0;34m,\u001b[0m \u001b[0moptim_values\u001b[0m\u001b[0;34m)\u001b[0m\u001b[0;34m\u001b[0m\u001b[0;34m\u001b[0m\u001b[0m\n",
      "\u001b[0;32m<ipython-input-20-09e0221db991>\u001b[0m in \u001b[0;36mcrossover_chromosomes\u001b[0;34m(x_probability, x_method, selection_method, population, optim, encoding)\u001b[0m\n\u001b[1;32m      1\u001b[0m \u001b[0;32mdef\u001b[0m \u001b[0mcrossover_chromosomes\u001b[0m\u001b[0;34m(\u001b[0m\u001b[0mx_probability\u001b[0m\u001b[0;34m,\u001b[0m \u001b[0mx_method\u001b[0m\u001b[0;34m,\u001b[0m \u001b[0mselection_method\u001b[0m\u001b[0;34m,\u001b[0m \u001b[0mpopulation\u001b[0m\u001b[0;34m,\u001b[0m \u001b[0moptim\u001b[0m\u001b[0;34m,\u001b[0m \u001b[0mencoding\u001b[0m\u001b[0;34m)\u001b[0m\u001b[0;34m:\u001b[0m\u001b[0;34m\u001b[0m\u001b[0;34m\u001b[0m\u001b[0m\n\u001b[0;32m----> 2\u001b[0;31m     \u001b[0mparent_pairs\u001b[0m \u001b[0;34m=\u001b[0m \u001b[0mselect_chromosomes\u001b[0m\u001b[0;34m(\u001b[0m\u001b[0mselection_method\u001b[0m\u001b[0;34m,\u001b[0m \u001b[0mpopulation\u001b[0m\u001b[0;34m,\u001b[0m \u001b[0moptim\u001b[0m\u001b[0;34m)\u001b[0m\u001b[0;34m\u001b[0m\u001b[0;34m\u001b[0m\u001b[0m\n\u001b[0m\u001b[1;32m      3\u001b[0m     \u001b[0mpopulation_hat\u001b[0m \u001b[0;34m=\u001b[0m \u001b[0;32mNone\u001b[0m\u001b[0;34m\u001b[0m\u001b[0;34m\u001b[0m\u001b[0m\n\u001b[1;32m      4\u001b[0m     \u001b[0;32mif\u001b[0m \u001b[0mx_method\u001b[0m \u001b[0;34m==\u001b[0m \u001b[0;34m'single point'\u001b[0m\u001b[0;34m:\u001b[0m\u001b[0;34m\u001b[0m\u001b[0;34m\u001b[0m\u001b[0m\n\u001b[1;32m      5\u001b[0m         \u001b[0mpopulation_hat\u001b[0m \u001b[0;34m=\u001b[0m \u001b[0msingle_point_crossover\u001b[0m\u001b[0;34m(\u001b[0m\u001b[0mparent_pairs\u001b[0m\u001b[0;34m,\u001b[0m \u001b[0mx_probability\u001b[0m\u001b[0;34m)\u001b[0m\u001b[0;34m\u001b[0m\u001b[0;34m\u001b[0m\u001b[0m\n",
      "\u001b[0;32m<ipython-input-14-a0b02b37b200>\u001b[0m in \u001b[0;36mselect_chromosomes\u001b[0;34m(selection_method, population, optim)\u001b[0m\n\u001b[1;32m      6\u001b[0m         \u001b[0mparent_pairs\u001b[0m \u001b[0;34m=\u001b[0m \u001b[0mrank_selection\u001b[0m\u001b[0;34m(\u001b[0m\u001b[0mpopulation\u001b[0m\u001b[0;34m,\u001b[0m \u001b[0moptim\u001b[0m\u001b[0;34m)\u001b[0m\u001b[0;34m\u001b[0m\u001b[0;34m\u001b[0m\u001b[0m\n\u001b[1;32m      7\u001b[0m     \u001b[0;32melif\u001b[0m \u001b[0mselection_method\u001b[0m \u001b[0;34m==\u001b[0m \u001b[0;34m'tournament'\u001b[0m\u001b[0;34m:\u001b[0m\u001b[0;34m\u001b[0m\u001b[0;34m\u001b[0m\u001b[0m\n\u001b[0;32m----> 8\u001b[0;31m         \u001b[0mparent_pairs\u001b[0m \u001b[0;34m=\u001b[0m \u001b[0mtournament_selection\u001b[0m\u001b[0;34m(\u001b[0m\u001b[0mpopulation\u001b[0m\u001b[0;34m,\u001b[0m \u001b[0moptim\u001b[0m\u001b[0;34m)\u001b[0m\u001b[0;34m\u001b[0m\u001b[0;34m\u001b[0m\u001b[0m\n\u001b[0m\u001b[1;32m      9\u001b[0m     \u001b[0;32melse\u001b[0m\u001b[0;34m:\u001b[0m\u001b[0;34m\u001b[0m\u001b[0;34m\u001b[0m\u001b[0m\n\u001b[1;32m     10\u001b[0m         \u001b[0mprint\u001b[0m\u001b[0;34m(\u001b[0m\u001b[0;34m'Error [1]: Invalid selection method\\nExiting...'\u001b[0m\u001b[0;34m)\u001b[0m\u001b[0;34m\u001b[0m\u001b[0;34m\u001b[0m\u001b[0m\n",
      "\u001b[0;32m<ipython-input-13-d9ecd65023db>\u001b[0m in \u001b[0;36mtournament_selection\u001b[0;34m(population, optim)\u001b[0m\n\u001b[1;32m      4\u001b[0m     \u001b[0;31m# get pearsons\u001b[0m\u001b[0;34m\u001b[0m\u001b[0;34m\u001b[0m\u001b[0;34m\u001b[0m\u001b[0m\n\u001b[1;32m      5\u001b[0m     \u001b[0mpearsons\u001b[0m \u001b[0;34m=\u001b[0m \u001b[0mnumpy\u001b[0m\u001b[0;34m.\u001b[0m\u001b[0mzeros\u001b[0m\u001b[0;34m(\u001b[0m\u001b[0;34m(\u001b[0m\u001b[0mpopulation\u001b[0m\u001b[0;34m.\u001b[0m\u001b[0mshape\u001b[0m\u001b[0;34m[\u001b[0m\u001b[0;36m0\u001b[0m\u001b[0;34m]\u001b[0m\u001b[0;34m)\u001b[0m\u001b[0;34m,\u001b[0m \u001b[0mdtype\u001b[0m\u001b[0;34m=\u001b[0m\u001b[0mnumpy\u001b[0m\u001b[0;34m.\u001b[0m\u001b[0mint64\u001b[0m\u001b[0;34m)\u001b[0m\u001b[0;34m\u001b[0m\u001b[0;34m\u001b[0m\u001b[0m\n\u001b[0;32m----> 6\u001b[0;31m     \u001b[0mpearsons\u001b[0m \u001b[0;34m=\u001b[0m \u001b[0mnumpy\u001b[0m\u001b[0;34m.\u001b[0m\u001b[0mfromiter\u001b[0m\u001b[0;34m(\u001b[0m\u001b[0;34m(\u001b[0m\u001b[0mevaluate_chromosome\u001b[0m\u001b[0;34m(\u001b[0m\u001b[0mpopulation\u001b[0m\u001b[0;34m[\u001b[0m\u001b[0mi\u001b[0m\u001b[0;34m]\u001b[0m\u001b[0;34m,\u001b[0m \u001b[0moptim\u001b[0m\u001b[0;34m)\u001b[0m \u001b[0;32mfor\u001b[0m \u001b[0mi\u001b[0m \u001b[0;32min\u001b[0m \u001b[0mrange\u001b[0m\u001b[0;34m(\u001b[0m\u001b[0mpopulation\u001b[0m\u001b[0;34m.\u001b[0m\u001b[0mshape\u001b[0m\u001b[0;34m[\u001b[0m\u001b[0;36m0\u001b[0m\u001b[0;34m]\u001b[0m\u001b[0;34m)\u001b[0m\u001b[0;34m)\u001b[0m\u001b[0;34m,\u001b[0m \u001b[0mpearsons\u001b[0m\u001b[0;34m.\u001b[0m\u001b[0mdtype\u001b[0m\u001b[0;34m)\u001b[0m\u001b[0;34m\u001b[0m\u001b[0;34m\u001b[0m\u001b[0m\n\u001b[0m\u001b[1;32m      7\u001b[0m     \u001b[0;31m# get parents\u001b[0m\u001b[0;34m\u001b[0m\u001b[0;34m\u001b[0m\u001b[0;34m\u001b[0m\u001b[0m\n\u001b[1;32m      8\u001b[0m     \u001b[0mparents\u001b[0m \u001b[0;34m=\u001b[0m \u001b[0mnumpy\u001b[0m\u001b[0;34m.\u001b[0m\u001b[0mzeros\u001b[0m\u001b[0;34m(\u001b[0m\u001b[0mpopulation\u001b[0m\u001b[0;34m.\u001b[0m\u001b[0mshape\u001b[0m\u001b[0;34m[\u001b[0m\u001b[0;36m0\u001b[0m\u001b[0;34m]\u001b[0m\u001b[0;34m,\u001b[0m \u001b[0mdtype\u001b[0m\u001b[0;34m=\u001b[0m\u001b[0mnumpy\u001b[0m\u001b[0;34m.\u001b[0m\u001b[0mint64\u001b[0m\u001b[0;34m)\u001b[0m\u001b[0;34m\u001b[0m\u001b[0;34m\u001b[0m\u001b[0m\n",
      "\u001b[0;32m<ipython-input-13-d9ecd65023db>\u001b[0m in \u001b[0;36m<genexpr>\u001b[0;34m(.0)\u001b[0m\n\u001b[1;32m      4\u001b[0m     \u001b[0;31m# get pearsons\u001b[0m\u001b[0;34m\u001b[0m\u001b[0;34m\u001b[0m\u001b[0;34m\u001b[0m\u001b[0m\n\u001b[1;32m      5\u001b[0m     \u001b[0mpearsons\u001b[0m \u001b[0;34m=\u001b[0m \u001b[0mnumpy\u001b[0m\u001b[0;34m.\u001b[0m\u001b[0mzeros\u001b[0m\u001b[0;34m(\u001b[0m\u001b[0;34m(\u001b[0m\u001b[0mpopulation\u001b[0m\u001b[0;34m.\u001b[0m\u001b[0mshape\u001b[0m\u001b[0;34m[\u001b[0m\u001b[0;36m0\u001b[0m\u001b[0;34m]\u001b[0m\u001b[0;34m)\u001b[0m\u001b[0;34m,\u001b[0m \u001b[0mdtype\u001b[0m\u001b[0;34m=\u001b[0m\u001b[0mnumpy\u001b[0m\u001b[0;34m.\u001b[0m\u001b[0mint64\u001b[0m\u001b[0;34m)\u001b[0m\u001b[0;34m\u001b[0m\u001b[0;34m\u001b[0m\u001b[0m\n\u001b[0;32m----> 6\u001b[0;31m     \u001b[0mpearsons\u001b[0m \u001b[0;34m=\u001b[0m \u001b[0mnumpy\u001b[0m\u001b[0;34m.\u001b[0m\u001b[0mfromiter\u001b[0m\u001b[0;34m(\u001b[0m\u001b[0;34m(\u001b[0m\u001b[0mevaluate_chromosome\u001b[0m\u001b[0;34m(\u001b[0m\u001b[0mpopulation\u001b[0m\u001b[0;34m[\u001b[0m\u001b[0mi\u001b[0m\u001b[0;34m]\u001b[0m\u001b[0;34m,\u001b[0m \u001b[0moptim\u001b[0m\u001b[0;34m)\u001b[0m \u001b[0;32mfor\u001b[0m \u001b[0mi\u001b[0m \u001b[0;32min\u001b[0m \u001b[0mrange\u001b[0m\u001b[0;34m(\u001b[0m\u001b[0mpopulation\u001b[0m\u001b[0;34m.\u001b[0m\u001b[0mshape\u001b[0m\u001b[0;34m[\u001b[0m\u001b[0;36m0\u001b[0m\u001b[0;34m]\u001b[0m\u001b[0;34m)\u001b[0m\u001b[0;34m)\u001b[0m\u001b[0;34m,\u001b[0m \u001b[0mpearsons\u001b[0m\u001b[0;34m.\u001b[0m\u001b[0mdtype\u001b[0m\u001b[0;34m)\u001b[0m\u001b[0;34m\u001b[0m\u001b[0;34m\u001b[0m\u001b[0m\n\u001b[0m\u001b[1;32m      7\u001b[0m     \u001b[0;31m# get parents\u001b[0m\u001b[0;34m\u001b[0m\u001b[0;34m\u001b[0m\u001b[0;34m\u001b[0m\u001b[0m\n\u001b[1;32m      8\u001b[0m     \u001b[0mparents\u001b[0m \u001b[0;34m=\u001b[0m \u001b[0mnumpy\u001b[0m\u001b[0;34m.\u001b[0m\u001b[0mzeros\u001b[0m\u001b[0;34m(\u001b[0m\u001b[0mpopulation\u001b[0m\u001b[0;34m.\u001b[0m\u001b[0mshape\u001b[0m\u001b[0;34m[\u001b[0m\u001b[0;36m0\u001b[0m\u001b[0;34m]\u001b[0m\u001b[0;34m,\u001b[0m \u001b[0mdtype\u001b[0m\u001b[0;34m=\u001b[0m\u001b[0mnumpy\u001b[0m\u001b[0;34m.\u001b[0m\u001b[0mint64\u001b[0m\u001b[0;34m)\u001b[0m\u001b[0;34m\u001b[0m\u001b[0;34m\u001b[0m\u001b[0m\n",
      "\u001b[0;31mKeyboardInterrupt\u001b[0m: "
     ]
    },
    {
     "data": {
      "image/png": "[encoded data removed]",
      "text/plain": [
       "<Figure size 432x288 with 1 Axes>"
      ]
     },
     "metadata": {
      "needs_background": "light"
     },
     "output_type": "display_data"
    }
   ],
   "source": [
    "if __name__ == '__main__':\n",
    "    main()"
   ]
  },
  {
   "cell_type": "code",
   "execution_count": null,
   "metadata": {},
   "outputs": [],
   "source": []
  }
 ],
 "metadata": {
  "kernelspec": {
   "display_name": "Python 3",
   "language": "python",
   "name": "python3"
  },
  "language_info": {
   "codemirror_mode": {
    "name": "ipython",
    "version": 3
   },
   "file_extension": ".py",
   "mimetype": "text/x-python",
   "name": "python",
   "nbconvert_exporter": "python",
   "pygments_lexer": "ipython3",
   "version": "3.7.6"
  }
 },
 "nbformat": 4,
 "nbformat_minor": 4
}
