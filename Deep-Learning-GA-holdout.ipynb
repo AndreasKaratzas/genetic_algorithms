{
 "cells": [
  {
   "cell_type": "code",
   "execution_count": 1,
   "metadata": {},
   "outputs": [],
   "source": [
    "import sys\n",
    "import tqdm\n",
    "import numpy\n",
    "import pandas\n",
    "import scipy.spatial\n",
    "import matplotlib.pyplot"
   ]
  },
  {
   "cell_type": "code",
   "execution_count": 2,
   "metadata": {},
   "outputs": [],
   "source": [
    "if not sys.warnoptions:\n",
    "    import warnings\n",
    "    warnings.simplefilter(\"ignore\")"
   ]
  },
  {
   "cell_type": "code",
   "execution_count": 3,
   "metadata": {},
   "outputs": [],
   "source": [
    "numpy.random.seed(42)"
   ]
  },
  {
   "cell_type": "code",
   "execution_count": 4,
   "metadata": {},
   "outputs": [],
   "source": [
    "def initialize_hyperparameters():\n",
    "    MUTATION_PROBABILITY = 0.3\n",
    "    CROSSOVER_PROBABILITY = 0.9\n",
    "    POPULATION_SIZE = 200\n",
    "    # if K_NEIGHBORS is an odd number, then the algorithm might not work\n",
    "    K_NEIGHBORS = 10\n",
    "    GENERATIONS = 1000\n",
    "    # options are: 'roulette wheel', 'rank', 'tournament'\n",
    "    SELECTION_METHOD = 'tournament'\n",
    "    # options are: 'single point', 'multiple point', 'uniform point', 'OX', 'PMX'\n",
    "    CROSSOVER_METHOD = 'multiple point'\n",
    "    # options are: 'random', 'elitism' for the first value, and 'gauss', 'reset' for the second \n",
    "    MUTATION_METHOD = ['elitism', 'gauss']\n",
    "    # options are: 'binary', 'decimal', 'bucket'\n",
    "    # TODO: Code 'binary' and 'bucket' encoding\n",
    "    ENCODING_METHOD = 'decimal'\n",
    "    # options are: 'best_chr', 'percentage', 'generation'\n",
    "    CONVERGENCE_METHOD = 'generation'\n",
    "    # hyperparameter used only when convergence method is 'best_chr'\n",
    "    BEST_CHROMOSOME_CONVERGENCE_LIMIT = 10\n",
    "    # hyperparameters used only when convergence method is 'percentage'\n",
    "    PERCENTAGE_CHROMOSOME_CONVERGENCE_LIMIT = 1e-2\n",
    "    return MUTATION_PROBABILITY, CROSSOVER_PROBABILITY, POPULATION_SIZE, GENERATIONS, SELECTION_METHOD, CROSSOVER_METHOD, MUTATION_METHOD, K_NEIGHBORS, ENCODING_METHOD, BEST_CHROMOSOME_CONVERGENCE_LIMIT, PERCENTAGE_CHROMOSOME_CONVERGENCE_LIMIT"
   ]
  },
  {
   "cell_type": "code",
   "execution_count": 5,
   "metadata": {},
   "outputs": [],
   "source": [
    "def import_data():\n",
    "    input_df = pandas.read_csv('u.data', encoding='utf-8', delimiter='\\t', engine='python')\n",
    "    input_df.columns = ['userid', 'movieid', 'ratings', 'timestamp']\n",
    "    input_df = input_df.drop(columns='timestamp')\n",
    "    tabular_df_raw = input_df.pivot(index='userid', columns='movieid', values='ratings')\n",
    "    tabular_df = tabular_df_raw.fillna(0)\n",
    "    tabular_np = tabular_df.to_numpy()\n",
    "    return tabular_df, tabular_np"
   ]
  },
  {
   "cell_type": "code",
   "execution_count": 6,
   "metadata": {},
   "outputs": [],
   "source": [
    "def fetch_user_vector(user, tabular_np):\n",
    "    user_vector = tabular_np[user][tabular_np[user] != 0]\n",
    "    user_indeces = numpy.where(tabular_np[user] > 0)\n",
    "    return user_vector[:int(user_vector.shape[0] * 0.9)], user_indeces[0][:int(user_indeces[0].shape[0] * 0.9)].astype(int), user_vector[int(user_vector.shape[0] * 0.9):], user_indeces[0][int(user_indeces[0].shape[0] * 0.9):].astype(int)"
   ]
  },
  {
   "cell_type": "code",
   "execution_count": 7,
   "metadata": {},
   "outputs": [],
   "source": [
    "def evaluate_chromosome(chromosome, optim):\n",
    "    # pearson's correlation metric\n",
    "#     return numpy.corrcoef(chromosome, optim)[0, 1]\n",
    "    # cosine similarity metric\n",
    "#     return 1 - scipy.spatial.distance.cosine(optim, chromosome)\n",
    "    # mse metric\n",
    "#     return 10 - (numpy.square(optim - chromosome)).mean(axis=None)\n",
    "    # number of common elements between chromosomes\n",
    "    return len(numpy.where(chromosome == optim)[0])"
   ]
  },
  {
   "cell_type": "code",
   "execution_count": 8,
   "metadata": {},
   "outputs": [],
   "source": [
    "def fetch_neighborhood(user, tabular_np, k):\n",
    "    user_vector, user_indeces, test_user_vector, test_user_indeces = fetch_user_vector(user, tabular_np)\n",
    "    data_vector = numpy.take(tabular_np, user_indeces, axis=1).astype(numpy.int64)\n",
    "    neighbors_data = numpy.zeros(k, dtype=numpy.float64)\n",
    "    neighbors_indeces = numpy.zeros(k, dtype=int)\n",
    "    for i in range(data_vector.shape[0]):\n",
    "        if i != user:\n",
    "            pearson = evaluate_chromosome(data_vector[i][0], user_vector)\n",
    "            # check if the given vectors have the same non-zero indeces\n",
    "            if numpy.equal(numpy.where(user_vector == 0)[0].shape, numpy.where(data_vector[i][0] == 0)[0].shape):\n",
    "                if numpy.equal(numpy.where(user_vector == 0)[0], numpy.where(data_vector[i][0] == 0)[0]):\n",
    "                    # adjust pearson coefficient to minimum for we do not want that vector to be chosen\n",
    "                    pearson = -2\n",
    "                    print('Warning [2]: Same indeces are evaluated [at fetch neighborhood]')\n",
    "            # sort pearson correlation coefficients\n",
    "            for a in range(k):\n",
    "                for b in range(k):\n",
    "                    if neighbors_data[a] < neighbors_data[b]:\n",
    "                        tmp = neighbors_data[b]\n",
    "                        neighbors_data[b] = neighbors_data[a]\n",
    "                        neighbors_data[a] = tmp\n",
    "                        tmp = neighbors_indeces[b]\n",
    "                        neighbors_indeces[b] = neighbors_indeces[a]\n",
    "                        neighbors_indeces[a] = tmp\n",
    "            # check if greater pearson coefficient was found\n",
    "            for j in range(k):\n",
    "                if neighbors_data[j] < pearson:\n",
    "                    neighbors_data[j] = pearson\n",
    "                    neighbors_indeces[j] = i\n",
    "                    break\n",
    "    return neighbors_data, neighbors_indeces, test_user_vector, test_user_indeces"
   ]
  },
  {
   "cell_type": "code",
   "execution_count": 9,
   "metadata": {},
   "outputs": [],
   "source": [
    "def fetch_optim(user, tabular_np, neighbors_indeces):\n",
    "    optim_indeces = numpy.where(tabular_np[user] == 0)[0]\n",
    "    for i in neighbors_indeces:\n",
    "        optim_indeces = numpy.unique(numpy.concatenate((optim_indeces, numpy.where(tabular_np[i] > 0)[0]), 0))\n",
    "    optim_values = numpy.take(tabular_np, optim_indeces, axis=1)\n",
    "    return optim_values, optim_indeces"
   ]
  },
  {
   "cell_type": "code",
   "execution_count": 10,
   "metadata": {},
   "outputs": [],
   "source": [
    "# function that converts parent indeces to the actual population: returns parent pairs [for 10 neighbors: outputs matrix(2x5)]\n",
    "def index_to_chromosome_decode(idx, population):\n",
    "    # reshape indeces to handle them easier [with population size = 10, idx is reshaped to: matrix(5,2)]\n",
    "    idx = idx.reshape(int(population.shape[0]/2), 2)\n",
    "    # define the generation population\n",
    "    generation = None\n",
    "    # convert given indeces to chromosomes \n",
    "    for i in range(int(population.shape[0]/2)):\n",
    "        # extract 2 indeces\n",
    "        X, Y = population[idx[i]]\n",
    "        # stack the chromosomes\n",
    "        if i == 0:\n",
    "            # if loop run for first time, then initialize the generation population\n",
    "            generation = numpy.stack((X, Y))\n",
    "        else:\n",
    "            # after first time, stack chromosomes to the generation population\n",
    "            generation = numpy.vstack((generation, numpy.stack((X, Y))))\n",
    "    # reshape matrix\n",
    "    population = numpy.zeros((int(generation.shape[0]/2), 2, generation[0].shape[0]), dtype=numpy.int64)\n",
    "    for i in range(population.shape[0]):\n",
    "        for j in range(population.shape[1]):\n",
    "            population[i][j] = generation[i * 2 + j]\n",
    "    return population"
   ]
  },
  {
   "cell_type": "code",
   "execution_count": 11,
   "metadata": {},
   "outputs": [],
   "source": [
    "def roulette_wheel_selection(population, optim):\n",
    "    # initialize random sequence\n",
    "    SEQUENCE = numpy.random.uniform(0, 1, population.shape[0])\n",
    "    # get pearsons\n",
    "    pearsons = numpy.zeros((population.shape[0]), dtype=numpy.float64)\n",
    "    # we will add 1 to each value to get positive values and then sum them up to form the roulette\n",
    "    pearsons = numpy.fromiter((evaluate_chromosome(population[i], optim) for i in range(population.shape[0])), pearsons.dtype) + 1\n",
    "    roulette = pearsons / pearsons.sum()\n",
    "    # get parents\n",
    "    parents = numpy.zeros(population.shape[0], dtype=numpy.int64)\n",
    "    for i in range(population.shape[0]):\n",
    "        for c, j in enumerate(roulette):\n",
    "            if roulette[ : c + 1].sum() >= SEQUENCE[i]:\n",
    "                parents[i] = c\n",
    "                break\n",
    "    return index_to_chromosome_decode(parents, population)"
   ]
  },
  {
   "cell_type": "code",
   "execution_count": 12,
   "metadata": {},
   "outputs": [],
   "source": [
    "def rank_selection(population, optim):\n",
    "    # define evaluation vector\n",
    "    pearsons = numpy.zeros((population.shape[0]), dtype=numpy.float64)\n",
    "    # get all chromosome evaluations\n",
    "    pearsons = numpy.fromiter((evaluate_chromosome(population[i], optim) for i in range(population.shape[0])), pearsons.dtype)\n",
    "    # define ranks values vector\n",
    "    rank_vals = numpy.zeros(population.shape[0])\n",
    "    # define ranks indeces vector\n",
    "    rank_indx = numpy.zeros(population.shape[0], dtype=numpy.int64)\n",
    "    # define rank based probabilities vector\n",
    "    probabilities = numpy.zeros(population.shape[0], dtype=numpy.int64)\n",
    "    # deploy rank selection algorithm\n",
    "    for p_counter, j in enumerate(pearsons):\n",
    "        for r_counter, k in enumerate(rank_vals):\n",
    "            # check if rank is lower than evaluation\n",
    "            if j > k:\n",
    "                rank_vals[r_counter] = j\n",
    "                rank_indx[r_counter] = p_counter\n",
    "            # sort ranks values and indeces\n",
    "            for sort_i_indx, i_val in enumerate(rank_vals):\n",
    "                for sort_j_indx, j_val in enumerate(rank_vals):\n",
    "                    if i_val > j_val:\n",
    "                        tmp = j_val\n",
    "                        rank_vals[sort_j_indx] = i_val\n",
    "                        rank_vals[sort_i_indx] = tmp\n",
    "                        tmp = rank_indx[sort_j_indx]\n",
    "                        rank_indx[sort_j_indx] = rank_indx[sort_i_indx]\n",
    "                        rank_indx[sort_i_indx] = tmp\n",
    "    return index_to_chromosome_decode(rank_indx, population)"
   ]
  },
  {
   "cell_type": "code",
   "execution_count": 13,
   "metadata": {},
   "outputs": [],
   "source": [
    "def tournament_selection(population, optim):\n",
    "    # initialize random sequence\n",
    "    SEQUENCE = numpy.random.uniform(0, 1, population.shape[0])\n",
    "    # get pearsons\n",
    "    pearsons = numpy.zeros((population.shape[0]), dtype=numpy.int64)\n",
    "    pearsons = numpy.fromiter((evaluate_chromosome(population[i], optim) for i in range(population.shape[0])), pearsons.dtype)\n",
    "    # get parents\n",
    "    parents = numpy.zeros(population.shape[0], dtype=numpy.int64)\n",
    "    for i in range(population.shape[0]):\n",
    "        k = numpy.ceil(SEQUENCE[i] * 10).astype(numpy.int64)\n",
    "        chromosome_pointers = numpy.random.choice(numpy.arange(population.shape[0]), k)\n",
    "        evaluation = pearsons[chromosome_pointers].max()\n",
    "        if len(numpy.where(pearsons == evaluation)[0]) > 1:\n",
    "            parents[i] = numpy.where(pearsons == evaluation)[0][0]\n",
    "        else:\n",
    "            parents[i] = numpy.where(pearsons == evaluation)[0]\n",
    "    return index_to_chromosome_decode(parents, population)"
   ]
  },
  {
   "cell_type": "code",
   "execution_count": 14,
   "metadata": {},
   "outputs": [],
   "source": [
    "def select_chromosomes(selection_method, population, optim):\n",
    "    parent_pairs = None\n",
    "    if selection_method == 'roulette wheel':\n",
    "        parent_pairs = roulette_wheel_selection(population, optim)\n",
    "    elif selection_method == 'rank':\n",
    "        parent_pairs = rank_selection(population, optim)\n",
    "    elif selection_method == 'tournament':\n",
    "        parent_pairs = tournament_selection(population, optim)\n",
    "    else:\n",
    "        print('Error [1]: Invalid selection method\\nExiting...')\n",
    "        exit()\n",
    "    return parent_pairs"
   ]
  },
  {
   "cell_type": "code",
   "execution_count": 15,
   "metadata": {},
   "outputs": [],
   "source": [
    "def single_point_crossover(parent_pairs, x_probability):\n",
    "    # define random probability sequence\n",
    "    SEQUENCE = numpy.random.uniform(0, 1, parent_pairs.shape[0])\n",
    "    # define new generation population variable\n",
    "    population_hat = None\n",
    "    # perform single point crossover \n",
    "    for i in range(parent_pairs.shape[0]):\n",
    "        X, Y = parent_pairs[i]\n",
    "        # check chromosomes' compatibility in case there is an error\n",
    "        compatible_chromosomes = X.shape == Y.shape\n",
    "        # define max index boundary\n",
    "        chromosome_shape = X.shape[0]\n",
    "        # initialize new chromosome\n",
    "        a, b = numpy.zeros((2, chromosome_shape), dtype=numpy.int64)\n",
    "        if not compatible_chromosomes:\n",
    "            print(\"Error [2]: Incompatible chromosomes (at: single point selection\\nExiting...)\")\n",
    "            exit()\n",
    "        else:\n",
    "            # crossover random point\n",
    "            x_idx = numpy.random.randint(0, chromosome_shape, 1)[0]\n",
    "            # first child chromosome\n",
    "            a = numpy.append(X[:x_idx], Y[x_idx:])\n",
    "            # second child chromosome\n",
    "            b = numpy.append(Y[:x_idx], X[x_idx:])\n",
    "            # crossover with respect to the crossover probability\n",
    "            if SEQUENCE[i] < x_probability:\n",
    "                # append children to form the new population\n",
    "                if i == 0:\n",
    "                    # if loop run for first time, then initialize the generation population\n",
    "                    population_hat = numpy.stack((a, b))\n",
    "                else:\n",
    "                    # after first time, stack chromosomes to the generation population\n",
    "                    population_hat = numpy.vstack((population_hat, numpy.stack((a, b))))\n",
    "            else:\n",
    "                # append parents to the new population\n",
    "                if i == 0:\n",
    "                    # if loop run for first time, then initialize the generation population\n",
    "                    population_hat = numpy.stack((X, Y))\n",
    "                else:\n",
    "                    # after first time, stack chromosomes to the generation population\n",
    "                    population_hat = numpy.vstack((population_hat, numpy.stack((X, Y))))\n",
    "    return population_hat"
   ]
  },
  {
   "cell_type": "code",
   "execution_count": 16,
   "metadata": {},
   "outputs": [],
   "source": [
    "def multiple_point_crossover(parent_pairs, x_probability):\n",
    "    # define random probability sequence\n",
    "    SEQUENCE = numpy.random.uniform(0, 1, parent_pairs.shape[0])\n",
    "    # define new generation population variable\n",
    "    population_hat = None\n",
    "    # perform single point crossover \n",
    "    for i in range(parent_pairs.shape[0]):\n",
    "        X, Y = parent_pairs[i]\n",
    "        # check chromosomes' compatibility in case there is an error\n",
    "        compatible_chromosomes = X.shape == Y.shape\n",
    "        # define max index boundary\n",
    "        chromosome_shape = X.shape[0]\n",
    "        # initialize new chromosome\n",
    "        a, b = numpy.zeros((2, chromosome_shape), dtype=numpy.int64)\n",
    "        if not compatible_chromosomes:\n",
    "            print(\"Error [13]: Incompatible chromosomes (at: multiple point selection\\nExiting...)\")\n",
    "            exit()\n",
    "        else:\n",
    "            # crossover random point\n",
    "            x_idx, y_idx = numpy.sort(numpy.random.randint(0, chromosome_shape, 2))\n",
    "            # first child chromosome\n",
    "            a = numpy.concatenate((X[ :x_idx], Y[x_idx:y_idx], X[y_idx: ]))\n",
    "            # second child chromosome\n",
    "            b = numpy.concatenate((Y[ :x_idx], X[x_idx:y_idx], Y[y_idx: ]))\n",
    "            # crossover with respect to the crossover probability\n",
    "            if SEQUENCE[i] < x_probability:\n",
    "                # append children to form the new population\n",
    "                if i == 0:\n",
    "                    # if loop run for first time, then initialize the generation population\n",
    "                    population_hat = numpy.stack((a, b))\n",
    "                else:\n",
    "                    # after first time, stack chromosomes to the generation population\n",
    "                    population_hat = numpy.vstack((population_hat, numpy.stack((a, b))))\n",
    "            else:\n",
    "                # append parents to the new population\n",
    "                if i == 0:\n",
    "                    # if loop run for first time, then initialize the generation population\n",
    "                    population_hat = numpy.stack((X, Y))\n",
    "                else:\n",
    "                    # after first time, stack chromosomes to the generation population\n",
    "                    population_hat = numpy.vstack((population_hat, numpy.stack((X, Y))))\n",
    "    return population_hat"
   ]
  },
  {
   "cell_type": "code",
   "execution_count": 17,
   "metadata": {},
   "outputs": [],
   "source": [
    "def uniform_crossover(parent_pairs, x_probability):\n",
    "    # define random chromosome probability sequence (to decide randomly whether ot perform crossover or not)\n",
    "    X_SEQUENCE = numpy.random.uniform(0, 1, parent_pairs.shape[0])\n",
    "    # define random element probability sequence (for uniform crossover)\n",
    "    U_SEQUENCE = numpy.random.uniform(0, 1, parent_pairs.shape[0] * parent_pairs.shape[1]).reshape(parent_pairs.shape[0], parent_pairs.shape[1])\n",
    "    # define element probability crossover (for uniform crossover)\n",
    "    CONST_PROB = 0.5\n",
    "    # define new generation population variable\n",
    "    population_hat = None\n",
    "    # perform single point crossover \n",
    "    for i in range(parent_pairs.shape[0]):\n",
    "        X, Y = parent_pairs[i]\n",
    "        # check chromosomes' compatibility in case there is an error\n",
    "        compatible_chromosomes = X.shape == Y.shape\n",
    "        # define max index boundary\n",
    "        chromosome_shape = X.shape[0]\n",
    "        # initialize new chromosome\n",
    "        a, b = numpy.zeros((2, chromosome_shape), dtype=numpy.int64)\n",
    "        if not compatible_chromosomes:\n",
    "            print(\"Error [14]: Incompatible chromosomes (at: multiple point selection)\\nExiting...)\")\n",
    "            exit()\n",
    "        else:\n",
    "            # crossover with respect to the crosover probability\n",
    "            if X_SEQUENCE[i] < x_probability:\n",
    "                # create children\n",
    "                for c, (k, l) in enumerate(zip(X, Y)):\n",
    "                    # repeatedly toss a coin and check with respect to CONST_PROB\n",
    "                    if CONST_PROB > U_SEQUENCE[i][c]:\n",
    "                        # gene exchange\n",
    "                        a[c] = l\n",
    "                        b[c] = k\n",
    "                    else:\n",
    "                        # NO gene exchange\n",
    "                        a[c] = k\n",
    "                        b[c] = l\n",
    "                # append children to form the new population\n",
    "                if i == 0:\n",
    "                    # if loop run for first time, then initialize the generation population\n",
    "                    population_hat = numpy.stack((a, b))\n",
    "                else:\n",
    "                    # after first time, stack chromosomes to the generation population\n",
    "                    population_hat = numpy.vstack((population_hat, numpy.stack((a, b))))\n",
    "            else:\n",
    "                # append parents to the new population\n",
    "                if i == 0:\n",
    "                    # if loop run for first time, then initialize the generation population\n",
    "                    population_hat = numpy.stack((X, Y))\n",
    "                else:\n",
    "                    # after first time, stack chromosomes to the generation population\n",
    "                    population_hat = numpy.vstack((population_hat, numpy.stack((X, Y))))\n",
    "    return population_hat"
   ]
  },
  {
   "cell_type": "code",
   "execution_count": 18,
   "metadata": {},
   "outputs": [],
   "source": [
    "def order_crossover(parent_pairs, x_probability, encoding):\n",
    "    # check if OX can be applied\n",
    "    if encoding != 'bucket':\n",
    "        print(\"Error [5]: Order crossover cannot be applied - Incompatible encoding (at: order crossover\\nExiting...)\")\n",
    "        exit()\n",
    "    else:\n",
    "        # TODO\n",
    "        # build OX code\n",
    "        return"
   ]
  },
  {
   "cell_type": "code",
   "execution_count": 19,
   "metadata": {},
   "outputs": [],
   "source": [
    "def partially_mapped_crossover(parent_pairs, x_probability, encoding):\n",
    "    # check if PMX can be applied\n",
    "    if encoding != 'bucket':\n",
    "        print(\"Error [6]: Parially mapped crossover cannot be applied - Incompatible encoding (at: parially mapped crossover\\nExiting...)\")\n",
    "        exit()\n",
    "    else:\n",
    "        # TODO\n",
    "        # build PMX code\n",
    "        return"
   ]
  },
  {
   "cell_type": "code",
   "execution_count": 20,
   "metadata": {},
   "outputs": [],
   "source": [
    "def crossover_chromosomes(x_probability, x_method, selection_method, population, optim, encoding):\n",
    "    parent_pairs = select_chromosomes(selection_method, population, optim)\n",
    "    population_hat = None\n",
    "    if x_method == 'single point':\n",
    "        population_hat = single_point_crossover(parent_pairs, x_probability)\n",
    "    elif x_method == 'multiple point':\n",
    "        population_hat = multiple_point_crossover(parent_pairs, x_probability)\n",
    "    elif x_method == 'uniform point':\n",
    "        population_hat = uniform_crossover(parent_pairs, x_probability)\n",
    "    elif x_method == 'OX':\n",
    "        population_hat = order_crossover(parent_pairs, x_probability, encoding)\n",
    "    elif x_method == 'PMX':\n",
    "        population_hat = partially_mapped_crossover(parent_pairs, x_probability, encoding)\n",
    "    else:\n",
    "        print('Error [4]: Invalid crossover method [at crossover chromosomes]\\nExiting...')\n",
    "        exit()\n",
    "    # check crossover effect over current generation\n",
    "    if numpy.array_equal(population, population_hat):\n",
    "#         print('Warning [1]: No crossover change in population [at crossover chromosomes]')\n",
    "        return population\n",
    "    else:\n",
    "        return population_hat"
   ]
  },
  {
   "cell_type": "code",
   "execution_count": 21,
   "metadata": {},
   "outputs": [],
   "source": [
    "# returns index of elite chromosome\n",
    "def get_elite_chromosome(population, optim):\n",
    "    idx, val, max_eval = -1, None, 0\n",
    "    for i in range(population.shape[0]):\n",
    "        val = evaluate_chromosome(population[i], optim)\n",
    "        if max_eval < val:\n",
    "            idx = i\n",
    "            max_eval = val\n",
    "    if idx == -1:\n",
    "        print('Error [11]: Invalid elite chromosome index [at get elite chromosome]\\nExiting...')\n",
    "        exit()\n",
    "#     if max_eval < 0:\n",
    "#         print('Warning [5]: Low pearson maximum correlation coefficient\\n\\t\\t\\t[at get elite chromosome]')\n",
    "    return idx"
   ]
  },
  {
   "cell_type": "code",
   "execution_count": 22,
   "metadata": {},
   "outputs": [],
   "source": [
    "def gauss_replacement(chromosome):\n",
    "    # define number of genes\n",
    "    idx_interval = chromosome.shape[0]\n",
    "    # generate random gaussian distribution\n",
    "    GAUSSIAN = numpy.random.normal(loc=3, scale=2.0, size=chromosome.shape[0]).astype(numpy.int64)\n",
    "    # fix lower numbers\n",
    "    GAUSSIAN[GAUSSIAN < 1] = 1\n",
    "    # fix higher numbers\n",
    "    GAUSSIAN[GAUSSIAN > 5] = 5\n",
    "    # define mutated array\n",
    "    mutated_chromosome = numpy.zeros(idx_interval, dtype=numpy.int64)\n",
    "    # define random generator for gene mutation decision\n",
    "    SEQUENCE = numpy.random.uniform(0, 1, idx_interval)\n",
    "    for i in range(idx_interval):\n",
    "        # mutate gene with respect to current SEQUENCE probability\n",
    "        if SEQUENCE[i] > 0.5:\n",
    "            # probability valid, MUTATE\n",
    "            mutated_chromosome[i] = GAUSSIAN[i]\n",
    "        else:\n",
    "            # probability inadequate, NO MUTATION\n",
    "            mutated_chromosome[i] = chromosome[i]\n",
    "    return mutated_chromosome"
   ]
  },
  {
   "cell_type": "code",
   "execution_count": 23,
   "metadata": {},
   "outputs": [],
   "source": [
    "def reset_replacement(chromosome):\n",
    "    # define number of genes\n",
    "    idx_interval = chromosome.shape[0]\n",
    "    # define mutated array\n",
    "    mutated_chromosome = numpy.zeros(idx_interval, dtype=numpy.int64)\n",
    "    # define random generator\n",
    "    SEQUENCE = numpy.random.uniform(0, 1, idx_interval)\n",
    "    for i in range(idx_interval):\n",
    "        # mutate gene with respect to current SEQUENCE probability\n",
    "        if SEQUENCE[i] > 0.5:\n",
    "             # probability valid, MUTATE\n",
    "            mutated_chromosome[i] = numpy.random.randint(1, 6, 1)\n",
    "        else:\n",
    "             # probability inadequate, NO MUTATION\n",
    "            mutated_chromosome[i] = chromosome[i]\n",
    "    return mutated_chromosome"
   ]
  },
  {
   "cell_type": "code",
   "execution_count": 24,
   "metadata": {},
   "outputs": [],
   "source": [
    "def elitism(population, m_probability, m_method, optim):\n",
    "    SEQUENCE = numpy.random.uniform(0, 1, population.shape[0])\n",
    "    mutated_population, mutated_chromosome = None, None\n",
    "    elite_chromosome_idx = get_elite_chromosome(population, optim)\n",
    "    for i in range(population.shape[0]):\n",
    "        chromosome = population[i]\n",
    "        if SEQUENCE[i] < m_probability and i != elite_chromosome_idx:\n",
    "            # mutate chromosome\n",
    "            if m_method[1] == 'gauss':\n",
    "                mutated_chromosome = gauss_replacement(chromosome)\n",
    "            elif m_method[1] == 'reset':\n",
    "                mutated_chromosome = reset_replacement(chromosome)\n",
    "            else:\n",
    "                print('Error [7]: Invalid mutation method combination [at elitism]\\nExiting...')\n",
    "                exit()\n",
    "            # append chromosomes to the mutated population\n",
    "            if i == 0:\n",
    "                # if loop run for first time, then initialize the generation population\n",
    "                mutated_population = mutated_chromosome\n",
    "            else:\n",
    "                # after first time, stack chromosomes to the generation population\n",
    "                mutated_population = numpy.vstack((mutated_population, mutated_chromosome))\n",
    "        else:\n",
    "            # NO mutation\n",
    "            # append chromosomes to the mutated population\n",
    "            if i == 0:\n",
    "                # if loop run for first time, then initialize the generation population\n",
    "                mutated_population = chromosome\n",
    "            else:\n",
    "                # after first time, stack chromosomes to the generation population\n",
    "                mutated_population = numpy.vstack((mutated_population, chromosome))\n",
    "    return mutated_population"
   ]
  },
  {
   "cell_type": "code",
   "execution_count": 25,
   "metadata": {},
   "outputs": [],
   "source": [
    "def random_mutation(population, m_probability, m_method):\n",
    "    SEQUENCE = numpy.random.uniform(0, 1, population.shape[0])\n",
    "    mutated_population, mutated_chromosome = None, None\n",
    "    for i in range(population.shape[0]):\n",
    "        chromosome = population[i]\n",
    "        if SEQUENCE[i] < m_probability:\n",
    "            # mutate chromosome\n",
    "            if m_method[1] == 'gauss':\n",
    "                mutated_chromosome = gauss_replacement(chromosome)\n",
    "            elif m_method[1] == 'reset':\n",
    "                mutated_chromosome = reset_replacement(chromosome)\n",
    "            else:\n",
    "                print('Error [8]: Invalid mutation method combination [at random mutation]\\nExiting...')\n",
    "                exit()\n",
    "            # append chromosomes to the mutated population\n",
    "            if i == 0:\n",
    "                # if loop run for first time, then initialize the generation population\n",
    "                mutated_population = mutated_chromosome\n",
    "            else:\n",
    "                # after first time, stack chromosomes to the generation population\n",
    "                mutated_population = numpy.vstack((mutated_population, mutated_chromosome))\n",
    "        else:\n",
    "            # NO mutation\n",
    "            # append chromosomes to the mutated population\n",
    "            if i == 0:\n",
    "                # if loop run for first time, then initialize the generation population\n",
    "                mutated_population = chromosome\n",
    "            else:\n",
    "                # after first time, stack chromosomes to the generation population\n",
    "                mutated_population = numpy.vstack((mutated_population, chromosome))\n",
    "    return mutated_population"
   ]
  },
  {
   "cell_type": "code",
   "execution_count": 26,
   "metadata": {},
   "outputs": [],
   "source": [
    "def mutate_chromosomes(probability, m_method, population, optim):\n",
    "    population_hat = None\n",
    "    if m_method[0] == 'random':\n",
    "        population_hat = random_mutation(population, probability, m_method)\n",
    "    elif m_method[0] == 'elitism':\n",
    "        population_hat = elitism(population, probability, m_method, optim)\n",
    "    else:\n",
    "        print('Error [10]: Invalid mutation method [at mutate chromosomes]\\nExiting...')\n",
    "        exit()\n",
    "    # check mutation effect over current generation\n",
    "    if numpy.array_equal(population, population_hat):\n",
    "#         print('Warning [3]: No mutation change in population [at mutate chromosomes]')\n",
    "        return population\n",
    "    else:\n",
    "        return population_hat"
   ]
  },
  {
   "cell_type": "code",
   "execution_count": 27,
   "metadata": {},
   "outputs": [],
   "source": [
    "def get_best_chromosome_index(population, optim):\n",
    "    idx_val = population.shape[0]\n",
    "    evaluations_vector = numpy.zeros(idx_val, dtype=numpy.float64)\n",
    "    # initialize with m\n",
    "    max_eval = -2\n",
    "    best_idx = -1\n",
    "    for i in range(idx_val):\n",
    "        evaluations_vector[i] = evaluate_chromosome(population[i], optim)\n",
    "        if max_eval < evaluations_vector[i]:\n",
    "            max_eval = evaluations_vector[i]\n",
    "            best_idx = i\n",
    "    if best_idx == -1:\n",
    "        print(\"Error 17: Invalid best chromosome index [at get best chromosome index]\\nExiting...\")\n",
    "        exit()\n",
    "    if max_eval == -2:\n",
    "        print(\"Warning 7: Invalid max chromosome evaluation [at get best chromosome index]\")\n",
    "    # return most fit chromosome index\n",
    "    return best_idx"
   ]
  },
  {
   "cell_type": "code",
   "execution_count": 28,
   "metadata": {},
   "outputs": [],
   "source": [
    "def compute_rmse(best_chr, train_idx, test_vec, test_idx):\n",
    "    rmse_shape = test_idx.shape[0]\n",
    "    rmse_vec = numpy.full(rmse_shape, numpy.inf)\n",
    "    for i in range(rmse_shape):\n",
    "        for j in range(train_idx.shape[0]):\n",
    "            if test_idx[i] == train_idx[j]:\n",
    "                y = test_vec[i]\n",
    "                y_hat = best_chr[j]\n",
    "                rmse_vec[i] = (y_hat - y)**2\n",
    "    return numpy.sqrt(numpy.mean(rmse_vec[rmse_vec < numpy.inf]))"
   ]
  },
  {
   "cell_type": "code",
   "execution_count": 29,
   "metadata": {},
   "outputs": [],
   "source": [
    "def compute_mae(best_chr, train_idx, test_vec, test_idx):\n",
    "    mae_shape = test_idx.shape[0]\n",
    "    mae_vec = numpy.full(mae_shape, numpy.inf)\n",
    "    for i in range(mae_shape):\n",
    "        for j in range(train_idx.shape[0]):\n",
    "            if test_idx[i] == train_idx[j]:\n",
    "                y = test_vec[i]\n",
    "                y_hat = best_chr[j]\n",
    "                mae_vec[i] = numpy.abs(y_hat - y)\n",
    "    return numpy.mean(mae_vec[mae_vec < numpy.inf])"
   ]
  },
  {
   "cell_type": "code",
   "execution_count": 30,
   "metadata": {},
   "outputs": [],
   "source": [
    "def evaluate_best_chromosome(population, optim):\n",
    "    idx_val = population.shape[0]\n",
    "    evaluations_vector = numpy.zeros(idx_val, dtype=numpy.float64)\n",
    "    for i in range(idx_val):\n",
    "        evaluations_vector[i] = evaluate_chromosome(population[i], optim)\n",
    "    evaluation = evaluations_vector.max()\n",
    "    # return best chromosome evaluation\n",
    "    return evaluation"
   ]
  },
  {
   "cell_type": "code",
   "execution_count": 31,
   "metadata": {},
   "outputs": [],
   "source": [
    "def evaluate_generation(population, optim):\n",
    "    idx_val = population.shape[0]\n",
    "    evaluations_vector = numpy.zeros(idx_val, dtype=numpy.float64)\n",
    "    for i in range(idx_val):\n",
    "        evaluations_vector[i] = evaluate_chromosome(population[i], optim)\n",
    "    evaluation = evaluations_vector.mean()\n",
    "    # return generation evaluation\n",
    "    return evaluation"
   ]
  },
  {
   "cell_type": "code",
   "execution_count": 32,
   "metadata": {},
   "outputs": [],
   "source": [
    "def genetic_algorithm_convergence(evaluation_best_chr, evaluation_overall_gen, gen, population, optim, BEST_CHR_CONV_LIM, BEST_CHR_CONV_CTR, PERCENT_CHR_CONV_LIM):\n",
    "    stop = False\n",
    "    cause = list()\n",
    "    for conv_method in (\"best_chr\", \"percentage\", \"generation\"):\n",
    "        if conv_method == 'best_chr':\n",
    "            gen_eval = evaluate_best_chromosome(population, optim)\n",
    "            evaluation_best_chr[gen] = gen_eval\n",
    "            if evaluation_best_chr[gen] == evaluation_best_chr[gen - 1]:\n",
    "                BEST_CHR_CONV_CTR += 1\n",
    "                if BEST_CHR_CONV_CTR > BEST_CHR_CONV_LIM:\n",
    "                    stop = True\n",
    "                    cause.append('best_chr')\n",
    "                else:\n",
    "                    BEST_CHR_CONV_CTR = 0\n",
    "        elif conv_method == 'percentage':\n",
    "            gen_eval = evaluate_generation(population, optim)\n",
    "            evaluation_overall_gen[gen] = gen_eval\n",
    "            if numpy.abs(evaluation_overall_gen[gen] - evaluation_overall_gen[gen - 1]) < PERCENT_CHR_CONV_LIM:\n",
    "                stop = True\n",
    "                cause.append('percentage')\n",
    "        elif conv_method == 'generation':\n",
    "#             if gen == 0:\n",
    "#                 print('Warning [4]: Algorithm does not perform early stopping [at genetic algorithm convergence]')\n",
    "            return stop, evaluation_best_chr, evaluation_overall_gen, BEST_CHR_CONV_CTR, cause\n",
    "        else:\n",
    "            print('Error [9]: Invalid mutation method [at mutate chromosomes]\\nExiting...')\n",
    "            exit()\n",
    "    return stop, evaluation_best_chr, evaluation_overall_gen, BEST_CHR_CONV_CTR, cause"
   ]
  },
  {
   "cell_type": "code",
   "execution_count": 33,
   "metadata": {},
   "outputs": [],
   "source": [
    "def save_population(user, population, optim):\n",
    "    # save population and optim chromosome using as prefix the user id\n",
    "    numpy.savetxt(\"user_\" + str(user) + \"-optim.txt\", optim.astype(int), fmt='%i', delimiter=\"\\t\")\n",
    "    numpy.savetxt(\"user_\" + str(user) + \"-population.txt\", population.astype(int), fmt='%i', delimiter=\"\\t\")\n",
    "    return"
   ]
  },
  {
   "cell_type": "code",
   "execution_count": 34,
   "metadata": {},
   "outputs": [],
   "source": [
    "def save_evaluations(user, population, optim):\n",
    "    # define pearson correlation coefficient vector\n",
    "    pearsons = numpy.zeros(population.shape[0], dtype=numpy.float64)\n",
    "    # define mse vector\n",
    "    mse = numpy.zeros(population.shape[0], dtype=numpy.float64)\n",
    "    # define common gene counter vector\n",
    "    common_genes = numpy.zeros(population.shape[0], dtype=numpy.int64)\n",
    "    # define cosine similarity vector\n",
    "    cosines = numpy.zeros(population.shape[0], dtype=numpy.float64)\n",
    "    # compute vectors\n",
    "    for i in range(population.shape[0]):\n",
    "        pearsons[i] = numpy.corrcoef(population[i], optim)[0, 1]\n",
    "        mse[i] = (numpy.square(optim - population[i])).mean(axis=None)\n",
    "        common_genes[i] = evaluate_chromosome(population[i], optim)\n",
    "        cosines[i] = 1 - scipy.spatial.distance.cosine(optim, population[i])\n",
    "    # save vectors to txt files using as prefix the user id\n",
    "    numpy.savetxt(\"user_\" + str(user) + \"-pearsons.txt\", pearsons, delimiter=\"\\t\")\n",
    "    numpy.savetxt(\"user_\" + str(user) + \"-mse.txt\", mse, delimiter=\"\\t\")\n",
    "    numpy.savetxt(\"user_\" + str(user) + \"-common_genes.txt\", common_genes.astype(int), fmt='%i', delimiter=\"\\t\")\n",
    "    numpy.savetxt(\"user_\" + str(user) + \"-cosines.txt\", cosines, delimiter=\"\\t\")\n",
    "    return"
   ]
  },
  {
   "cell_type": "code",
   "execution_count": 35,
   "metadata": {},
   "outputs": [],
   "source": [
    "def fit_genetic_algorithm(M_PROBABILITY, X_PROBABILITY, P_SIZE, N_GEN, SEL_M, CROSS_M, MUT_METHOD, K, items, encoding, BEST_CHR_CONV_LIM, PERCENT_CHR_CONV_LIM):\n",
    "    for user in tqdm.tqdm_notebook(range(items.shape[0])):\n",
    "        # define evaluations list to plot afterwards\n",
    "        U_EVALS_LIST = list()\n",
    "        # fetch user's rating top - k neighbors (k=10)\n",
    "        neighbors_data, neighbors_indeces, test_user_vector, test_user_indeces  = fetch_neighborhood(user, items, K)\n",
    "        # fetch optimal solution vector\n",
    "        optim_values, optim_indeces = fetch_optim(user, items, neighbors_indeces)\n",
    "        # reformat optimal solution vector\n",
    "        # trim non neighbor users\n",
    "        optim_values = optim_values[neighbors_indeces]\n",
    "        # drop zero values\n",
    "        optim_mean = numpy.count_nonzero([optim_values], axis=1)\n",
    "        # find mean of all k vectors and flatten optimal solution to a single vector\n",
    "        optim_values = optim_values.sum(axis=0)\n",
    "        optim_indeces = optim_indeces[optim_values != 0]\n",
    "        optim_values = optim_values[optim_values != 0]\n",
    "        optim_mean = optim_mean[optim_mean != 0]\n",
    "        optim_values = optim_values / optim_mean\n",
    "        # round up mean\n",
    "        optim_values = numpy.ceil(optim_values).astype(numpy.int64)\n",
    "        # random initialize population (chromosomes)\n",
    "        chromosomes = numpy.random.choice(numpy.unique(optim_values), (P_SIZE, optim_values.shape[0]))\n",
    "        # initialize error (best_chr) array\n",
    "        evaluation_best_chr = numpy.zeros(N_GEN)\n",
    "        # initialize error (gen) array\n",
    "        evaluation_overall_gen = numpy.zeros(N_GEN)\n",
    "        # initialize best_chr counter\n",
    "        BEST_CHR_CONV_CTR = 0\n",
    "        # initialize early stopping conditional\n",
    "        stop = False\n",
    "        # fit GA\n",
    "        for gen in tqdm.tqdm_notebook(range(N_GEN)):\n",
    "            # select and crossover population\n",
    "            chromosomes = crossover_chromosomes(X_PROBABILITY, CROSS_M, SEL_M, chromosomes, optim_values, encoding)\n",
    "            # mutate chromosomes\n",
    "            chromosomes = mutate_chromosomes(M_PROBABILITY, MUT_METHOD, chromosomes, optim_values)\n",
    "            # check GA convergence\n",
    "            stop, evaluation_best_chr, evaluation_overall_gen, BEST_CHR_CONV_CTR, cause = genetic_algorithm_convergence(evaluation_best_chr, evaluation_overall_gen, gen, chromosomes, optim_values, BEST_CHR_CONV_LIM, BEST_CHR_CONV_CTR, PERCENT_CHR_CONV_LIM)\n",
    "            # if GA converges\n",
    "            if stop is True:\n",
    "                # save population\n",
    "                save_population(user, chromosomes, optim_values)\n",
    "                # save different fitness metrics\n",
    "                save_evaluations(user, chromosomes, optim_values)\n",
    "                # stop fitting\n",
    "                break\n",
    "            # custom convergence conditional: evaluate by chromosome accuracy [90% accuracy convergence]\n",
    "            if numpy.mean(numpy.fromiter((evaluate_chromosome(chromosomes[i], optim_values) for i in range(chromosomes.shape[0])), numpy.int64)) / chromosomes[0].shape[0] > 0.9:\n",
    "                # print population accuracy\n",
    "                print(\"Mean accuracy: \", numpy.mean(numpy.fromiter((evaluate_chromosome(chromosomes[i], optim_values) for i in range(chromosomes.shape[0])), numpy.int64)), \"\\tTotal chromosomes: \", chromosomes[0].shape[0])\n",
    "                # save population\n",
    "                save_population(user, chromosomes, optim_values)\n",
    "                # save different fitness metrics\n",
    "                save_evaluations(user, chromosomes, optim_values)\n",
    "                # stop fitting\n",
    "                break\n",
    "            # append mean population fitness\n",
    "            U_EVALS_LIST.append(numpy.mean(numpy.fromiter((evaluate_chromosome(chromosomes[i], optim_values) for i in range(chromosomes.shape[0])), numpy.int64)))\n",
    "        # find best chromosome index\n",
    "        best_chr_idx = get_best_chromosome_index(chromosomes, optim_values)\n",
    "        # compute test RMSE\n",
    "        rmse = compute_rmse(chromosomes[best_chr_idx], optim_indeces, test_user_vector, test_user_indeces)\n",
    "        # compute test MAE\n",
    "        mae = compute_mae(chromosomes[best_chr_idx], optim_indeces, test_user_vector, test_user_indeces)\n",
    "        # print met GA convergence conditional\n",
    "        print(\"User [\", user, \"]\\tGen [\", gen, \"]\\t: GA converged (\", cause, \")\\tRMSE: \", rmse, \"\\tMAE: \", mae)\n",
    "        # save population\n",
    "        save_population(user, chromosomes, optim_values)\n",
    "        # save different fitness metrics\n",
    "        save_evaluations(user, chromosomes, optim_values)\n",
    "        # convert mean population fitness list to numpy array\n",
    "        U_EVALS_ARRAY = numpy.asarray(U_EVALS_LIST)\n",
    "        # define x axis of plot\n",
    "        x_axis = numpy.arange(U_EVALS_ARRAY.shape[0])\n",
    "        # plot mean population fitness array\n",
    "        matplotlib.pyplot.clf()\n",
    "        matplotlib.pyplot.plot(x_axis, U_EVALS_ARRAY, label=\"User \" + str(user) + \" - Evaluation\")\n",
    "        matplotlib.pyplot.legend()\n",
    "#         matplotlib.pyplot.show()\n",
    "        # save figure\n",
    "        matplotlib.pyplot.savefig(\"user_\" + str(user) + \"-evaluation.png\", bbox_inches='tight')"
   ]
  },
  {
   "cell_type": "code",
   "execution_count": 36,
   "metadata": {},
   "outputs": [],
   "source": [
    "def main():\n",
    "    # hyperparameter definition\n",
    "    M_PROBABILITY, X_PROBABILITY, P_SIZE, N_GEN, SEL_M, CROSS_M, MUT_METHOD, K, ENC, BEST_CHR_CONV_LIM, PERCENT_CHR_CONV_LIM = initialize_hyperparameters()\n",
    "    # GA fitting data\n",
    "    tabular_df, tabular_np = import_data()\n",
    "    # fit GA\n",
    "    fit_genetic_algorithm(M_PROBABILITY, X_PROBABILITY, P_SIZE, N_GEN, SEL_M, CROSS_M, MUT_METHOD, K, tabular_np, ENC, BEST_CHR_CONV_LIM, PERCENT_CHR_CONV_LIM)"
   ]
  },
  {
   "cell_type": "code",
   "execution_count": 37,
   "metadata": {},
   "outputs": [
    {
     "data": {
      "application/vnd.jupyter.widget-view+json": {
       "model_id": "0bbff0327dac45dab1a52e7495b59e37",
       "version_major": 2,
       "version_minor": 0
      },
      "text/plain": [
       "HBox(children=(FloatProgress(value=0.0, max=943.0), HTML(value='')))"
      ]
     },
     "metadata": {},
     "output_type": "display_data"
    },
    {
     "data": {
      "application/vnd.jupyter.widget-view+json": {
       "model_id": "b8d34181d897457f89ab53ddccfe07cb",
       "version_major": 2,
       "version_minor": 0
      },
      "text/plain": [
       "HBox(children=(FloatProgress(value=0.0, max=1000.0), HTML(value='')))"
      ]
     },
     "metadata": {},
     "output_type": "display_data"
    },
    {
     "name": "stdout",
     "output_type": "stream",
     "text": [
      "User [ 0 ]\tGen [ 59 ]\t: GA converged ( ['percentage'] )\tRMSE:  1.877848713148555 \tMAE:  1.4210526315789473\n"
     ]
    },
    {
     "data": {
      "application/vnd.jupyter.widget-view+json": {
       "model_id": "511607c1c9b94621bae601d2cfc7caa9",
       "version_major": 2,
       "version_minor": 0
      },
      "text/plain": [
       "HBox(children=(FloatProgress(value=0.0, max=1000.0), HTML(value='')))"
      ]
     },
     "metadata": {},
     "output_type": "display_data"
    },
    {
     "name": "stdout",
     "output_type": "stream",
     "text": [
      "User [ 1 ]\tGen [ 139 ]\t: GA converged ( ['percentage'] )\tRMSE:  2.160246899469287 \tMAE:  2.0\n",
      "\n",
      "\n"
     ]
    },
    {
     "data": {
      "application/vnd.jupyter.widget-view+json": {
       "model_id": "69c563d0f3774ed4a0228574aab57c1a",
       "version_major": 2,
       "version_minor": 0
      },
      "text/plain": [
       "HBox(children=(FloatProgress(value=0.0, max=1000.0), HTML(value='')))"
      ]
     },
     "metadata": {},
     "output_type": "display_data"
    },
    {
     "name": "stdout",
     "output_type": "stream",
     "text": [
      "User [ 2 ]\tGen [ 198 ]\t: GA converged ( ['percentage'] )\tRMSE:  1.0 \tMAE:  1.0\n"
     ]
    },
    {
     "data": {
      "application/vnd.jupyter.widget-view+json": {
       "model_id": "6906f4061f2145b4978c7fc121d3c53a",
       "version_major": 2,
       "version_minor": 0
      },
      "text/plain": [
       "HBox(children=(FloatProgress(value=0.0, max=1000.0), HTML(value='')))"
      ]
     },
     "metadata": {},
     "output_type": "display_data"
    },
    {
     "name": "stdout",
     "output_type": "stream",
     "text": [
      "User [ 3 ]\tGen [ 89 ]\t: GA converged ( ['percentage'] )\tRMSE:  nan \tMAE:  nan\n"
     ]
    },
    {
     "data": {
      "application/vnd.jupyter.widget-view+json": {
       "model_id": "2a47a001ec00457298934565dfdb966a",
       "version_major": 2,
       "version_minor": 0
      },
      "text/plain": [
       "HBox(children=(FloatProgress(value=0.0, max=1000.0), HTML(value='')))"
      ]
     },
     "metadata": {},
     "output_type": "display_data"
    },
    {
     "name": "stdout",
     "output_type": "stream",
     "text": [
      "User [ 4 ]\tGen [ 490 ]\t: GA converged ( ['percentage'] )\tRMSE:  1.137592917989042 \tMAE:  0.7058823529411765\n"
     ]
    },
    {
     "data": {
      "application/vnd.jupyter.widget-view+json": {
       "model_id": "e1af7290f8f045efa8d7b3c49f89b008",
       "version_major": 2,
       "version_minor": 0
      },
      "text/plain": [
       "HBox(children=(FloatProgress(value=0.0, max=1000.0), HTML(value='')))"
      ]
     },
     "metadata": {},
     "output_type": "display_data"
    },
    {
     "name": "stdout",
     "output_type": "stream",
     "text": [
      "\n",
      "User [ 5 ]\tGen [ 999 ]\t: GA converged ( [] )\tRMSE:  1.4719601443879744 \tMAE:  0.8333333333333334\n"
     ]
    },
    {
     "data": {
      "application/vnd.jupyter.widget-view+json": {
       "model_id": "da553009f4ce46f0b7a40c8cdf1dc388",
       "version_major": 2,
       "version_minor": 0
      },
      "text/plain": [
       "HBox(children=(FloatProgress(value=0.0, max=1000.0), HTML(value='')))"
      ]
     },
     "metadata": {},
     "output_type": "display_data"
    },
    {
     "name": "stdout",
     "output_type": "stream",
     "text": [
      "User [ 6 ]\tGen [ 142 ]\t: GA converged ( ['percentage'] )\tRMSE:  2.23606797749979 \tMAE:  1.75\n",
      "\n"
     ]
    },
    {
     "data": {
      "application/vnd.jupyter.widget-view+json": {
       "model_id": "b10ebd5b6bd3467183e721d8fc9a0881",
       "version_major": 2,
       "version_minor": 0
      },
      "text/plain": [
       "HBox(children=(FloatProgress(value=0.0, max=1000.0), HTML(value='')))"
      ]
     },
     "metadata": {},
     "output_type": "display_data"
    },
    {
     "name": "stdout",
     "output_type": "stream",
     "text": [
      "\n",
      "User [ 7 ]\tGen [ 999 ]\t: GA converged ( [] )\tRMSE:  2.3804761428476167 \tMAE:  1.6666666666666667\n"
     ]
    },
    {
     "data": {
      "application/vnd.jupyter.widget-view+json": {
       "model_id": "69c2c4fe3cc14582a9390e47a8260fb4",
       "version_major": 2,
       "version_minor": 0
      },
      "text/plain": [
       "HBox(children=(FloatProgress(value=0.0, max=1000.0), HTML(value='')))"
      ]
     },
     "metadata": {},
     "output_type": "display_data"
    },
    {
     "name": "stdout",
     "output_type": "stream",
     "text": [
      "User [ 8 ]\tGen [ 120 ]\t: GA converged ( ['percentage'] )\tRMSE:  2.5495097567963922 \tMAE:  2.5\n"
     ]
    },
    {
     "data": {
      "application/vnd.jupyter.widget-view+json": {
       "model_id": "45730fb78ea94c9e9a20d28fb447d921",
       "version_major": 2,
       "version_minor": 0
      },
      "text/plain": [
       "HBox(children=(FloatProgress(value=0.0, max=1000.0), HTML(value='')))"
      ]
     },
     "metadata": {},
     "output_type": "display_data"
    },
    {
     "name": "stdout",
     "output_type": "stream",
     "text": [
      "User [ 9 ]\tGen [ 217 ]\t: GA converged ( ['percentage'] )\tRMSE:  1.0 \tMAE:  1.0\n",
      "\n"
     ]
    },
    {
     "data": {
      "application/vnd.jupyter.widget-view+json": {
       "model_id": "ba81f5b09d884e3890ae0606b83d1869",
       "version_major": 2,
       "version_minor": 0
      },
      "text/plain": [
       "HBox(children=(FloatProgress(value=0.0, max=1000.0), HTML(value='')))"
      ]
     },
     "metadata": {},
     "output_type": "display_data"
    },
    {
     "name": "stdout",
     "output_type": "stream",
     "text": [
      "\n",
      "User [ 10 ]\tGen [ 999 ]\t: GA converged ( [] )\tRMSE:  1.2110601416389966 \tMAE:  0.8\n"
     ]
    },
    {
     "data": {
      "application/vnd.jupyter.widget-view+json": {
       "model_id": "81a8bfa0fa1848479c58a4c244a073b6",
       "version_major": 2,
       "version_minor": 0
      },
      "text/plain": [
       "HBox(children=(FloatProgress(value=0.0, max=1000.0), HTML(value='')))"
      ]
     },
     "metadata": {},
     "output_type": "display_data"
    },
    {
     "name": "stdout",
     "output_type": "stream",
     "text": [
      "User [ 11 ]\tGen [ 165 ]\t: GA converged ( ['percentage'] )\tRMSE:  2.23606797749979 \tMAE:  2.0\n"
     ]
    },
    {
     "data": {
      "application/vnd.jupyter.widget-view+json": {
       "model_id": "555f54d62b4c45d0911ce15223168eca",
       "version_major": 2,
       "version_minor": 0
      },
      "text/plain": [
       "HBox(children=(FloatProgress(value=0.0, max=1000.0), HTML(value='')))"
      ]
     },
     "metadata": {},
     "output_type": "display_data"
    },
    {
     "name": "stdout",
     "output_type": "stream",
     "text": [
      "User [ 12 ]\tGen [ 299 ]\t: GA converged ( ['percentage'] )\tRMSE:  1.4638501094227998 \tMAE:  1.0\n"
     ]
    },
    {
     "data": {
      "application/vnd.jupyter.widget-view+json": {
       "model_id": "6e805c49591042978125a550674be555",
       "version_major": 2,
       "version_minor": 0
      },
      "text/plain": [
       "HBox(children=(FloatProgress(value=0.0, max=1000.0), HTML(value='')))"
      ]
     },
     "metadata": {},
     "output_type": "display_data"
    },
    {
     "name": "stdout",
     "output_type": "stream",
     "text": [
      "User [ 13 ]\tGen [ 148 ]\t: GA converged ( ['percentage'] )\tRMSE:  1.5275252316519468 \tMAE:  1.0\n"
     ]
    },
    {
     "data": {
      "application/vnd.jupyter.widget-view+json": {
       "model_id": "5d55153c90d64dde985336c9a57fdcc7",
       "version_major": 2,
       "version_minor": 0
      },
      "text/plain": [
       "HBox(children=(FloatProgress(value=0.0, max=1000.0), HTML(value='')))"
      ]
     },
     "metadata": {},
     "output_type": "display_data"
    },
    {
     "name": "stdout",
     "output_type": "stream",
     "text": [
      "User [ 14 ]\tGen [ 31 ]\t: GA converged ( ['percentage'] )\tRMSE:  2.0 \tMAE:  2.0\n",
      "\n"
     ]
    },
    {
     "data": {
      "application/vnd.jupyter.widget-view+json": {
       "model_id": "739da16eec974d9691a3e4ee4ee0c458",
       "version_major": 2,
       "version_minor": 0
      },
      "text/plain": [
       "HBox(children=(FloatProgress(value=0.0, max=1000.0), HTML(value='')))"
      ]
     },
     "metadata": {},
     "output_type": "display_data"
    },
    {
     "name": "stdout",
     "output_type": "stream",
     "text": [
      "User [ 15 ]\tGen [ 336 ]\t: GA converged ( ['percentage'] )\tRMSE:  2.23606797749979 \tMAE:  1.8571428571428572\n"
     ]
    },
    {
     "data": {
      "application/vnd.jupyter.widget-view+json": {
       "model_id": "73e3d6c04e6b4a30b2fa58c050de85fe",
       "version_major": 2,
       "version_minor": 0
      },
      "text/plain": [
       "HBox(children=(FloatProgress(value=0.0, max=1000.0), HTML(value='')))"
      ]
     },
     "metadata": {},
     "output_type": "display_data"
    },
    {
     "name": "stdout",
     "output_type": "stream",
     "text": [
      "User [ 16 ]\tGen [ 671 ]\t: GA converged ( ['percentage'] )\tRMSE:  3.0 \tMAE:  3.0\n"
     ]
    },
    {
     "data": {
      "application/vnd.jupyter.widget-view+json": {
       "model_id": "5e4495898da34abda5180cefc38aeeae",
       "version_major": 2,
       "version_minor": 0
      },
      "text/plain": [
       "HBox(children=(FloatProgress(value=0.0, max=1000.0), HTML(value='')))"
      ]
     },
     "metadata": {},
     "output_type": "display_data"
    },
    {
     "name": "stdout",
     "output_type": "stream",
     "text": [
      "\n",
      "User [ 17 ]\tGen [ 999 ]\t: GA converged ( [] )\tRMSE:  1.5811388300841898 \tMAE:  1.5\n"
     ]
    },
    {
     "data": {
      "application/vnd.jupyter.widget-view+json": {
       "model_id": "a14b581201114a57982a52f7b63957a8",
       "version_major": 2,
       "version_minor": 0
      },
      "text/plain": [
       "HBox(children=(FloatProgress(value=0.0, max=1000.0), HTML(value='')))"
      ]
     },
     "metadata": {},
     "output_type": "display_data"
    },
    {
     "name": "stdout",
     "output_type": "stream",
     "text": [
      "User [ 18 ]\tGen [ 28 ]\t: GA converged ( ['percentage'] )\tRMSE:  1.0 \tMAE:  1.0\n",
      "\n"
     ]
    },
    {
     "data": {
      "application/vnd.jupyter.widget-view+json": {
       "model_id": "963b49d42cda45608fe25046ceae600f",
       "version_major": 2,
       "version_minor": 0
      },
      "text/plain": [
       "HBox(children=(FloatProgress(value=0.0, max=1000.0), HTML(value='')))"
      ]
     },
     "metadata": {},
     "output_type": "display_data"
    },
    {
     "name": "stdout",
     "output_type": "stream",
     "text": [
      "User [ 19 ]\tGen [ 27 ]\t: GA converged ( ['percentage'] )\tRMSE:  1.9148542155126762 \tMAE:  1.6666666666666667\n",
      "\n"
     ]
    },
    {
     "data": {
      "application/vnd.jupyter.widget-view+json": {
       "model_id": "47c8a126ef274141a488ca530ade3408",
       "version_major": 2,
       "version_minor": 0
      },
      "text/plain": [
       "HBox(children=(FloatProgress(value=0.0, max=1000.0), HTML(value='')))"
      ]
     },
     "metadata": {},
     "output_type": "display_data"
    },
    {
     "name": "stdout",
     "output_type": "stream",
     "text": [
      "\n",
      "User [ 20 ]\tGen [ 999 ]\t: GA converged ( [] )\tRMSE:  2.160246899469287 \tMAE:  2.0\n"
     ]
    },
    {
     "data": {
      "application/vnd.jupyter.widget-view+json": {
       "model_id": "691b1c006c9f4361bcf54c39ce383f1d",
       "version_major": 2,
       "version_minor": 0
      },
      "text/plain": [
       "HBox(children=(FloatProgress(value=0.0, max=1000.0), HTML(value='')))"
      ]
     },
     "metadata": {},
     "output_type": "display_data"
    },
    {
     "name": "stdout",
     "output_type": "stream",
     "text": [
      "User [ 21 ]\tGen [ 227 ]\t: GA converged ( ['percentage'] )\tRMSE:  2.0 \tMAE:  1.75\n"
     ]
    },
    {
     "data": {
      "application/vnd.jupyter.widget-view+json": {
       "model_id": "afead46365a647a8a08d7da5f8a1071b",
       "version_major": 2,
       "version_minor": 0
      },
      "text/plain": [
       "HBox(children=(FloatProgress(value=0.0, max=1000.0), HTML(value='')))"
      ]
     },
     "metadata": {},
     "output_type": "display_data"
    },
    {
     "name": "stdout",
     "output_type": "stream",
     "text": [
      "User [ 22 ]\tGen [ 969 ]\t: GA converged ( ['percentage'] )\tRMSE:  1.7320508075688772 \tMAE:  1.5\n"
     ]
    },
    {
     "data": {
      "application/vnd.jupyter.widget-view+json": {
       "model_id": "e0a6f05a0b32443383ee7a22a0ca556b",
       "version_major": 2,
       "version_minor": 0
      },
      "text/plain": [
       "HBox(children=(FloatProgress(value=0.0, max=1000.0), HTML(value='')))"
      ]
     },
     "metadata": {},
     "output_type": "display_data"
    },
    {
     "name": "stdout",
     "output_type": "stream",
     "text": [
      "User [ 23 ]\tGen [ 68 ]\t: GA converged ( ['percentage'] )\tRMSE:  2.0615528128088303 \tMAE:  1.75\n"
     ]
    },
    {
     "data": {
      "application/vnd.jupyter.widget-view+json": {
       "model_id": "6fbcd9feb4f54f89a9d08c917dbb41df",
       "version_major": 2,
       "version_minor": 0
      },
      "text/plain": [
       "HBox(children=(FloatProgress(value=0.0, max=1000.0), HTML(value='')))"
      ]
     },
     "metadata": {},
     "output_type": "display_data"
    },
    {
     "name": "stdout",
     "output_type": "stream",
     "text": [
      "User [ 24 ]\tGen [ 48 ]\t: GA converged ( ['percentage'] )\tRMSE:  1.224744871391589 \tMAE:  1.0\n",
      "\n"
     ]
    },
    {
     "data": {
      "application/vnd.jupyter.widget-view+json": {
       "model_id": "23e9fd14ace64a27b477887f053e72c6",
       "version_major": 2,
       "version_minor": 0
      },
      "text/plain": [
       "HBox(children=(FloatProgress(value=0.0, max=1000.0), HTML(value='')))"
      ]
     },
     "metadata": {},
     "output_type": "display_data"
    },
    {
     "name": "stdout",
     "output_type": "stream",
     "text": [
      "User [ 25 ]\tGen [ 155 ]\t: GA converged ( ['percentage'] )\tRMSE:  2.0 \tMAE:  1.7142857142857142\n"
     ]
    },
    {
     "data": {
      "application/vnd.jupyter.widget-view+json": {
       "model_id": "12412ff03519411ebff9e8e4d5d20140",
       "version_major": 2,
       "version_minor": 0
      },
      "text/plain": [
       "HBox(children=(FloatProgress(value=0.0, max=1000.0), HTML(value='')))"
      ]
     },
     "metadata": {},
     "output_type": "display_data"
    },
    {
     "name": "stdout",
     "output_type": "stream",
     "text": [
      "User [ 26 ]\tGen [ 673 ]\t: GA converged ( ['percentage'] )\tRMSE:  3.0 \tMAE:  3.0\n"
     ]
    },
    {
     "data": {
      "application/vnd.jupyter.widget-view+json": {
       "model_id": "53be1343c7bb454980a583cd17e911a8",
       "version_major": 2,
       "version_minor": 0
      },
      "text/plain": [
       "HBox(children=(FloatProgress(value=0.0, max=1000.0), HTML(value='')))"
      ]
     },
     "metadata": {},
     "output_type": "display_data"
    },
    {
     "name": "stdout",
     "output_type": "stream",
     "text": [
      "User [ 27 ]\tGen [ 52 ]\t: GA converged ( ['percentage'] )\tRMSE:  1.7320508075688772 \tMAE:  1.5714285714285714\n",
      "\n"
     ]
    },
    {
     "data": {
      "application/vnd.jupyter.widget-view+json": {
       "model_id": "3c3e2e5304054a22be958bd063522433",
       "version_major": 2,
       "version_minor": 0
      },
      "text/plain": [
       "HBox(children=(FloatProgress(value=0.0, max=1000.0), HTML(value='')))"
      ]
     },
     "metadata": {},
     "output_type": "display_data"
    },
    {
     "name": "stdout",
     "output_type": "stream",
     "text": [
      "User [ 28 ]\tGen [ 30 ]\t: GA converged ( ['percentage'] )\tRMSE:  3.0 \tMAE:  3.0\n",
      "\n"
     ]
    },
    {
     "data": {
      "application/vnd.jupyter.widget-view+json": {
       "model_id": "2109c6f566eb448093e6e419515d6583",
       "version_major": 2,
       "version_minor": 0
      },
      "text/plain": [
       "HBox(children=(FloatProgress(value=0.0, max=1000.0), HTML(value='')))"
      ]
     },
     "metadata": {},
     "output_type": "display_data"
    },
    {
     "name": "stdout",
     "output_type": "stream",
     "text": [
      "User [ 29 ]\tGen [ 426 ]\t: GA converged ( ['percentage'] )\tRMSE:  2.3664319132398464 \tMAE:  2.0\n"
     ]
    },
    {
     "data": {
      "application/vnd.jupyter.widget-view+json": {
       "model_id": "05d9dfcaf82545888255db74853b6992",
       "version_major": 2,
       "version_minor": 0
      },
      "text/plain": [
       "HBox(children=(FloatProgress(value=0.0, max=1000.0), HTML(value='')))"
      ]
     },
     "metadata": {},
     "output_type": "display_data"
    },
    {
     "name": "stdout",
     "output_type": "stream",
     "text": [
      "User [ 30 ]\tGen [ 851 ]\t: GA converged ( ['percentage'] )\tRMSE:  2.0 \tMAE:  2.0\n"
     ]
    },
    {
     "data": {
      "application/vnd.jupyter.widget-view+json": {
       "model_id": "f0ae5ea79b0248cbbe9262b9e6bc8dff",
       "version_major": 2,
       "version_minor": 0
      },
      "text/plain": [
       "HBox(children=(FloatProgress(value=0.0, max=1000.0), HTML(value='')))"
      ]
     },
     "metadata": {},
     "output_type": "display_data"
    },
    {
     "name": "stdout",
     "output_type": "stream",
     "text": [
      "User [ 31 ]\tGen [ 100 ]\t: GA converged ( ['percentage'] )\tRMSE:  0.5773502691896257 \tMAE:  0.3333333333333333\n",
      "\n"
     ]
    },
    {
     "data": {
      "application/vnd.jupyter.widget-view+json": {
       "model_id": "cfc1cd1eacbe4edb87b3fbdfd2b9c3e0",
       "version_major": 2,
       "version_minor": 0
      },
      "text/plain": [
       "HBox(children=(FloatProgress(value=0.0, max=1000.0), HTML(value='')))"
      ]
     },
     "metadata": {},
     "output_type": "display_data"
    },
    {
     "name": "stdout",
     "output_type": "stream",
     "text": [
      "\n",
      "User [ 32 ]\tGen [ 999 ]\t: GA converged ( [] )\tRMSE:  1.4142135623730951 \tMAE:  1.0\n"
     ]
    },
    {
     "data": {
      "application/vnd.jupyter.widget-view+json": {
       "model_id": "8fb9bb42c0484dc6bccc131c28106c5e",
       "version_major": 2,
       "version_minor": 0
      },
      "text/plain": [
       "HBox(children=(FloatProgress(value=0.0, max=1000.0), HTML(value='')))"
      ]
     },
     "metadata": {},
     "output_type": "display_data"
    },
    {
     "name": "stdout",
     "output_type": "stream",
     "text": [
      "User [ 33 ]\tGen [ 163 ]\t: GA converged ( ['percentage'] )\tRMSE:  nan \tMAE:  nan\n"
     ]
    },
    {
     "data": {
      "application/vnd.jupyter.widget-view+json": {
       "model_id": "c249b3fb5e2e454aace0f41a0661152b",
       "version_major": 2,
       "version_minor": 0
      },
      "text/plain": [
       "HBox(children=(FloatProgress(value=0.0, max=1000.0), HTML(value='')))"
      ]
     },
     "metadata": {},
     "output_type": "display_data"
    },
    {
     "name": "stdout",
     "output_type": "stream",
     "text": [
      "\n",
      "User [ 34 ]\tGen [ 999 ]\t: GA converged ( [] )\tRMSE:  1.0 \tMAE:  1.0\n"
     ]
    },
    {
     "data": {
      "application/vnd.jupyter.widget-view+json": {
       "model_id": "e5938c96f5164edba0d63da99b474adb",
       "version_major": 2,
       "version_minor": 0
      },
      "text/plain": [
       "HBox(children=(FloatProgress(value=0.0, max=1000.0), HTML(value='')))"
      ]
     },
     "metadata": {},
     "output_type": "display_data"
    },
    {
     "name": "stdout",
     "output_type": "stream",
     "text": [
      "User [ 35 ]\tGen [ 637 ]\t: GA converged ( ['percentage'] )\tRMSE:  nan \tMAE:  nan\n"
     ]
    },
    {
     "data": {
      "application/vnd.jupyter.widget-view+json": {
       "model_id": "95809c01a3334e469f345a6a7c40fcd9",
       "version_major": 2,
       "version_minor": 0
      },
      "text/plain": [
       "HBox(children=(FloatProgress(value=0.0, max=1000.0), HTML(value='')))"
      ]
     },
     "metadata": {},
     "output_type": "display_data"
    },
    {
     "name": "stdout",
     "output_type": "stream",
     "text": [
      "User [ 36 ]\tGen [ 626 ]\t: GA converged ( ['percentage'] )\tRMSE:  nan \tMAE:  nan\n"
     ]
    },
    {
     "data": {
      "application/vnd.jupyter.widget-view+json": {
       "model_id": "eb35e74dcefb4de2815f79800486b4bb",
       "version_major": 2,
       "version_minor": 0
      },
      "text/plain": [
       "HBox(children=(FloatProgress(value=0.0, max=1000.0), HTML(value='')))"
      ]
     },
     "metadata": {},
     "output_type": "display_data"
    },
    {
     "name": "stdout",
     "output_type": "stream",
     "text": [
      "User [ 37 ]\tGen [ 303 ]\t: GA converged ( ['percentage'] )\tRMSE:  2.9154759474226504 \tMAE:  2.5\n"
     ]
    },
    {
     "data": {
      "application/vnd.jupyter.widget-view+json": {
       "model_id": "7deeb550243b4d5e8898a933e236b284",
       "version_major": 2,
       "version_minor": 0
      },
      "text/plain": [
       "HBox(children=(FloatProgress(value=0.0, max=1000.0), HTML(value='')))"
      ]
     },
     "metadata": {},
     "output_type": "display_data"
    },
    {
     "name": "stdout",
     "output_type": "stream",
     "text": [
      "User [ 38 ]\tGen [ 115 ]\t: GA converged ( ['percentage'] )\tRMSE:  2.5495097567963922 \tMAE:  2.5\n",
      "\n"
     ]
    },
    {
     "data": {
      "application/vnd.jupyter.widget-view+json": {
       "model_id": "16c6d8203d4a428d956a6442c53d1876",
       "version_major": 2,
       "version_minor": 0
      },
      "text/plain": [
       "HBox(children=(FloatProgress(value=0.0, max=1000.0), HTML(value='')))"
      ]
     },
     "metadata": {},
     "output_type": "display_data"
    },
    {
     "name": "stdout",
     "output_type": "stream",
     "text": [
      "User [ 39 ]\tGen [ 29 ]\t: GA converged ( ['percentage'] )\tRMSE:  3.0 \tMAE:  3.0\n"
     ]
    },
    {
     "data": {
      "application/vnd.jupyter.widget-view+json": {
       "model_id": "3b67c19aff8740baa46ee479ce044289",
       "version_major": 2,
       "version_minor": 0
      },
      "text/plain": [
       "HBox(children=(FloatProgress(value=0.0, max=1000.0), HTML(value='')))"
      ]
     },
     "metadata": {},
     "output_type": "display_data"
    },
    {
     "name": "stdout",
     "output_type": "stream",
     "text": [
      "User [ 40 ]\tGen [ 787 ]\t: GA converged ( ['percentage'] )\tRMSE:  1.1832159566199232 \tMAE:  1.0\n"
     ]
    },
    {
     "data": {
      "application/vnd.jupyter.widget-view+json": {
       "model_id": "8df4c73c8b7c494f9f667d3839b0e9af",
       "version_major": 2,
       "version_minor": 0
      },
      "text/plain": [
       "HBox(children=(FloatProgress(value=0.0, max=1000.0), HTML(value='')))"
      ]
     },
     "metadata": {},
     "output_type": "display_data"
    },
    {
     "name": "stdout",
     "output_type": "stream",
     "text": [
      "User [ 41 ]\tGen [ 35 ]\t: GA converged ( ['percentage'] )\tRMSE:  2.0816659994661326 \tMAE:  1.6666666666666667\n"
     ]
    },
    {
     "data": {
      "application/vnd.jupyter.widget-view+json": {
       "model_id": "f46b2183849d4cdeae3b963757c978ed",
       "version_major": 2,
       "version_minor": 0
      },
      "text/plain": [
       "HBox(children=(FloatProgress(value=0.0, max=1000.0), HTML(value='')))"
      ]
     },
     "metadata": {},
     "output_type": "display_data"
    },
    {
     "name": "stdout",
     "output_type": "stream",
     "text": [
      "User [ 42 ]\tGen [ 784 ]\t: GA converged ( ['percentage'] )\tRMSE:  1.9639610121239315 \tMAE:  1.5714285714285714\n"
     ]
    },
    {
     "data": {
      "application/vnd.jupyter.widget-view+json": {
       "model_id": "44dcbe7d64f142a6a716bf11bf6d36e9",
       "version_major": 2,
       "version_minor": 0
      },
      "text/plain": [
       "HBox(children=(FloatProgress(value=0.0, max=1000.0), HTML(value='')))"
      ]
     },
     "metadata": {},
     "output_type": "display_data"
    },
    {
     "name": "stdout",
     "output_type": "stream",
     "text": [
      "User [ 43 ]\tGen [ 37 ]\t: GA converged ( ['percentage'] )\tRMSE:  1.5811388300841898 \tMAE:  1.25\n",
      "\n"
     ]
    },
    {
     "data": {
      "application/vnd.jupyter.widget-view+json": {
       "model_id": "db7c265f0a914df4a011b1e8e770d970",
       "version_major": 2,
       "version_minor": 0
      },
      "text/plain": [
       "HBox(children=(FloatProgress(value=0.0, max=1000.0), HTML(value='')))"
      ]
     },
     "metadata": {},
     "output_type": "display_data"
    },
    {
     "name": "stdout",
     "output_type": "stream",
     "text": [
      "User [ 44 ]\tGen [ 151 ]\t: GA converged ( ['percentage'] )\tRMSE:  1.0 \tMAE:  1.0\n",
      "\n"
     ]
    },
    {
     "data": {
      "application/vnd.jupyter.widget-view+json": {
       "model_id": "9e52d349afa6431293d51210dc66665b",
       "version_major": 2,
       "version_minor": 0
      },
      "text/plain": [
       "HBox(children=(FloatProgress(value=0.0, max=1000.0), HTML(value='')))"
      ]
     },
     "metadata": {},
     "output_type": "display_data"
    },
    {
     "name": "stdout",
     "output_type": "stream",
     "text": [
      "User [ 45 ]\tGen [ 10 ]\t: GA converged ( ['percentage'] )\tRMSE:  nan \tMAE:  nan\n"
     ]
    },
    {
     "data": {
      "application/vnd.jupyter.widget-view+json": {
       "model_id": "ee7e429fc50543bc9a986a0abcfc71df",
       "version_major": 2,
       "version_minor": 0
      },
      "text/plain": [
       "HBox(children=(FloatProgress(value=0.0, max=1000.0), HTML(value='')))"
      ]
     },
     "metadata": {},
     "output_type": "display_data"
    },
    {
     "name": "stdout",
     "output_type": "stream",
     "text": [
      "User [ 46 ]\tGen [ 462 ]\t: GA converged ( ['percentage'] )\tRMSE:  1.0 \tMAE:  1.0\n"
     ]
    },
    {
     "data": {
      "application/vnd.jupyter.widget-view+json": {
       "model_id": "14d20ee83ae44e72af4e082baf10881a",
       "version_major": 2,
       "version_minor": 0
      },
      "text/plain": [
       "HBox(children=(FloatProgress(value=0.0, max=1000.0), HTML(value='')))"
      ]
     },
     "metadata": {},
     "output_type": "display_data"
    },
    {
     "name": "stdout",
     "output_type": "stream",
     "text": [
      "User [ 47 ]\tGen [ 246 ]\t: GA converged ( ['percentage'] )\tRMSE:  1.5811388300841898 \tMAE:  1.5\n"
     ]
    },
    {
     "data": {
      "application/vnd.jupyter.widget-view+json": {
       "model_id": "fd9ab857c1fb4d2da095f67ca361d4ee",
       "version_major": 2,
       "version_minor": 0
      },
      "text/plain": [
       "HBox(children=(FloatProgress(value=0.0, max=1000.0), HTML(value='')))"
      ]
     },
     "metadata": {},
     "output_type": "display_data"
    },
    {
     "name": "stdout",
     "output_type": "stream",
     "text": [
      "User [ 48 ]\tGen [ 49 ]\t: GA converged ( ['percentage'] )\tRMSE:  1.558387444947959 \tMAE:  1.2857142857142858\n",
      "\n"
     ]
    },
    {
     "data": {
      "application/vnd.jupyter.widget-view+json": {
       "model_id": "e769b38316ad4c63895a285bac74d30e",
       "version_major": 2,
       "version_minor": 0
      },
      "text/plain": [
       "HBox(children=(FloatProgress(value=0.0, max=1000.0), HTML(value='')))"
      ]
     },
     "metadata": {},
     "output_type": "display_data"
    },
    {
     "name": "stdout",
     "output_type": "stream",
     "text": [
      "User [ 49 ]\tGen [ 70 ]\t: GA converged ( ['percentage'] )\tRMSE:  2.70801280154532 \tMAE:  2.6666666666666665\n",
      "\n"
     ]
    },
    {
     "data": {
      "application/vnd.jupyter.widget-view+json": {
       "model_id": "1ba712affac94b70999ad655fc08839e",
       "version_major": 2,
       "version_minor": 0
      },
      "text/plain": [
       "HBox(children=(FloatProgress(value=0.0, max=1000.0), HTML(value='')))"
      ]
     },
     "metadata": {},
     "output_type": "display_data"
    },
    {
     "name": "stdout",
     "output_type": "stream",
     "text": [
      "User [ 50 ]\tGen [ 320 ]\t: GA converged ( ['percentage'] )\tRMSE:  2.581988897471611 \tMAE:  2.0\n"
     ]
    },
    {
     "data": {
      "application/vnd.jupyter.widget-view+json": {
       "model_id": "bed82f8af83f46e99d5243d69abd04b6",
       "version_major": 2,
       "version_minor": 0
      },
      "text/plain": [
       "HBox(children=(FloatProgress(value=0.0, max=1000.0), HTML(value='')))"
      ]
     },
     "metadata": {},
     "output_type": "display_data"
    },
    {
     "name": "stdout",
     "output_type": "stream",
     "text": [
      "\n"
     ]
    },
    {
     "ename": "KeyboardInterrupt",
     "evalue": "",
     "output_type": "error",
     "traceback": [
      "\u001b[0;31m---------------------------------------------------------------------------\u001b[0m",
      "\u001b[0;31mKeyboardInterrupt\u001b[0m                         Traceback (most recent call last)",
      "\u001b[0;32m<ipython-input-37-c7bc734e5e35>\u001b[0m in \u001b[0;36m<module>\u001b[0;34m\u001b[0m\n\u001b[1;32m      1\u001b[0m \u001b[0;32mif\u001b[0m \u001b[0m__name__\u001b[0m \u001b[0;34m==\u001b[0m \u001b[0;34m'__main__'\u001b[0m\u001b[0;34m:\u001b[0m\u001b[0;34m\u001b[0m\u001b[0;34m\u001b[0m\u001b[0m\n\u001b[0;32m----> 2\u001b[0;31m     \u001b[0mmain\u001b[0m\u001b[0;34m(\u001b[0m\u001b[0;34m)\u001b[0m\u001b[0;34m\u001b[0m\u001b[0;34m\u001b[0m\u001b[0m\n\u001b[0m",
      "\u001b[0;32m<ipython-input-36-99869c5c7fda>\u001b[0m in \u001b[0;36mmain\u001b[0;34m()\u001b[0m\n\u001b[1;32m      5\u001b[0m     \u001b[0mtabular_df\u001b[0m\u001b[0;34m,\u001b[0m \u001b[0mtabular_np\u001b[0m \u001b[0;34m=\u001b[0m \u001b[0mimport_data\u001b[0m\u001b[0;34m(\u001b[0m\u001b[0;34m)\u001b[0m\u001b[0;34m\u001b[0m\u001b[0;34m\u001b[0m\u001b[0m\n\u001b[1;32m      6\u001b[0m     \u001b[0;31m# fit GA\u001b[0m\u001b[0;34m\u001b[0m\u001b[0;34m\u001b[0m\u001b[0;34m\u001b[0m\u001b[0m\n\u001b[0;32m----> 7\u001b[0;31m     \u001b[0mfit_genetic_algorithm\u001b[0m\u001b[0;34m(\u001b[0m\u001b[0mM_PROBABILITY\u001b[0m\u001b[0;34m,\u001b[0m \u001b[0mX_PROBABILITY\u001b[0m\u001b[0;34m,\u001b[0m \u001b[0mP_SIZE\u001b[0m\u001b[0;34m,\u001b[0m \u001b[0mN_GEN\u001b[0m\u001b[0;34m,\u001b[0m \u001b[0mSEL_M\u001b[0m\u001b[0;34m,\u001b[0m \u001b[0mCROSS_M\u001b[0m\u001b[0;34m,\u001b[0m \u001b[0mMUT_METHOD\u001b[0m\u001b[0;34m,\u001b[0m \u001b[0mK\u001b[0m\u001b[0;34m,\u001b[0m \u001b[0mtabular_np\u001b[0m\u001b[0;34m,\u001b[0m \u001b[0mENC\u001b[0m\u001b[0;34m,\u001b[0m \u001b[0mBEST_CHR_CONV_LIM\u001b[0m\u001b[0;34m,\u001b[0m \u001b[0mPERCENT_CHR_CONV_LIM\u001b[0m\u001b[0;34m)\u001b[0m\u001b[0;34m\u001b[0m\u001b[0;34m\u001b[0m\u001b[0m\n\u001b[0m",
      "\u001b[0;32m<ipython-input-35-83a4f414d42c>\u001b[0m in \u001b[0;36mfit_genetic_algorithm\u001b[0;34m(M_PROBABILITY, X_PROBABILITY, P_SIZE, N_GEN, SEL_M, CROSS_M, MUT_METHOD, K, items, encoding, BEST_CHR_CONV_LIM, PERCENT_CHR_CONV_LIM)\u001b[0m\n\u001b[1;32m     33\u001b[0m         \u001b[0;32mfor\u001b[0m \u001b[0mgen\u001b[0m \u001b[0;32min\u001b[0m \u001b[0mtqdm\u001b[0m\u001b[0;34m.\u001b[0m\u001b[0mtqdm_notebook\u001b[0m\u001b[0;34m(\u001b[0m\u001b[0mrange\u001b[0m\u001b[0;34m(\u001b[0m\u001b[0mN_GEN\u001b[0m\u001b[0;34m)\u001b[0m\u001b[0;34m)\u001b[0m\u001b[0;34m:\u001b[0m\u001b[0;34m\u001b[0m\u001b[0;34m\u001b[0m\u001b[0m\n\u001b[1;32m     34\u001b[0m             \u001b[0;31m# select and crossover population\u001b[0m\u001b[0;34m\u001b[0m\u001b[0;34m\u001b[0m\u001b[0;34m\u001b[0m\u001b[0m\n\u001b[0;32m---> 35\u001b[0;31m             \u001b[0mchromosomes\u001b[0m \u001b[0;34m=\u001b[0m \u001b[0mcrossover_chromosomes\u001b[0m\u001b[0;34m(\u001b[0m\u001b[0mX_PROBABILITY\u001b[0m\u001b[0;34m,\u001b[0m \u001b[0mCROSS_M\u001b[0m\u001b[0;34m,\u001b[0m \u001b[0mSEL_M\u001b[0m\u001b[0;34m,\u001b[0m \u001b[0mchromosomes\u001b[0m\u001b[0;34m,\u001b[0m \u001b[0moptim_values\u001b[0m\u001b[0;34m,\u001b[0m \u001b[0mencoding\u001b[0m\u001b[0;34m)\u001b[0m\u001b[0;34m\u001b[0m\u001b[0;34m\u001b[0m\u001b[0m\n\u001b[0m\u001b[1;32m     36\u001b[0m             \u001b[0;31m# mutate chromosomes\u001b[0m\u001b[0;34m\u001b[0m\u001b[0;34m\u001b[0m\u001b[0;34m\u001b[0m\u001b[0m\n\u001b[1;32m     37\u001b[0m             \u001b[0mchromosomes\u001b[0m \u001b[0;34m=\u001b[0m \u001b[0mmutate_chromosomes\u001b[0m\u001b[0;34m(\u001b[0m\u001b[0mM_PROBABILITY\u001b[0m\u001b[0;34m,\u001b[0m \u001b[0mMUT_METHOD\u001b[0m\u001b[0;34m,\u001b[0m \u001b[0mchromosomes\u001b[0m\u001b[0;34m,\u001b[0m \u001b[0moptim_values\u001b[0m\u001b[0;34m)\u001b[0m\u001b[0;34m\u001b[0m\u001b[0;34m\u001b[0m\u001b[0m\n",
      "\u001b[0;32m<ipython-input-20-09e0221db991>\u001b[0m in \u001b[0;36mcrossover_chromosomes\u001b[0;34m(x_probability, x_method, selection_method, population, optim, encoding)\u001b[0m\n\u001b[1;32m      1\u001b[0m \u001b[0;32mdef\u001b[0m \u001b[0mcrossover_chromosomes\u001b[0m\u001b[0;34m(\u001b[0m\u001b[0mx_probability\u001b[0m\u001b[0;34m,\u001b[0m \u001b[0mx_method\u001b[0m\u001b[0;34m,\u001b[0m \u001b[0mselection_method\u001b[0m\u001b[0;34m,\u001b[0m \u001b[0mpopulation\u001b[0m\u001b[0;34m,\u001b[0m \u001b[0moptim\u001b[0m\u001b[0;34m,\u001b[0m \u001b[0mencoding\u001b[0m\u001b[0;34m)\u001b[0m\u001b[0;34m:\u001b[0m\u001b[0;34m\u001b[0m\u001b[0;34m\u001b[0m\u001b[0m\n\u001b[0;32m----> 2\u001b[0;31m     \u001b[0mparent_pairs\u001b[0m \u001b[0;34m=\u001b[0m \u001b[0mselect_chromosomes\u001b[0m\u001b[0;34m(\u001b[0m\u001b[0mselection_method\u001b[0m\u001b[0;34m,\u001b[0m \u001b[0mpopulation\u001b[0m\u001b[0;34m,\u001b[0m \u001b[0moptim\u001b[0m\u001b[0;34m)\u001b[0m\u001b[0;34m\u001b[0m\u001b[0;34m\u001b[0m\u001b[0m\n\u001b[0m\u001b[1;32m      3\u001b[0m     \u001b[0mpopulation_hat\u001b[0m \u001b[0;34m=\u001b[0m \u001b[0;32mNone\u001b[0m\u001b[0;34m\u001b[0m\u001b[0;34m\u001b[0m\u001b[0m\n\u001b[1;32m      4\u001b[0m     \u001b[0;32mif\u001b[0m \u001b[0mx_method\u001b[0m \u001b[0;34m==\u001b[0m \u001b[0;34m'single point'\u001b[0m\u001b[0;34m:\u001b[0m\u001b[0;34m\u001b[0m\u001b[0;34m\u001b[0m\u001b[0m\n\u001b[1;32m      5\u001b[0m         \u001b[0mpopulation_hat\u001b[0m \u001b[0;34m=\u001b[0m \u001b[0msingle_point_crossover\u001b[0m\u001b[0;34m(\u001b[0m\u001b[0mparent_pairs\u001b[0m\u001b[0;34m,\u001b[0m \u001b[0mx_probability\u001b[0m\u001b[0;34m)\u001b[0m\u001b[0;34m\u001b[0m\u001b[0;34m\u001b[0m\u001b[0m\n",
      "\u001b[0;32m<ipython-input-14-a0b02b37b200>\u001b[0m in \u001b[0;36mselect_chromosomes\u001b[0;34m(selection_method, population, optim)\u001b[0m\n\u001b[1;32m      6\u001b[0m         \u001b[0mparent_pairs\u001b[0m \u001b[0;34m=\u001b[0m \u001b[0mrank_selection\u001b[0m\u001b[0;34m(\u001b[0m\u001b[0mpopulation\u001b[0m\u001b[0;34m,\u001b[0m \u001b[0moptim\u001b[0m\u001b[0;34m)\u001b[0m\u001b[0;34m\u001b[0m\u001b[0;34m\u001b[0m\u001b[0m\n\u001b[1;32m      7\u001b[0m     \u001b[0;32melif\u001b[0m \u001b[0mselection_method\u001b[0m \u001b[0;34m==\u001b[0m \u001b[0;34m'tournament'\u001b[0m\u001b[0;34m:\u001b[0m\u001b[0;34m\u001b[0m\u001b[0;34m\u001b[0m\u001b[0m\n\u001b[0;32m----> 8\u001b[0;31m         \u001b[0mparent_pairs\u001b[0m \u001b[0;34m=\u001b[0m \u001b[0mtournament_selection\u001b[0m\u001b[0;34m(\u001b[0m\u001b[0mpopulation\u001b[0m\u001b[0;34m,\u001b[0m \u001b[0moptim\u001b[0m\u001b[0;34m)\u001b[0m\u001b[0;34m\u001b[0m\u001b[0;34m\u001b[0m\u001b[0m\n\u001b[0m\u001b[1;32m      9\u001b[0m     \u001b[0;32melse\u001b[0m\u001b[0;34m:\u001b[0m\u001b[0;34m\u001b[0m\u001b[0;34m\u001b[0m\u001b[0m\n\u001b[1;32m     10\u001b[0m         \u001b[0mprint\u001b[0m\u001b[0;34m(\u001b[0m\u001b[0;34m'Error [1]: Invalid selection method\\nExiting...'\u001b[0m\u001b[0;34m)\u001b[0m\u001b[0;34m\u001b[0m\u001b[0;34m\u001b[0m\u001b[0m\n",
      "\u001b[0;32m<ipython-input-13-d9ecd65023db>\u001b[0m in \u001b[0;36mtournament_selection\u001b[0;34m(population, optim)\u001b[0m\n\u001b[1;32m     15\u001b[0m         \u001b[0;32melse\u001b[0m\u001b[0;34m:\u001b[0m\u001b[0;34m\u001b[0m\u001b[0;34m\u001b[0m\u001b[0m\n\u001b[1;32m     16\u001b[0m             \u001b[0mparents\u001b[0m\u001b[0;34m[\u001b[0m\u001b[0mi\u001b[0m\u001b[0;34m]\u001b[0m \u001b[0;34m=\u001b[0m \u001b[0mnumpy\u001b[0m\u001b[0;34m.\u001b[0m\u001b[0mwhere\u001b[0m\u001b[0;34m(\u001b[0m\u001b[0mpearsons\u001b[0m \u001b[0;34m==\u001b[0m \u001b[0mevaluation\u001b[0m\u001b[0;34m)\u001b[0m\u001b[0;34m[\u001b[0m\u001b[0;36m0\u001b[0m\u001b[0;34m]\u001b[0m\u001b[0;34m\u001b[0m\u001b[0;34m\u001b[0m\u001b[0m\n\u001b[0;32m---> 17\u001b[0;31m     \u001b[0;32mreturn\u001b[0m \u001b[0mindex_to_chromosome_decode\u001b[0m\u001b[0;34m(\u001b[0m\u001b[0mparents\u001b[0m\u001b[0;34m,\u001b[0m \u001b[0mpopulation\u001b[0m\u001b[0;34m)\u001b[0m\u001b[0;34m\u001b[0m\u001b[0;34m\u001b[0m\u001b[0m\n\u001b[0m",
      "\u001b[0;32m<ipython-input-10-27ea0255613a>\u001b[0m in \u001b[0;36mindex_to_chromosome_decode\u001b[0;34m(idx, population)\u001b[0m\n\u001b[1;32m     15\u001b[0m         \u001b[0;32melse\u001b[0m\u001b[0;34m:\u001b[0m\u001b[0;34m\u001b[0m\u001b[0;34m\u001b[0m\u001b[0m\n\u001b[1;32m     16\u001b[0m             \u001b[0;31m# after first time, stack chromosomes to the generation population\u001b[0m\u001b[0;34m\u001b[0m\u001b[0;34m\u001b[0m\u001b[0;34m\u001b[0m\u001b[0m\n\u001b[0;32m---> 17\u001b[0;31m             \u001b[0mgeneration\u001b[0m \u001b[0;34m=\u001b[0m \u001b[0mnumpy\u001b[0m\u001b[0;34m.\u001b[0m\u001b[0mvstack\u001b[0m\u001b[0;34m(\u001b[0m\u001b[0;34m(\u001b[0m\u001b[0mgeneration\u001b[0m\u001b[0;34m,\u001b[0m \u001b[0mnumpy\u001b[0m\u001b[0;34m.\u001b[0m\u001b[0mstack\u001b[0m\u001b[0;34m(\u001b[0m\u001b[0;34m(\u001b[0m\u001b[0mX\u001b[0m\u001b[0;34m,\u001b[0m \u001b[0mY\u001b[0m\u001b[0;34m)\u001b[0m\u001b[0;34m)\u001b[0m\u001b[0;34m)\u001b[0m\u001b[0;34m)\u001b[0m\u001b[0;34m\u001b[0m\u001b[0;34m\u001b[0m\u001b[0m\n\u001b[0m\u001b[1;32m     18\u001b[0m     \u001b[0;31m# reshape matrix\u001b[0m\u001b[0;34m\u001b[0m\u001b[0;34m\u001b[0m\u001b[0;34m\u001b[0m\u001b[0m\n\u001b[1;32m     19\u001b[0m     \u001b[0mpopulation\u001b[0m \u001b[0;34m=\u001b[0m \u001b[0mnumpy\u001b[0m\u001b[0;34m.\u001b[0m\u001b[0mzeros\u001b[0m\u001b[0;34m(\u001b[0m\u001b[0;34m(\u001b[0m\u001b[0mint\u001b[0m\u001b[0;34m(\u001b[0m\u001b[0mgeneration\u001b[0m\u001b[0;34m.\u001b[0m\u001b[0mshape\u001b[0m\u001b[0;34m[\u001b[0m\u001b[0;36m0\u001b[0m\u001b[0;34m]\u001b[0m\u001b[0;34m/\u001b[0m\u001b[0;36m2\u001b[0m\u001b[0;34m)\u001b[0m\u001b[0;34m,\u001b[0m \u001b[0;36m2\u001b[0m\u001b[0;34m,\u001b[0m \u001b[0mgeneration\u001b[0m\u001b[0;34m[\u001b[0m\u001b[0;36m0\u001b[0m\u001b[0;34m]\u001b[0m\u001b[0;34m.\u001b[0m\u001b[0mshape\u001b[0m\u001b[0;34m[\u001b[0m\u001b[0;36m0\u001b[0m\u001b[0;34m]\u001b[0m\u001b[0;34m)\u001b[0m\u001b[0;34m,\u001b[0m \u001b[0mdtype\u001b[0m\u001b[0;34m=\u001b[0m\u001b[0mnumpy\u001b[0m\u001b[0;34m.\u001b[0m\u001b[0mint64\u001b[0m\u001b[0;34m)\u001b[0m\u001b[0;34m\u001b[0m\u001b[0;34m\u001b[0m\u001b[0m\n",
      "\u001b[0;32m<__array_function__ internals>\u001b[0m in \u001b[0;36mvstack\u001b[0;34m(*args, **kwargs)\u001b[0m\n",
      "\u001b[0;32m~/anaconda3/lib/python3.7/site-packages/numpy/core/shape_base.py\u001b[0m in \u001b[0;36mvstack\u001b[0;34m(tup)\u001b[0m\n\u001b[1;32m    281\u001b[0m     \u001b[0;32mif\u001b[0m \u001b[0;32mnot\u001b[0m \u001b[0misinstance\u001b[0m\u001b[0;34m(\u001b[0m\u001b[0marrs\u001b[0m\u001b[0;34m,\u001b[0m \u001b[0mlist\u001b[0m\u001b[0;34m)\u001b[0m\u001b[0;34m:\u001b[0m\u001b[0;34m\u001b[0m\u001b[0;34m\u001b[0m\u001b[0m\n\u001b[1;32m    282\u001b[0m         \u001b[0marrs\u001b[0m \u001b[0;34m=\u001b[0m \u001b[0;34m[\u001b[0m\u001b[0marrs\u001b[0m\u001b[0;34m]\u001b[0m\u001b[0;34m\u001b[0m\u001b[0;34m\u001b[0m\u001b[0m\n\u001b[0;32m--> 283\u001b[0;31m     \u001b[0;32mreturn\u001b[0m \u001b[0m_nx\u001b[0m\u001b[0;34m.\u001b[0m\u001b[0mconcatenate\u001b[0m\u001b[0;34m(\u001b[0m\u001b[0marrs\u001b[0m\u001b[0;34m,\u001b[0m \u001b[0;36m0\u001b[0m\u001b[0;34m)\u001b[0m\u001b[0;34m\u001b[0m\u001b[0;34m\u001b[0m\u001b[0m\n\u001b[0m\u001b[1;32m    284\u001b[0m \u001b[0;34m\u001b[0m\u001b[0m\n\u001b[1;32m    285\u001b[0m \u001b[0;34m\u001b[0m\u001b[0m\n",
      "\u001b[0;32m<__array_function__ internals>\u001b[0m in \u001b[0;36mconcatenate\u001b[0;34m(*args, **kwargs)\u001b[0m\n",
      "\u001b[0;31mKeyboardInterrupt\u001b[0m: "
     ]
    },
    {
     "data": {
      "image/png": "[encoded data removed]",
      "text/plain": [
       "<Figure size 432x288 with 1 Axes>"
      ]
     },
     "metadata": {
      "needs_background": "light"
     },
     "output_type": "display_data"
    }
   ],
   "source": [
    "if __name__ == '__main__':\n",
    "    main()"
   ]
  },
  {
   "cell_type": "code",
   "execution_count": null,
   "metadata": {},
   "outputs": [],
   "source": []
  }
 ],
 "metadata": {
  "kernelspec": {
   "display_name": "Python 3",
   "language": "python",
   "name": "python3"
  },
  "language_info": {
   "codemirror_mode": {
    "name": "ipython",
    "version": 3
   },
   "file_extension": ".py",
   "mimetype": "text/x-python",
   "name": "python",
   "nbconvert_exporter": "python",
   "pygments_lexer": "ipython3",
   "version": "3.7.6"
  }
 },
 "nbformat": 4,
 "nbformat_minor": 4
}
