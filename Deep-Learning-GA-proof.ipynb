{
 "cells": [
  {
   "cell_type": "code",
   "execution_count": 1,
   "metadata": {},
   "outputs": [],
   "source": [
    "import tqdm\n",
    "import numpy\n",
    "import pandas\n",
    "import scipy.spatial"
   ]
  },
  {
   "cell_type": "code",
   "execution_count": 2,
   "metadata": {},
   "outputs": [],
   "source": [
    "numpy.random.seed(42)"
   ]
  },
  {
   "cell_type": "code",
   "execution_count": 3,
   "metadata": {},
   "outputs": [],
   "source": [
    "CROSSOVER_PROBABILITY = 0.9\n",
    "MUTATION_PROBABILITY = 0.5\n",
    "POPULATION_SIZE = 10\n",
    "GENERATIONS = 5\n",
    "GENES = 10"
   ]
  },
  {
   "cell_type": "code",
   "execution_count": 4,
   "metadata": {},
   "outputs": [],
   "source": [
    "def evaluate_chromosome(chromosome, optim):\n",
    "    # number of common elements between chromosomes\n",
    "    return len(numpy.where(chromosome == optim)[0])"
   ]
  },
  {
   "cell_type": "code",
   "execution_count": 5,
   "metadata": {},
   "outputs": [],
   "source": [
    "# returns index of elite chromosome\n",
    "def get_elite_chromosome(population, optim):\n",
    "    idx, max_val = 0, 0\n",
    "    for i in range(population.shape[0]):\n",
    "        val = evaluate_chromosome(population[i], optim)\n",
    "        if max_val < val:\n",
    "            idx = i\n",
    "            max_val = val\n",
    "    return idx"
   ]
  },
  {
   "cell_type": "code",
   "execution_count": 6,
   "metadata": {},
   "outputs": [],
   "source": [
    "def gauss_replacement(chromosome):\n",
    "    # define number of genes\n",
    "    idx_interval = chromosome.shape[0]\n",
    "    # generate random gaussian distribution\n",
    "    GAUSSIAN = numpy.random.normal(loc=3, scale=2.0, size=chromosome.shape[0]).astype(numpy.int64)\n",
    "    # fix lower numbers\n",
    "    GAUSSIAN[GAUSSIAN < 1] = 1\n",
    "    # fix higher numbers\n",
    "    GAUSSIAN[GAUSSIAN > 5] = 5\n",
    "    # define mutated array\n",
    "    mutated_chromosome = numpy.zeros(idx_interval, dtype=numpy.int64)\n",
    "    # define random generator for gene mutation decision\n",
    "    SEQUENCE = numpy.random.uniform(0, 1, idx_interval)\n",
    "    for i in range(idx_interval):\n",
    "        # mutate gene with respect to current SEQUENCE probability\n",
    "        if SEQUENCE[i] > 0.5:\n",
    "            # probability valid, MUTATE\n",
    "            mutated_chromosome[i] = GAUSSIAN[i]\n",
    "        else:\n",
    "            # probability inadequate, NO MUTATION\n",
    "            mutated_chromosome[i] = chromosome[i]\n",
    "    return mutated_chromosome"
   ]
  },
  {
   "cell_type": "code",
   "execution_count": 7,
   "metadata": {},
   "outputs": [],
   "source": [
    "def elitism(population, m_probability, optim):\n",
    "    SEQUENCE = numpy.random.uniform(0, 1, population.shape[0])\n",
    "    mutated_population, mutated_chromosome = None, None\n",
    "    elite_chromosome_idx = get_elite_chromosome(population, optim)\n",
    "    for i in range(population.shape[0]):\n",
    "        chromosome = population[i]\n",
    "        if SEQUENCE[i] < m_probability and i != elite_chromosome_idx:\n",
    "            # mutate chromosome\n",
    "            mutated_chromosome = gauss_replacement(chromosome)\n",
    "            # append chromosomes to the mutated population\n",
    "            if i == 0:\n",
    "                # if loop run for first time, then initialize the generation population\n",
    "                mutated_population = mutated_chromosome\n",
    "            else:\n",
    "                # after first time, stack chromosomes to the generation population\n",
    "                mutated_population = numpy.vstack((mutated_population, mutated_chromosome))\n",
    "        else:\n",
    "            # NO mutation\n",
    "            # append chromosomes to the mutated population\n",
    "            if i == 0:\n",
    "                # if loop run for first time, then initialize the generation population\n",
    "                mutated_population = chromosome\n",
    "            else:\n",
    "                # after first time, stack chromosomes to the generation population\n",
    "                mutated_population = numpy.vstack((mutated_population, chromosome))\n",
    "    print('Mutated Population: \\n', mutated_population)\n",
    "    return mutated_population"
   ]
  },
  {
   "cell_type": "code",
   "execution_count": 8,
   "metadata": {},
   "outputs": [],
   "source": [
    "# function that converts parent indeces to the actual population: returns parent pairs [for 10 neighbors: outputs matrix(2x5)]\n",
    "def index_to_chromosome_decode(idx, population):\n",
    "    # reshape indeces to handle them easier [with population size = 10, idx is reshaped to: matrix(5,2)]\n",
    "    idx = idx.reshape(int(population.shape[0]/2), 2)\n",
    "    # define the generation population\n",
    "    generation = None\n",
    "    # convert given indeces to chromosomes \n",
    "    for i in range(int(population.shape[0]/2)):\n",
    "        # extract 2 indeces\n",
    "        X, Y = population[idx[i]]\n",
    "        # stack the chromosomes\n",
    "        if i == 0:\n",
    "            # if loop run for first time, then initialize the generation population\n",
    "            generation = numpy.stack((X, Y))\n",
    "        else:\n",
    "            # after first time, stack chromosomes to the generation population\n",
    "            generation = numpy.vstack((generation, numpy.stack((X, Y))))\n",
    "    # reshape matrix\n",
    "    population = numpy.zeros((int(generation.shape[0]/2), 2, generation[0].shape[0]), dtype=numpy.int64)\n",
    "    for i in range(population.shape[0]):\n",
    "        for j in range(population.shape[1]):\n",
    "            population[i][j] = generation[i * 2 + j]\n",
    "    print('Index to Chromosome: \\n', population)\n",
    "    return population"
   ]
  },
  {
   "cell_type": "code",
   "execution_count": 9,
   "metadata": {},
   "outputs": [],
   "source": [
    "def tournament_selection(population, optim):\n",
    "    # initialize random sequence\n",
    "    SEQUENCE = numpy.random.uniform(0, 1, population.shape[0])\n",
    "    # get pearsons\n",
    "    pearsons = numpy.empty((population.shape[0]), dtype=numpy.int64)\n",
    "    pearsons = numpy.fromiter((evaluate_chromosome(population[i], optim) for i in range(population.shape[0])), pearsons.dtype)\n",
    "    # get parents\n",
    "    parents = numpy.empty(population.shape[0], dtype=numpy.int64)\n",
    "    print('Population: \\n', population)\n",
    "    for i in range(population.shape[0]):\n",
    "        k = numpy.ceil(SEQUENCE[i] * 10).astype(numpy.int64)\n",
    "        chromosome_pointers = numpy.random.choice(numpy.arange(population.shape[0]), k)\n",
    "        evaluation = pearsons[chromosome_pointers].max()\n",
    "        if len(numpy.where(pearsons == evaluation)[0]) > 1:\n",
    "            parents[i] = numpy.where(pearsons == evaluation)[0][0]\n",
    "        else:\n",
    "            parents[i] = numpy.where(pearsons == evaluation)[0]\n",
    "        print('Iteration:\\t{:>3} \\tPossible parents:\\t{:>25} \\tSelected:\\t{:>3}'.format(i, numpy.array_str(chromosome_pointers), parents[i]))\n",
    "    print('All selected parent indeces: ', parents)\n",
    "    return index_to_chromosome_decode(parents, population)"
   ]
  },
  {
   "cell_type": "code",
   "execution_count": 10,
   "metadata": {},
   "outputs": [],
   "source": [
    "def multiple_point_crossover(parent_pairs, x_probability):\n",
    "    # define random probability sequence\n",
    "    SEQUENCE = numpy.random.uniform(0, 1, parent_pairs.shape[0])\n",
    "    # define new generation population variable\n",
    "    population_hat = None\n",
    "    # perform single point crossover \n",
    "    for i in range(parent_pairs.shape[0]):\n",
    "        X, Y = parent_pairs[i]\n",
    "        # define max index boundary\n",
    "        chromosome_shape = X.shape[0]\n",
    "        # initialize new chromosome\n",
    "        a, b = numpy.zeros((2, chromosome_shape), dtype=numpy.int64)\n",
    "        # crossover random point\n",
    "        x_idx, y_idx = numpy.sort(numpy.random.randint(0, chromosome_shape, 2))\n",
    "        # first child chromosome\n",
    "        a = numpy.concatenate((X[ :x_idx], Y[x_idx:y_idx], X[y_idx: ]))\n",
    "        # second child chromosome\n",
    "        b = numpy.concatenate((Y[ :x_idx], X[x_idx:y_idx], Y[y_idx: ]))\n",
    "        # crossover with respect to the crosover probability\n",
    "        if SEQUENCE[i] < x_probability:\n",
    "            # append children to form the new population\n",
    "            if i == 0:\n",
    "                # if loop run for first time, then initialize the generation population\n",
    "                population_hat = numpy.stack((a, b))\n",
    "            else:\n",
    "                # after first time, stack chromosomes to the generation population\n",
    "                population_hat = numpy.vstack((population_hat, numpy.stack((a, b))))\n",
    "        else:\n",
    "            # append parents to the new population\n",
    "            if i == 0:\n",
    "                # if loop run for first time, then initialize the generation population\n",
    "                population_hat = numpy.stack((X, Y))\n",
    "            else:\n",
    "                # after first time, stack chromosomes to the generation population\n",
    "                population_hat = numpy.vstack((population_hat, numpy.stack((X, Y))))\n",
    "    print('Population after Crossover: \\n', population_hat)\n",
    "    return population_hat"
   ]
  },
  {
   "cell_type": "code",
   "execution_count": 11,
   "metadata": {},
   "outputs": [],
   "source": [
    "# define optim\n",
    "optim = numpy.random.choice((numpy.arange(5)+1), GENES)"
   ]
  },
  {
   "cell_type": "code",
   "execution_count": 12,
   "metadata": {},
   "outputs": [],
   "source": [
    "# define population (size 20x20)\n",
    "population = numpy.random.choice(numpy.unique(optim), (POPULATION_SIZE, optim.shape[0]))"
   ]
  },
  {
   "cell_type": "code",
   "execution_count": 13,
   "metadata": {},
   "outputs": [],
   "source": [
    "population_hat = population"
   ]
  },
  {
   "cell_type": "code",
   "execution_count": 14,
   "metadata": {},
   "outputs": [],
   "source": [
    "universe_population = numpy.zeros((GENERATIONS, POPULATION_SIZE, GENES), dtype=numpy.int64)"
   ]
  },
  {
   "cell_type": "code",
   "execution_count": 15,
   "metadata": {},
   "outputs": [],
   "source": [
    "universe_evaluation = numpy.zeros((GENERATIONS, POPULATION_SIZE), dtype=numpy.int64)"
   ]
  },
  {
   "cell_type": "code",
   "execution_count": 16,
   "metadata": {},
   "outputs": [
    {
     "name": "stderr",
     "output_type": "stream",
     "text": [
      "/home/andreas/anaconda3/lib/python3.7/site-packages/ipykernel_launcher.py:2: TqdmDeprecationWarning: This function will be removed in tqdm==5.0.0\n",
      "Please use `tqdm.notebook.tqdm` instead of `tqdm.tqdm_notebook`\n",
      "  \n"
     ]
    },
    {
     "data": {
      "application/vnd.jupyter.widget-view+json": {
       "model_id": "9a177088cf4b4ac8b03f3217fcb5ffd0",
       "version_major": 2,
       "version_minor": 0
      },
      "text/plain": [
       "HBox(children=(FloatProgress(value=0.0, max=5.0), HTML(value='')))"
      ]
     },
     "metadata": {},
     "output_type": "display_data"
    },
    {
     "name": "stdout",
     "output_type": "stream",
     "text": [
      "Population: \n",
      " [[5 5 5 4 3 2 3 5 5 3]\n",
      " [3 3 5 5 2 2 5 3 3 2]\n",
      " [5 2 2 4 4 4 3 5 5 5]\n",
      " [5 4 3 3 4 3 4 5 4 5]\n",
      " [5 2 4 2 4 4 2 2 4 3]\n",
      " [5 2 5 3 3 3 2 3 2 3]\n",
      " [5 5 4 5 4 5 2 5 4 4]\n",
      " [3 2 5 3 5 5 3 3 3 3]\n",
      " [3 5 3 2 4 3 3 5 3 3]\n",
      " [3 5 3 4 5 4 5 3 4 5]]\n",
      "Iteration:\t  0 \tPossible parents:\t                      [0] \tSelected:\t  0\n",
      "Iteration:\t  1 \tPossible parents:\t                [8 6 8 7] \tSelected:\t  1\n",
      "Iteration:\t  2 \tPossible parents:\t                [0 7 7 2] \tSelected:\t  1\n",
      "Iteration:\t  3 \tPossible parents:\t                  [0 7 2] \tSelected:\t  1\n",
      "Iteration:\t  4 \tPossible parents:\t      [2 0 4 9 6 9 8 6 8] \tSelected:\t  9\n",
      "Iteration:\t  5 \tPossible parents:\t                [7 1 0 6] \tSelected:\t  1\n",
      "Iteration:\t  6 \tPossible parents:\t                  [6 7 4] \tSelected:\t  1\n",
      "Iteration:\t  7 \tPossible parents:\t            [2 7 5 2 0 2] \tSelected:\t  1\n",
      "Iteration:\t  8 \tPossible parents:\t                    [4 2] \tSelected:\t  2\n",
      "Iteration:\t  9 \tPossible parents:\t      [0 4 9 6 6 8 9 9 2] \tSelected:\t  9\n",
      "All selected parent indeces:  [0 1 1 1 9 1 1 1 2 9]\n",
      "Index to Chromosome: \n",
      " [[[5 5 5 4 3 2 3 5 5 3]\n",
      "  [3 3 5 5 2 2 5 3 3 2]]\n",
      "\n",
      " [[3 3 5 5 2 2 5 3 3 2]\n",
      "  [3 3 5 5 2 2 5 3 3 2]]\n",
      "\n",
      " [[3 5 3 4 5 4 5 3 4 5]\n",
      "  [3 3 5 5 2 2 5 3 3 2]]\n",
      "\n",
      " [[3 3 5 5 2 2 5 3 3 2]\n",
      "  [3 3 5 5 2 2 5 3 3 2]]\n",
      "\n",
      " [[5 2 2 4 4 4 3 5 5 5]\n",
      "  [3 5 3 4 5 4 5 3 4 5]]]\n",
      "Population after Crossover: \n",
      " [[5 5 5 4 3 2 3 5 5 3]\n",
      " [3 3 5 5 2 2 5 3 3 2]\n",
      " [3 3 5 5 2 2 5 3 3 2]\n",
      " [3 3 5 5 2 2 5 3 3 2]\n",
      " [3 5 5 5 2 4 5 3 4 5]\n",
      " [3 3 3 4 5 2 5 3 3 2]\n",
      " [3 3 5 5 2 2 5 3 3 2]\n",
      " [3 3 5 5 2 2 5 3 3 2]\n",
      " [5 2 2 4 4 4 3 5 5 5]\n",
      " [3 5 3 4 5 4 5 3 4 5]]\n",
      "Mutated Population: \n",
      " [[5 5 5 4 3 2 3 5 5 3]\n",
      " [3 3 5 5 2 2 5 3 3 2]\n",
      " [5 3 1 3 2 2 5 3 3 1]\n",
      " [3 3 5 5 2 2 5 3 3 2]\n",
      " [3 5 5 5 2 4 5 3 4 5]\n",
      " [3 3 3 4 5 2 5 3 3 2]\n",
      " [3 3 5 5 2 2 5 3 3 2]\n",
      " [1 3 3 5 1 2 3 3 4 2]\n",
      " [5 2 2 2 4 4 4 1 4 2]\n",
      " [3 5 1 4 5 1 4 5 4 4]]\n",
      "Population: \n",
      " [[5 5 5 4 3 2 3 5 5 3]\n",
      " [3 3 5 5 2 2 5 3 3 2]\n",
      " [5 3 1 3 2 2 5 3 3 1]\n",
      " [3 3 5 5 2 2 5 3 3 2]\n",
      " [3 5 5 5 2 4 5 3 4 5]\n",
      " [3 3 3 4 5 2 5 3 3 2]\n",
      " [3 3 5 5 2 2 5 3 3 2]\n",
      " [1 3 3 5 1 2 3 3 4 2]\n",
      " [5 2 2 2 4 4 4 1 4 2]\n",
      " [3 5 1 4 5 1 4 5 4 4]]\n",
      "Iteration:\t  0 \tPossible parents:\t                  [5 5 2] \tSelected:\t  5\n",
      "Iteration:\t  1 \tPossible parents:\t                [5 7 1 4] \tSelected:\t  5\n",
      "Iteration:\t  2 \tPossible parents:\t        [0 0 4 2 3 2 0 0] \tSelected:\t  1\n",
      "Iteration:\t  3 \tPossible parents:\t          [4 5 2 8 4 7 0] \tSelected:\t  5\n",
      "Iteration:\t  4 \tPossible parents:\t      [4 2 0 3 4 6 0 2 1] \tSelected:\t  1\n",
      "Iteration:\t  5 \tPossible parents:\t          [8 9 5 9 2 7 7] \tSelected:\t  5\n",
      "Iteration:\t  6 \tPossible parents:\t            [1 5 6 1 9 1] \tSelected:\t  5\n",
      "Iteration:\t  7 \tPossible parents:\t                      [9] \tSelected:\t  9\n",
      "Iteration:\t  8 \tPossible parents:\t                [0 7 0 8] \tSelected:\t  5\n",
      "Iteration:\t  9 \tPossible parents:\t                  [5 6 9] \tSelected:\t  5\n",
      "All selected parent indeces:  [5 5 1 5 1 5 5 9 5 5]\n",
      "Index to Chromosome: \n",
      " [[[3 3 3 4 5 2 5 3 3 2]\n",
      "  [3 3 3 4 5 2 5 3 3 2]]\n",
      "\n",
      " [[3 3 5 5 2 2 5 3 3 2]\n",
      "  [3 3 3 4 5 2 5 3 3 2]]\n",
      "\n",
      " [[3 3 5 5 2 2 5 3 3 2]\n",
      "  [3 3 3 4 5 2 5 3 3 2]]\n",
      "\n",
      " [[3 3 3 4 5 2 5 3 3 2]\n",
      "  [3 5 1 4 5 1 4 5 4 4]]\n",
      "\n",
      " [[3 3 3 4 5 2 5 3 3 2]\n",
      "  [3 3 3 4 5 2 5 3 3 2]]]\n",
      "Population after Crossover: \n",
      " [[3 3 3 4 5 2 5 3 3 2]\n",
      " [3 3 3 4 5 2 5 3 3 2]\n",
      " [3 3 3 5 2 2 5 3 3 2]\n",
      " [3 3 5 4 5 2 5 3 3 2]\n",
      " [3 3 3 4 5 2 5 3 3 2]\n",
      " [3 3 5 5 2 2 5 3 3 2]\n",
      " [3 3 3 4 5 2 5 3 3 2]\n",
      " [3 5 1 4 5 1 4 5 4 4]\n",
      " [3 3 3 4 5 2 5 3 3 2]\n",
      " [3 3 3 4 5 2 5 3 3 2]]\n",
      "Mutated Population: \n",
      " [[3 3 3 4 5 2 5 3 3 2]\n",
      " [4 3 3 4 5 1 5 3 3 2]\n",
      " [3 3 5 5 2 2 3 3 3 2]\n",
      " [3 3 5 4 5 2 5 3 3 2]\n",
      " [3 3 3 4 5 2 5 3 3 2]\n",
      " [3 3 5 5 2 2 5 3 3 2]\n",
      " [2 3 5 3 4 5 3 3 3 2]\n",
      " [2 5 1 4 5 5 1 5 2 1]\n",
      " [3 3 3 4 5 2 5 1 1 2]\n",
      " [3 3 3 4 5 2 5 3 3 2]]\n",
      "Population: \n",
      " [[3 3 3 4 5 2 5 3 3 2]\n",
      " [4 3 3 4 5 1 5 3 3 2]\n",
      " [3 3 5 5 2 2 3 3 3 2]\n",
      " [3 3 5 4 5 2 5 3 3 2]\n",
      " [3 3 3 4 5 2 5 3 3 2]\n",
      " [3 3 5 5 2 2 5 3 3 2]\n",
      " [2 3 5 3 4 5 3 3 3 2]\n",
      " [2 5 1 4 5 5 1 5 2 1]\n",
      " [3 3 3 4 5 2 5 1 1 2]\n",
      " [3 3 3 4 5 2 5 3 3 2]]\n",
      "Iteration:\t  0 \tPossible parents:\t    [8 6 4 9 9 6 9 4 2 6] \tSelected:\t  0\n",
      "Iteration:\t  1 \tPossible parents:\t          [1 8 9 9 0 5 6] \tSelected:\t  0\n",
      "Iteration:\t  2 \tPossible parents:\t              [7 9 8 1 9] \tSelected:\t  0\n",
      "Iteration:\t  3 \tPossible parents:\t              [1 4 4 5 2] \tSelected:\t  0\n",
      "Iteration:\t  4 \tPossible parents:\t                      [7] \tSelected:\t  7\n",
      "Iteration:\t  5 \tPossible parents:\t                      [0] \tSelected:\t  0\n",
      "Iteration:\t  6 \tPossible parents:\t          [5 3 0 6 8 3 3] \tSelected:\t  0\n",
      "Iteration:\t  7 \tPossible parents:\t            [5 2 5 6 9 9] \tSelected:\t  0\n",
      "Iteration:\t  8 \tPossible parents:\t                  [2 6 2] \tSelected:\t  0\n",
      "Iteration:\t  9 \tPossible parents:\t    [1 9 3 7 8 6 0 2 8 0] \tSelected:\t  0\n",
      "All selected parent indeces:  [0 0 0 0 7 0 0 0 0 0]\n",
      "Index to Chromosome: \n",
      " [[[3 3 3 4 5 2 5 3 3 2]\n",
      "  [3 3 3 4 5 2 5 3 3 2]]\n",
      "\n",
      " [[3 3 3 4 5 2 5 3 3 2]\n",
      "  [3 3 3 4 5 2 5 3 3 2]]\n",
      "\n",
      " [[2 5 1 4 5 5 1 5 2 1]\n",
      "  [3 3 3 4 5 2 5 3 3 2]]\n",
      "\n",
      " [[3 3 3 4 5 2 5 3 3 2]\n",
      "  [3 3 3 4 5 2 5 3 3 2]]\n",
      "\n",
      " [[3 3 3 4 5 2 5 3 3 2]\n",
      "  [3 3 3 4 5 2 5 3 3 2]]]\n",
      "Population after Crossover: \n",
      " [[3 3 3 4 5 2 5 3 3 2]\n",
      " [3 3 3 4 5 2 5 3 3 2]\n",
      " [3 3 3 4 5 2 5 3 3 2]\n",
      " [3 3 3 4 5 2 5 3 3 2]\n",
      " [2 5 3 4 5 5 1 5 2 1]\n",
      " [3 3 1 4 5 2 5 3 3 2]\n",
      " [3 3 3 4 5 2 5 3 3 2]\n",
      " [3 3 3 4 5 2 5 3 3 2]\n",
      " [3 3 3 4 5 2 5 3 3 2]\n",
      " [3 3 3 4 5 2 5 3 3 2]]\n",
      "Mutated Population: \n",
      " [[3 3 3 4 5 2 5 3 3 2]\n",
      " [3 3 3 4 1 2 5 3 1 2]\n",
      " [3 3 1 4 5 2 5 3 5 1]\n",
      " [3 3 3 4 5 2 5 3 3 2]\n",
      " [2 5 3 4 5 5 1 5 2 1]\n",
      " [3 3 5 4 5 2 5 3 1 2]\n",
      " [3 3 3 4 5 2 5 3 3 2]\n",
      " [3 3 3 4 5 2 5 3 3 2]\n",
      " [3 3 3 4 5 2 5 3 3 2]\n",
      " [1 5 3 2 5 2 3 3 3 3]]\n",
      "Population: \n",
      " [[3 3 3 4 5 2 5 3 3 2]\n",
      " [3 3 3 4 1 2 5 3 1 2]\n",
      " [3 3 1 4 5 2 5 3 5 1]\n",
      " [3 3 3 4 5 2 5 3 3 2]\n",
      " [2 5 3 4 5 5 1 5 2 1]\n",
      " [3 3 5 4 5 2 5 3 1 2]\n",
      " [3 3 3 4 5 2 5 3 3 2]\n",
      " [3 3 3 4 5 2 5 3 3 2]\n",
      " [3 3 3 4 5 2 5 3 3 2]\n",
      " [1 5 3 2 5 2 3 3 3 3]]\n",
      "Iteration:\t  0 \tPossible parents:\t        [2 8 6 6 5 7 3 7] \tSelected:\t  0\n",
      "Iteration:\t  1 \tPossible parents:\t              [3 7 8 2 2] \tSelected:\t  0\n",
      "Iteration:\t  2 \tPossible parents:\t      [1 9 2 2 4 4 1 9 5] \tSelected:\t  9\n",
      "Iteration:\t  3 \tPossible parents:\t        [4 5 0 4 8 9 1 0] \tSelected:\t  9\n",
      "Iteration:\t  4 \tPossible parents:\t                      [9] \tSelected:\t  9\n",
      "Iteration:\t  5 \tPossible parents:\t                      [8] \tSelected:\t  0\n",
      "Iteration:\t  6 \tPossible parents:\t          [9 8 8 5 7 0 9] \tSelected:\t  9\n",
      "Iteration:\t  7 \tPossible parents:\t                [3 0 7 0] \tSelected:\t  0\n",
      "Iteration:\t  8 \tPossible parents:\t                  [2 3 7] \tSelected:\t  0\n",
      "Iteration:\t  9 \tPossible parents:\t            [5 9 6 7 1 9] \tSelected:\t  9\n",
      "All selected parent indeces:  [0 0 9 9 9 0 9 0 0 9]\n",
      "Index to Chromosome: \n",
      " [[[3 3 3 4 5 2 5 3 3 2]\n",
      "  [3 3 3 4 5 2 5 3 3 2]]\n",
      "\n",
      " [[1 5 3 2 5 2 3 3 3 3]\n",
      "  [1 5 3 2 5 2 3 3 3 3]]\n",
      "\n",
      " [[1 5 3 2 5 2 3 3 3 3]\n",
      "  [3 3 3 4 5 2 5 3 3 2]]\n",
      "\n",
      " [[1 5 3 2 5 2 3 3 3 3]\n",
      "  [3 3 3 4 5 2 5 3 3 2]]\n",
      "\n",
      " [[3 3 3 4 5 2 5 3 3 2]\n",
      "  [1 5 3 2 5 2 3 3 3 3]]]\n",
      "Population after Crossover: \n",
      " [[3 3 3 4 5 2 5 3 3 2]\n",
      " [3 3 3 4 5 2 5 3 3 2]\n",
      " [1 5 3 2 5 2 3 3 3 3]\n",
      " [1 5 3 2 5 2 3 3 3 3]\n",
      " [1 5 3 4 5 2 5 3 3 3]\n",
      " [3 3 3 2 5 2 3 3 3 2]\n",
      " [1 5 3 2 5 2 3 3 3 3]\n",
      " [3 3 3 4 5 2 5 3 3 2]\n",
      " [3 3 3 4 5 2 3 3 3 2]\n",
      " [1 5 3 2 5 2 5 3 3 3]]\n",
      "Mutated Population: \n",
      " [[5 5 3 4 5 2 5 3 3 2]\n",
      " [1 4 3 2 5 2 5 1 3 2]\n",
      " [1 5 3 2 5 2 3 3 3 3]\n",
      " [1 4 1 2 5 2 2 2 1 3]\n",
      " [1 5 3 4 5 2 5 3 3 3]\n",
      " [3 3 3 2 5 2 3 3 3 2]\n",
      " [1 5 3 2 5 2 3 3 3 3]\n",
      " [3 3 3 4 5 2 5 3 3 2]\n",
      " [3 3 3 4 2 2 1 3 3 2]\n",
      " [5 1 3 2 2 4 4 3 1 3]]\n",
      "Population: \n",
      " [[5 5 3 4 5 2 5 3 3 2]\n",
      " [1 4 3 2 5 2 5 1 3 2]\n",
      " [1 5 3 2 5 2 3 3 3 3]\n",
      " [1 4 1 2 5 2 2 2 1 3]\n",
      " [1 5 3 4 5 2 5 3 3 3]\n",
      " [3 3 3 2 5 2 3 3 3 2]\n",
      " [1 5 3 2 5 2 3 3 3 3]\n",
      " [3 3 3 4 5 2 5 3 3 2]\n",
      " [3 3 3 4 2 2 1 3 3 2]\n",
      " [5 1 3 2 2 4 4 3 1 3]]\n",
      "Iteration:\t  0 \tPossible parents:\t                [3 7 3 7] \tSelected:\t  7\n",
      "Iteration:\t  1 \tPossible parents:\t                  [7 4 3] \tSelected:\t  0\n",
      "Iteration:\t  2 \tPossible parents:\t        [1 2 2 3 3 9 4 3] \tSelected:\t  2\n",
      "Iteration:\t  3 \tPossible parents:\t                      [9] \tSelected:\t  3\n",
      "Iteration:\t  4 \tPossible parents:\t            [7 5 5 7 6 9] \tSelected:\t  2\n",
      "Iteration:\t  5 \tPossible parents:\t        [9 7 1 8 0 7 3 3] \tSelected:\t  0\n",
      "Iteration:\t  6 \tPossible parents:\t      [4 7 4 7 9 0 9 8 5] \tSelected:\t  0\n",
      "Iteration:\t  7 \tPossible parents:\t                [2 7 8 5] \tSelected:\t  2\n",
      "Iteration:\t  8 \tPossible parents:\t      [6 0 4 4 9 3 5 6 8] \tSelected:\t  2\n",
      "Iteration:\t  9 \tPossible parents:\t                    [0 5] \tSelected:\t  0\n",
      "All selected parent indeces:  [7 0 2 3 2 0 0 2 2 0]\n",
      "Index to Chromosome: \n",
      " [[[3 3 3 4 5 2 5 3 3 2]\n",
      "  [5 5 3 4 5 2 5 3 3 2]]\n",
      "\n",
      " [[1 5 3 2 5 2 3 3 3 3]\n",
      "  [1 4 1 2 5 2 2 2 1 3]]\n",
      "\n",
      " [[1 5 3 2 5 2 3 3 3 3]\n",
      "  [5 5 3 4 5 2 5 3 3 2]]\n",
      "\n",
      " [[5 5 3 4 5 2 5 3 3 2]\n",
      "  [1 5 3 2 5 2 3 3 3 3]]\n",
      "\n",
      " [[1 5 3 2 5 2 3 3 3 3]\n",
      "  [5 5 3 4 5 2 5 3 3 2]]]\n",
      "Population after Crossover: \n",
      " [[3 3 3 4 5 2 5 3 3 2]\n",
      " [5 5 3 4 5 2 5 3 3 2]\n",
      " [1 5 3 2 5 2 2 2 1 3]\n",
      " [1 4 1 2 5 2 3 3 3 3]\n",
      " [1 5 3 4 5 2 5 3 3 3]\n",
      " [5 5 3 2 5 2 3 3 3 2]\n",
      " [5 5 3 2 5 2 3 3 3 2]\n",
      " [1 5 3 4 5 2 5 3 3 3]\n",
      " [1 5 3 2 5 2 5 3 3 3]\n",
      " [5 5 3 4 5 2 3 3 3 2]]\n",
      "Mutated Population: \n",
      " [[3 4 3 4 5 2 5 3 3 2]\n",
      " [5 5 5 1 5 2 5 1 3 2]\n",
      " [1 5 3 2 5 2 2 2 1 3]\n",
      " [1 4 1 4 5 2 3 3 3 5]\n",
      " [4 5 3 5 1 2 1 3 1 5]\n",
      " [5 5 3 2 5 2 3 3 3 2]\n",
      " [5 5 3 1 5 4 3 2 3 3]\n",
      " [1 4 3 4 5 2 1 3 4 3]\n",
      " [1 5 1 2 1 2 5 2 5 1]\n",
      " [4 1 1 2 5 2 3 1 3 2]]\n",
      "\n"
     ]
    }
   ],
   "source": [
    "# create GA fit loop\n",
    "for gen in tqdm.tqdm_notebook(range(GENERATIONS)):\n",
    "    parent_pairs = tournament_selection(population_hat, optim)\n",
    "    population_hat = multiple_point_crossover(parent_pairs, CROSSOVER_PROBABILITY)\n",
    "    population_hat = elitism(population_hat, MUTATION_PROBABILITY, optim)\n",
    "    universe_population[gen] = population_hat\n",
    "    universe_evaluation[gen] = numpy.fromiter((evaluate_chromosome(population_hat[i], optim) for i in range(population_hat.shape[0])), numpy.int64)\n",
    "    # if there is 80% accuracy, stop the GA \n",
    "    if universe_evaluation[gen].max() > 8:\n",
    "        break;"
   ]
  },
  {
   "cell_type": "code",
   "execution_count": 17,
   "metadata": {},
   "outputs": [],
   "source": [
    "similarity = numpy.zeros(population_hat.shape[0], dtype=numpy.int64)\n",
    "evaluations = numpy.zeros(population_hat.shape[0], dtype=numpy.int64)\n",
    "mse = numpy.zeros(population_hat.shape[0], dtype=numpy.int64)"
   ]
  },
  {
   "cell_type": "code",
   "execution_count": 18,
   "metadata": {},
   "outputs": [],
   "source": [
    "for i in range(similarity.shape[0]):\n",
    "    similarity[i] = 1 - scipy.spatial.distance.cosine(optim, population_hat[i])\n",
    "    evaluations[i] = evaluate_chromosome(population_hat[i], optim)\n",
    "    mse[i] = (numpy.square(optim - population_hat[i])).mean(axis=None)"
   ]
  },
  {
   "cell_type": "code",
   "execution_count": 19,
   "metadata": {},
   "outputs": [
    {
     "data": {
      "text/plain": [
       "0"
      ]
     },
     "execution_count": 19,
     "metadata": {},
     "output_type": "execute_result"
    }
   ],
   "source": [
    "similarity.max()"
   ]
  },
  {
   "cell_type": "code",
   "execution_count": 20,
   "metadata": {},
   "outputs": [
    {
     "data": {
      "text/plain": [
       "1"
      ]
     },
     "execution_count": 20,
     "metadata": {},
     "output_type": "execute_result"
    }
   ],
   "source": [
    "mse.min()"
   ]
  },
  {
   "cell_type": "code",
   "execution_count": 21,
   "metadata": {},
   "outputs": [
    {
     "data": {
      "text/plain": [
       "7"
      ]
     },
     "execution_count": 21,
     "metadata": {},
     "output_type": "execute_result"
    }
   ],
   "source": [
    "evaluations.max()"
   ]
  },
  {
   "cell_type": "code",
   "execution_count": 22,
   "metadata": {},
   "outputs": [
    {
     "data": {
      "text/plain": [
       "array([4, 5, 3, 5, 5, 2, 3, 3, 3, 5])"
      ]
     },
     "execution_count": 22,
     "metadata": {},
     "output_type": "execute_result"
    }
   ],
   "source": [
    "optim"
   ]
  },
  {
   "cell_type": "code",
   "execution_count": 23,
   "metadata": {},
   "outputs": [
    {
     "data": {
      "text/plain": [
       "4"
      ]
     },
     "execution_count": 23,
     "metadata": {},
     "output_type": "execute_result"
    }
   ],
   "source": [
    "evaluations.argmax()"
   ]
  },
  {
   "cell_type": "code",
   "execution_count": 24,
   "metadata": {},
   "outputs": [
    {
     "data": {
      "text/plain": [
       "array([4, 5, 3, 5, 1, 2, 1, 3, 1, 5])"
      ]
     },
     "execution_count": 24,
     "metadata": {},
     "output_type": "execute_result"
    }
   ],
   "source": [
    "population_hat[4]"
   ]
  },
  {
   "cell_type": "code",
   "execution_count": null,
   "metadata": {},
   "outputs": [],
   "source": []
  }
 ],
 "metadata": {
  "kernelspec": {
   "display_name": "Python 3",
   "language": "python",
   "name": "python3"
  },
  "language_info": {
   "codemirror_mode": {
    "name": "ipython",
    "version": 3
   },
   "file_extension": ".py",
   "mimetype": "text/x-python",
   "name": "python",
   "nbconvert_exporter": "python",
   "pygments_lexer": "ipython3",
   "version": "3.7.6"
  }
 },
 "nbformat": 4,
 "nbformat_minor": 4
}
